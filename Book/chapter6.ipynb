{
 "cells": [
  {
   "cell_type": "markdown",
   "id": "b6e4bfb6",
   "metadata": {},
   "source": [
    "#### Chapter 6\n",
    "# Data Loading, Storage, and File Formats"
   ]
  },
  {
   "cell_type": "markdown",
   "id": "84b43e33",
   "metadata": {},
   "source": [
    "- Reading data and making it accessible (often called data loading) is a necessary first\n",
    "step for using most of the tools in this book. The term parsing is also sometimes used\n",
    "to describe loading text data and interpreting it as tables and different data types. I’m\n",
    "going to focus on data input and output using pandas, though there are numerous\n",
    "tools in other libraries to help with reading and writing data in various formats.\n",
    "\n",
    "- Input and output typically fall into a few main categories: reading text files and other\n",
    "more efficient on-disk formats, loading data from databases, and interacting with\n",
    "network sources like web APIs."
   ]
  },
  {
   "cell_type": "markdown",
   "id": "a5d7abca",
   "metadata": {},
   "source": [
    "## 6.1 Reading and Writing Data in Text Format"
   ]
  },
  {
   "cell_type": "markdown",
   "id": "5b373850",
   "metadata": {},
   "source": [
    "pandas features a number of functions for reading tabular data as a DataFrame\n",
    "object. Table 6-1 summarizes some of them; pandas.read_csv is one of the most\n",
    "frequently used in this book. We will look at binary data formats later in Section 6.2,\n",
    "“Binary Data Formats,” on page 193."
   ]
  },
  {
   "cell_type": "markdown",
   "id": "19829a73",
   "metadata": {},
   "source": [
    "Function      | Description\n",
    "read_csv      |   Load delimited data from a file, URL, or file-like object; use comma as default \n",
    "                      delimiter\n",
    "read_fwf      |  Read data in fixed-width column format (i.e., no delimiters)\n",
    "read_clipboard|   Variation of read_csv that reads data from the clipboard; useful for converting \n",
    "                        tables from web pages\n",
    "\n",
    "read_excel    |  Read tabular data from an Excel XLS or XLSX file\n",
    "read_hdf      |  Read HDF5 files written by pandas\n",
    "read_html     |  Read all tables found in the given HTML document\n",
    "read_json     |  Read data from a JSON (JavaScript Object Notation) string representation,  \n",
    "                    file, URL, or file-like object\n",
    "read_feather  |   Read the Feather binary file format\n",
    "read_orc      |   Read the Apache ORC binary file format\n",
    "read_parquet  |   Read the Apache Parquet binary file format\n",
    "read_pickl e  |   Read an object stored by pandas using the Python pickle format\n",
    "read_sas      |   Read a SAS dataset stored in one of the SAS system’s custom storage formats\n",
    "read_spss     |   Read a data file created by SPSS\n",
    "read_sql      |   Read the results of a SQL query (using SQLAlchemy)\n",
    "read_sql_table|   Read a whole SQL table (using SQLAlchemy); equivalent to using a query        \n",
    "                    that selects everything inthat table using read_sql\n",
    "read_stata    |    Read a dataset from Stata file format\n",
    "read_xml      |    Read a table of data from an XML file"
   ]
  },
  {
   "cell_type": "markdown",
   "id": "82d6480f",
   "metadata": {},
   "source": []
  }
 ],
 "metadata": {
  "language_info": {
   "name": "python"
  }
 },
 "nbformat": 4,
 "nbformat_minor": 5
}
