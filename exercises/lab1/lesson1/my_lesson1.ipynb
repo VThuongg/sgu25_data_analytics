{
 "cells": [
  {
   "cell_type": "markdown",
   "id": "fc067937-317c-4d92-b97c-1100c5da60de",
   "metadata": {},
   "source": [
    "# Thuc hanh Phan tich du lieu Buoi 1\n",
    "\n",
    "## Noi dung thuc hanh"
   ]
  },
  {
   "cell_type": "markdown",
   "id": "96b003a6-77ea-48e9-a993-38a2b1f5c124",
   "metadata": {},
   "source": [
    "### In chu ra man hinh"
   ]
  },
  {
   "cell_type": "code",
   "execution_count": 2,
   "id": "79cbc9f9-bd90-4daf-9c4f-a21fb4f08261",
   "metadata": {},
   "outputs": [
    {
     "name": "stdout",
     "output_type": "stream",
     "text": [
      "Hello, Python World!\n"
     ]
    }
   ],
   "source": [
    "# lenh 1 - xuat chu\n",
    "print(\"Hello, Python World!\")"
   ]
  },
  {
   "cell_type": "markdown",
   "id": "8a067711-fa70-4d23-b568-986dd8a5f111",
   "metadata": {},
   "source": [
    "### Chay tap tin python"
   ]
  },
  {
   "cell_type": "code",
   "execution_count": 5,
   "id": "1a36115c-de97-4100-bcde-8ed230fad8e6",
   "metadata": {},
   "outputs": [
    {
     "name": "stdout",
     "output_type": "stream",
     "text": [
      "Hello, Python World!\n"
     ]
    }
   ],
   "source": [
    "!python ex0_hello_world.py"
   ]
  },
  {
   "cell_type": "code",
   "execution_count": 7,
   "id": "5295c1a9-ad98-41da-82cc-133bed92214d",
   "metadata": {},
   "outputs": [
    {
     "name": "stdout",
     "output_type": "stream",
     "text": [
      "Hello, Python World!\n"
     ]
    }
   ],
   "source": [
    "%run ex0_hello_world.py"
   ]
  },
  {
   "cell_type": "markdown",
   "id": "1ae4a640-c5bd-4b6b-8e4b-51dcbb6c577c",
   "metadata": {},
   "source": [
    "### Tinh toan don gian"
   ]
  },
  {
   "cell_type": "code",
   "execution_count": 11,
   "id": "92c98505-8a64-4c3a-a1bc-4a41c2656591",
   "metadata": {},
   "outputs": [
    {
     "name": "stdout",
     "output_type": "stream",
     "text": [
      "Calculator Basic\n"
     ]
    },
    {
     "name": "stdin",
     "output_type": "stream",
     "text": [
      "Moi ban nhap so a:  10\n",
      "Moi ban nhap so b:  20\n"
     ]
    },
    {
     "name": "stdout",
     "output_type": "stream",
     "text": [
      "c = 10 + 20 = 30\n"
     ]
    }
   ],
   "source": [
    "%run ex1_calc.py"
   ]
  },
  {
   "cell_type": "code",
   "execution_count": 12,
   "id": "aa231910-18ab-4126-9a07-4ec4f11945de",
   "metadata": {},
   "outputs": [
    {
     "name": "stdout",
     "output_type": "stream",
     "text": [
      "Calculator Basic\n"
     ]
    },
    {
     "name": "stdin",
     "output_type": "stream",
     "text": [
      "Moi ban nhap so a:  10\n",
      "Moi ban nhap so b:  10\n"
     ]
    },
    {
     "name": "stdout",
     "output_type": "stream",
     "text": [
      "c = 10 + 10 = 20\n"
     ]
    }
   ],
   "source": [
    "print(\"Calculator Basic\")\n",
    "a = int(input(\"Moi ban nhap so a: \"))\n",
    "b = int(input(\"Moi ban nhap so b: \"))\n",
    "c = a + b\n",
    "print(\"c = %d + %d = %d\" % (a, b, c))"
   ]
  },
  {
   "cell_type": "markdown",
   "id": "a2a07153-8d0d-4b23-9668-1ce076f63b3f",
   "metadata": {},
   "source": [
    "### Tinh chu vi và dien tich hinh tron"
   ]
  },
  {
   "cell_type": "code",
   "execution_count": 3,
   "id": "e21fc501-4a8e-4a5c-88c7-3c6ed02d2cb9",
   "metadata": {},
   "outputs": [
    {
     "name": "stdin",
     "output_type": "stream",
     "text": [
      "Nhập bán kính r:  3\n"
     ]
    },
    {
     "name": "stdout",
     "output_type": "stream",
     "text": [
      "Chu vi hình tròn là:  18.84955592153876\n",
      "Diện tích hình tròn là:  28.274333882308138\n"
     ]
    }
   ],
   "source": [
    "%run ex3_circle.py"
   ]
  },
  {
   "cell_type": "code",
   "execution_count": 5,
   "id": "315920e5-90ff-4316-9318-06ae85424b29",
   "metadata": {},
   "outputs": [
    {
     "name": "stdin",
     "output_type": "stream",
     "text": [
      "Nhập bán kính r:  3\n"
     ]
    },
    {
     "name": "stdout",
     "output_type": "stream",
     "text": [
      "Chu vi hình tròn là:  18.84955592153876\n",
      "Diện tích hình tròn là:  28.274333882308138\n"
     ]
    }
   ],
   "source": [
    "import numpy as np\n",
    "r = int(input(\"Nhập bán kính r: \"))\n",
    "cv = 2*np.pi*r\n",
    "dt = np.pi*r*r\n",
    "print(\"Chu vi hình tròn là: \", cv)\n",
    "print(\"Diện tích hình tròn là: \", dt)"
   ]
  },
  {
   "cell_type": "markdown",
   "id": "aebb5a90-ede2-4a45-ab21-1e32f336a590",
   "metadata": {},
   "source": [
    "# Ket Thuc"
   ]
  },
  {
   "cell_type": "code",
   "execution_count": null,
   "id": "5fcdd370-7fd3-4491-8d1b-27c4abb36f09",
   "metadata": {},
   "outputs": [],
   "source": []
  },
  {
   "cell_type": "code",
   "execution_count": null,
   "id": "97ee3077-59db-4f60-97db-0a75ff5ab909",
   "metadata": {},
   "outputs": [],
   "source": []
  }
 ],
 "metadata": {
  "kernelspec": {
   "display_name": "Python 3 (ipykernel)",
   "language": "python",
   "name": "python3"
  },
  "language_info": {
   "codemirror_mode": {
    "name": "ipython",
    "version": 3
   },
   "file_extension": ".py",
   "mimetype": "text/x-python",
   "name": "python",
   "nbconvert_exporter": "python",
   "pygments_lexer": "ipython3",
   "version": "3.13.5"
  }
 },
 "nbformat": 4,
 "nbformat_minor": 5
}
