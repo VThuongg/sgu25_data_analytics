{
 "cells": [
  {
   "cell_type": "markdown",
   "id": "ec753c41",
   "metadata": {},
   "source": [
    "# Python Programming"
   ]
  },
  {
   "cell_type": "markdown",
   "id": "2c23dda8",
   "metadata": {},
   "source": [
    "### 1. Python Hello World"
   ]
  },
  {
   "cell_type": "code",
   "execution_count": 3,
   "id": "89b6ac53",
   "metadata": {},
   "outputs": [
    {
     "name": "stdout",
     "output_type": "stream",
     "text": [
      "Hello World\n"
     ]
    }
   ],
   "source": [
    "print(\"Hello World\") #in ra màn hình"
   ]
  },
  {
   "cell_type": "markdown",
   "id": "cf4874e2",
   "metadata": {},
   "source": [
    "### 2. Python Syntax"
   ]
  },
  {
   "cell_type": "code",
   "execution_count": 2,
   "id": "383d4967",
   "metadata": {},
   "outputs": [],
   "source": [
    "# comment: đây là lòng lệnh ghi chú khi muốn giải thích 1 đoạn code nào đó khó hiểu để khi đọc lại \n",
    "# không bị nhầm lẫn với những dòng lệnh khác"
   ]
  },
  {
   "cell_type": "markdown",
   "id": "dcc438af",
   "metadata": {},
   "source": [
    "> **Indentation**: Lưu ý khi làm việc với python (không sử dụng dấu ngoặc mà sử dụng dấu : và khi xuống dòng phải biết thụt lề vào 4 khoảng trắng)"
   ]
  },
  {
   "cell_type": "code",
   "execution_count": 1,
   "id": "f74c6ce1",
   "metadata": {},
   "outputs": [
    {
     "name": "stdout",
     "output_type": "stream",
     "text": [
      "Pass\n"
     ]
    }
   ],
   "source": [
    "score = 80\n",
    "if score >=60:\n",
    "    print(\"Pass\")"
   ]
  },
  {
   "cell_type": "markdown",
   "id": "3b370473",
   "metadata": {},
   "source": [
    "### 3. Python Variables"
   ]
  },
  {
   "cell_type": "code",
   "execution_count": 4,
   "id": "b5d855aa",
   "metadata": {},
   "outputs": [],
   "source": [
    "# Python Variables\n",
    "x = 2   #int\n",
    "price = 2.5 #float\n",
    "word = 'Hello'  #str  \n",
    "word = \"Hello\"  #str  \n",
    "word = '''Hello'''  #str  (sử dụng khi chuỗi có nhiều dòng)\n",
    "x = 2\n",
    "y = x + 1"
   ]
  },
  {
   "cell_type": "markdown",
   "id": "bacf34c8",
   "metadata": {},
   "source": [
    "> Lưu ý là có 3 cách để lưu 1 chuỗi, trong trường hợp có quá nhiều ký tự đặc biệt thì cần sử dụng 2 hoặc 3 dấu để tránh bị trùng gây lỗi "
   ]
  },
  {
   "cell_type": "markdown",
   "id": "6a641829",
   "metadata": {},
   "source": [
    "### 4. Python_version()"
   ]
  },
  {
   "cell_type": "markdown",
   "id": "37f09240",
   "metadata": {},
   "source": [
    "> Hàm này sử dụng để biết được python đang sử dụng thuộc version nào"
   ]
  },
  {
   "cell_type": "code",
   "execution_count": null,
   "id": "60be272f",
   "metadata": {},
   "outputs": [
    {
     "name": "stdout",
     "output_type": "stream",
     "text": [
      "Python Version: 3.12.1\n"
     ]
    }
   ],
   "source": [
    "from platform import python_version\n",
    "print(\"Python Version:\", python_version())"
   ]
  },
  {
   "cell_type": "markdown",
   "id": "616cc272",
   "metadata": {},
   "source": [
    "### 5. Python Data Type\n",
    "- Python là một ngôn ngữ lập trình đặc biệt vời nhiều kiểu dữ liệu giúp bạn tạo nên một chương trình hữu ích. Một trong số kiểu dữ liệu phổ biến nhất là:\n",
    "\n",
    "    - `Số nguyên (integer)`: là một loại dữ liệu số vô hướng, ví dụ như 1, 2, 3, 4, 5.\n",
    "    - `Số thực (float)`: là một loại dữ liệu số có dấu thập phân, ví dụ như 1.5, 2.7, 3.14.\n",
    "    - `Chuỗi (string)`: là một loại dữ liệu chứa một chuỗi ký tự, ví dụ như \"hello\", \"goodbye\".\n",
    "    - `Boolean`: là một loại dữ liệu có hai giá trị là True hoặc False.\n",
    "    - `Danh sách (list)`: là một loại dữ liệu chứa một tập hợp các giá trị, ví dụ như [1, 2, 3, 4, 5].\n",
    "    - `Từ điển (dictionary)`: là một loại dữ liệu chứa các cặp khóa-giá trị, ví dụ như {\"name\": \"John\", \"age\": 30}."
   ]
  },
  {
   "cell_type": "code",
   "execution_count": 6,
   "id": "8945177a",
   "metadata": {},
   "outputs": [],
   "source": [
    "x = \"Hello World\" #str\n",
    "x = 2 #int\n",
    "x = 2.5 #float\n",
    "x = 7j #complex\n",
    "\n",
    "\n",
    "x = [\"apple\", \"banana\", \"cherry\"] #list\n",
    "x = (\"apple\", \"banana\", \"cherry\") #tuple\n",
    "x = range(6) #range\n",
    "x = {\"name\" : \"Tom\", \"age\" : 20} #dict\n",
    "x = {\"apple\", \"banana\", \"cherry\"} #set\n",
    "x = frozenset({\"apple\", \"banana\", \"cherry\"}) #frozenset\n",
    "\n",
    "\n",
    "x = True #bool\n",
    "x = b\"Hello\" #bytes\n",
    "x = bytearray(5) #bytearray\n",
    "x = memoryview(bytes(5)) #memoryview\n",
    "x = None #NoneType"
   ]
  },
  {
   "cell_type": "markdown",
   "id": "52a4a385",
   "metadata": {},
   "source": [
    "### 6. Python casting\n",
    "\n",
    "> Để xác định kiểu dữ liệu của 1 biến nào đó ta có thể sử dụng hàm type() như sau:"
   ]
  },
  {
   "cell_type": "code",
   "execution_count": 7,
   "id": "6a6cc621",
   "metadata": {},
   "outputs": [
    {
     "name": "stdout",
     "output_type": "stream",
     "text": [
      "3 <class 'str'>\n",
      "3 <class 'int'>\n",
      "3.0 <class 'float'>\n"
     ]
    }
   ],
   "source": [
    "x = str(3) # x will be '3'\n",
    "y = int(3) # y will be 3\n",
    "z = float(3) # z will be 3.0\n",
    "print(x, type(x))\n",
    "print(y, type(y))\n",
    "print(z, type(z))"
   ]
  },
  {
   "cell_type": "markdown",
   "id": "e258758a",
   "metadata": {},
   "source": [
    "### 7.Python Numbers"
   ]
  },
  {
   "cell_type": "code",
   "execution_count": 8,
   "id": "3a563eaa",
   "metadata": {},
   "outputs": [
    {
     "name": "stdout",
     "output_type": "stream",
     "text": [
      "2 <class 'int'>\n",
      "3.4 <class 'float'>\n",
      "7j <class 'complex'>\n"
     ]
    }
   ],
   "source": [
    "x = 2 # int\n",
    "y = 3.4 # float\n",
    "z = 7j #complex\n",
    "print(x, type(x))\n",
    "print(y, type(y))\n",
    "print(z, type(z))"
   ]
  },
  {
   "cell_type": "markdown",
   "id": "a5188af1",
   "metadata": {},
   "source": [
    "### 8. Python Arithmetic Operators"
   ]
  },
  {
   "cell_type": "markdown",
   "id": "776c9a39",
   "metadata": {},
   "source": [
    "> Các toán tử số học trong Python được sử dụng để thực hiện những phép toán cơ bản trên các giá trị số."
   ]
  },
  {
   "cell_type": "code",
   "execution_count": 9,
   "id": "e496aee0",
   "metadata": {},
   "outputs": [
    {
     "name": "stdout",
     "output_type": "stream",
     "text": [
      "7 + 2 = 9\n",
      "7 - 2 = 5\n",
      "7 * 2 = 14\n",
      "7 / 2 = 3.5\n",
      "7 // 2 = 3\n",
      "7 % 2 = 1\n",
      "7 ** 2 = 49\n"
     ]
    }
   ],
   "source": [
    "print('7 + 2 =', 7 + 2)   # Cộng\n",
    "print('7 - 2 =', 7 - 2)   # Trừ\n",
    "print('7 * 2 =', 7 * 2)   # Nhân\n",
    "print('7 / 2 =', 7 / 2)   # Chia\n",
    "print('7 // 2 =', 7 // 2) # Chia lấy phần nguyên\n",
    "print('7 % 2 =', 7 % 2)   # Chia lấy phần dư\n",
    "print('7 ** 2 =', 7 ** 2) # Lũy thừa"
   ]
  },
  {
   "cell_type": "markdown",
   "id": "0b0fde69",
   "metadata": {},
   "source": [
    "> Toán tử Boolean (hay còn gọi là toán tử logic) được dùng để kết hợp hoặc so sánh các biểu thức điều kiện, thường trả về kết quả True (đúng) hoặc False (sai)."
   ]
  },
  {
   "cell_type": "code",
   "execution_count": 10,
   "id": "8dd2b189",
   "metadata": {},
   "outputs": [
    {
     "name": "stdout",
     "output_type": "stream",
     "text": [
      "True\n",
      "False\n",
      "False\n"
     ]
    }
   ],
   "source": [
    "# Python Booleans: True or False\n",
    "print(3 > 2)\n",
    "print(3 == 2)\n",
    "print(3 < 2)"
   ]
  },
  {
   "cell_type": "markdown",
   "id": "5677991b",
   "metadata": {},
   "source": [
    "### 9. Python BMI Calculator"
   ]
  },
  {
   "cell_type": "markdown",
   "id": "3f05c554",
   "metadata": {},
   "source": [
    "> Tính toán BMI"
   ]
  },
  {
   "cell_type": "code",
   "execution_count": 16,
   "id": "25f62445",
   "metadata": {},
   "outputs": [
    {
     "name": "stdout",
     "output_type": "stream",
     "text": [
      "Your BMI is: 20.8\n"
     ]
    }
   ],
   "source": [
    "# BMI Calculator in Python\n",
    "height_cm = 170\n",
    "weight_kg = 60\n",
    "height_m = height_cm/100\n",
    "BMI = (weight_kg/(height_m**2))\n",
    "\n",
    "print(\"Your BMI is: \" + str(round(BMI,1)))"
   ]
  },
  {
   "cell_type": "markdown",
   "id": "030f0057",
   "metadata": {},
   "source": [
    "### 10. Future value\n",
    "> How much is your $100 worth after 7 years?"
   ]
  },
  {
   "cell_type": "code",
   "execution_count": 12,
   "id": "eb92095c",
   "metadata": {},
   "outputs": [
    {
     "name": "stdout",
     "output_type": "stream",
     "text": [
      "fv =  194.87\n"
     ]
    }
   ],
   "source": [
    "# Tính trực tiếp\n",
    "fv = 100 * 1.1 ** 7\n",
    "print('fv = ', round(fv, 2))\n",
    "# output = 194.87"
   ]
  },
  {
   "cell_type": "code",
   "execution_count": 15,
   "id": "4f019ef2",
   "metadata": {},
   "outputs": [
    {
     "name": "stdout",
     "output_type": "stream",
     "text": [
      "194.87\n"
     ]
    }
   ],
   "source": [
    "# Sử dụng biến\n",
    "pv = 100\n",
    "r = 0.1\n",
    "n = 7\n",
    "fv = pv * ((1 + (r)) ** n)\n",
    "print(round(fv, 2))"
   ]
  },
  {
   "cell_type": "code",
   "execution_count": 16,
   "id": "dc31f082",
   "metadata": {},
   "outputs": [
    {
     "name": "stdout",
     "output_type": "stream",
     "text": [
      "194.87\n"
     ]
    }
   ],
   "source": [
    "# Sử dụng phần trăm\n",
    "amount = 100\n",
    "interest = 10 #10% = 0.01 * 10\n",
    "years = 7\n",
    "\n",
    "future_value = amount * ((1 + (0.01 * interest)) ** years)\n",
    "print(round(future_value, 2))"
   ]
  },
  {
   "cell_type": "markdown",
   "id": "f4df19ce",
   "metadata": {},
   "source": [
    "### 11. Python Data Structures"
   ]
  },
  {
   "cell_type": "markdown",
   "id": "7da61c81",
   "metadata": {},
   "source": [
    "#### 11.1 Python Collections\n",
    "\n",
    "- Có bốn kiểu dữ liệu tập hợp trong ngôn ngữ lập trình Python:\n",
    "    - `List []`: Một tập hợp có thứ tự và có thể thay đổi. Cho phép các phần tử trùng lặp.\n",
    "    - `Tuple ()`: Một tập hợp có thứ tự và không thể thay đổi. Cho phép các phần tử trùng lặp.\n",
    "    - `Set {}`: Một tập hợp không có thứ tự, không thể thay đổi, và không có chỉ số. Không cho phép phần tử trùng lặp.\n",
    "    - `Dictionary {k:v}`: Một tập hợp có thứ tự và có thể thay đổi. Không cho phép khóa trùng lặp."
   ]
  },
  {
   "cell_type": "markdown",
   "id": "9fee4f00",
   "metadata": {},
   "source": [
    "#### 11.2 List[]"
   ]
  },
  {
   "cell_type": "code",
   "execution_count": 17,
   "id": "0dc784c9",
   "metadata": {},
   "outputs": [
    {
     "name": "stdout",
     "output_type": "stream",
     "text": [
      "4\n",
      "60\n",
      "70\n",
      "90\n"
     ]
    }
   ],
   "source": [
    "# Tạo và truy cập list\n",
    "x = [60, 70, 80, 90]\n",
    "\n",
    "print(len(x))    # Độ dài list\n",
    "print(x[0])      # Phần tử đầu tiên\n",
    "print(x[1])      # Phần tử thứ hai\n",
    "print(x[-1])     # Phần tử cuối cùng"
   ]
  },
  {
   "cell_type": "markdown",
   "id": "f050d4b7",
   "metadata": {},
   "source": [
    "- len(): có bao nhiêu phần tử\n",
    "- type(): kiểu dữ liệu\n",
    "- Hàm tạo list(): tạo một danh sách mới"
   ]
  },
  {
   "cell_type": "markdown",
   "id": "9ba525cd",
   "metadata": {},
   "source": [
    "> Python List Methods"
   ]
  },
  {
   "cell_type": "markdown",
   "id": "3c451fac",
   "metadata": {},
   "source": [
    "- Một số hàm thường dùng:<br>\n",
    "    - `append()`: Thêm một phần tử vào cuối danh sách\n",
    "    - `clear()`: Xóa tất cả các phần tử trong danh sách\n",
    "    - `copy()`: Trả về một bản sao của danh sách\n",
    "    - `count()`: Trả về số lần xuất hiện của một giá trị xác định\n",
    "    - `extend()`: Thêm các phần tử của một danh sách (hoặc iterable khác) vào cuối danh sách hiện tại\n",
    "    - `index()`: Trả về chỉ số của phần tử đầu tiên có giá trị xác định\n",
    "    - `insert()`: Thêm một phần tử tại vị trí chỉ định\n",
    "    - `pop(): Xóa phần tử tại vị trí chỉ định\n",
    "    - `remove()`: Xóa phần tử có giá trị xác định\n",
    "    - `reverse()`: Đảo ngược thứ tự của danh sách\n",
    "    - `sort()`: Sắp xếp danh sách"
   ]
  },
  {
   "cell_type": "markdown",
   "id": "9a5b6c32",
   "metadata": {},
   "source": [
    "#### 11.3 Tuples()\n",
    "\n",
    "- Trong Python, tuple là một tập hợp không thể thay đổi.\n",
    "- Một tuple được định nghĩa bằng dấu ngoặc trò"
   ]
  },
  {
   "cell_type": "code",
   "execution_count": 19,
   "id": "dc6b99f8",
   "metadata": {},
   "outputs": [
    {
     "name": "stdout",
     "output_type": "stream",
     "text": [
      "10\n",
      "20\n",
      "30\n",
      "50\n"
     ]
    }
   ],
   "source": [
    "# Tuple không thể thay đổi\n",
    "x = (10, 20, 30, 40, 50)\n",
    "\n",
    "print(x[0])   # 10\n",
    "print(x[1])   # 20\n",
    "print(x[2])   # 30\n",
    "print(x[-1])  # 50"
   ]
  },
  {
   "cell_type": "markdown",
   "id": "657e7e5a",
   "metadata": {},
   "source": [
    "#### 11.4 Sets{}\n",
    "\n",
    "- Là tập hợp:\n",
    "    - Không có thứ tự\n",
    "    - Không có chỉ số (index)\n",
    "    - Có thể thay đổi (thêm hoặc xóa phần tử)\n",
    "    - Không cho phép trùng lặp phần tử"
   ]
  },
  {
   "cell_type": "code",
   "execution_count": 20,
   "id": "51aca925",
   "metadata": {},
   "outputs": [
    {
     "name": "stdout",
     "output_type": "stream",
     "text": [
      "True\n",
      "False\n",
      "True\n",
      "3\n",
      "3\n",
      "2\n"
     ]
    }
   ],
   "source": [
    "animals = {'cat', 'dog'}\n",
    "\n",
    "print('cat' in animals)    # Kiểm tra có tồn tại\n",
    "print('fish' in animals)   # False\n",
    "\n",
    "animals.add('fish')        # Thêm phần tử\n",
    "print('fish' in animals)   # True\n",
    "print(len(animals))        # 3\n",
    "\n",
    "animals.add('cat')         # Thêm phần tử đã có\n",
    "print(len(animals))        # Vẫn 3 (không trùng lặp)\n",
    "\n",
    "animals.remove('cat')      # Xóa phần tử\n",
    "print(len(animals))        # 2"
   ]
  },
  {
   "cell_type": "markdown",
   "id": "4d1658b8",
   "metadata": {},
   "source": [
    "#### 11.5 Dictionary {key : value}\n",
    "- Khóa (Key) → Giá trị (Value)\n",
    "    - `'EN' → 'English'`\n",
    "    - `'FR' → 'French'`"
   ]
  },
  {
   "cell_type": "code",
   "execution_count": 21,
   "id": "46b43651",
   "metadata": {},
   "outputs": [
    {
     "name": "stdout",
     "output_type": "stream",
     "text": [
      "English\n"
     ]
    }
   ],
   "source": [
    "k = {'EN': 'English', 'FR': 'French'}\n",
    "print(k['EN'])  # Truy cập qua key"
   ]
  },
  {
   "cell_type": "markdown",
   "id": "0e093f83",
   "metadata": {},
   "source": [
    "> Python Data Structures"
   ]
  },
  {
   "cell_type": "code",
   "execution_count": 1,
   "id": "d4d02df6",
   "metadata": {},
   "outputs": [
    {
     "name": "stdout",
     "output_type": "stream",
     "text": [
      "['apple', 'banana', 'cherry']\n",
      "('red', 'green', 'blue')\n",
      "{'dog', 'cat'}\n",
      "{'name': 'Tom', 'age': 20}\n"
     ]
    }
   ],
   "source": [
    "fruits = [\"apple\", \"banana\", \"cherry\"]     # lists []\n",
    "print(fruits)\n",
    "colors = (\"red\", \"green\", \"blue\")          # tuples ()\n",
    "print(colors)\n",
    "animals = {'cat', 'dog'}                   # sets {}\n",
    "print(animals)\n",
    "person = {\"name\": \"Tom\", \"age\": 20}        # dictionaries {}\n",
    "print(person)"
   ]
  },
  {
   "cell_type": "markdown",
   "id": "1aea3b66",
   "metadata": {},
   "source": [
    "### 12. Python for Finance Applications"
   ]
  },
  {
   "cell_type": "markdown",
   "id": "ad0842ff",
   "metadata": {},
   "source": [
    "> Python Lists"
   ]
  },
  {
   "cell_type": "code",
   "execution_count": 2,
   "id": "d69cf7a0",
   "metadata": {},
   "outputs": [
    {
     "name": "stdout",
     "output_type": "stream",
     "text": [
      "Total expenses: 293.5\n"
     ]
    }
   ],
   "source": [
    "expenses = [72.50, 80.75, 50.00, 90.25]\n",
    "total_expenses = sum(expenses)\n",
    "print(\"Total expenses:\", total_expenses)"
   ]
  },
  {
   "cell_type": "markdown",
   "id": "5add727c",
   "metadata": {},
   "source": [
    ">  Python Tuples"
   ]
  },
  {
   "cell_type": "code",
   "execution_count": 3,
   "id": "403ce14c",
   "metadata": {},
   "outputs": [
    {
     "name": "stdout",
     "output_type": "stream",
     "text": [
      "Account name: Cash Account number: 1001\n",
      "Account name: Accounts Receivable Account number: 1002\n",
      "Account name: Inventory Account number: 1003\n"
     ]
    }
   ],
   "source": [
    "accounts = ((\"Cash\", 1001), (\"Accounts Receivable\", 1002),\n",
    "(\"Inventory\", 1003))\n",
    "for account in accounts:\n",
    "    print(\"Account name:\", account[0], \"Account number:\", account[1])"
   ]
  },
  {
   "cell_type": "markdown",
   "id": "58634dab",
   "metadata": {},
   "source": [
    "> Python Sets"
   ]
  },
  {
   "cell_type": "code",
   "execution_count": 4,
   "id": "437fed28",
   "metadata": {},
   "outputs": [
    {
     "name": "stdout",
     "output_type": "stream",
     "text": [
      "Account number 1004 is not in use.\n"
     ]
    }
   ],
   "source": [
    "account_numbers = {1001, 1002, 1003}\n",
    "new_account_number = 1004\n",
    "if new_account_number not in account_numbers:\n",
    "    print(\"Account number\", new_account_number, \"is not in use.\")"
   ]
  },
  {
   "cell_type": "markdown",
   "id": "73f2dd75",
   "metadata": {},
   "source": [
    ">  Python Dictionaries"
   ]
  },
  {
   "cell_type": "code",
   "execution_count": 5,
   "id": "da04a5e2",
   "metadata": {},
   "outputs": [
    {
     "name": "stdout",
     "output_type": "stream",
     "text": [
      "Account number: 1001\n",
      "Account name: Cash\n",
      "Account balance: 500.0\n",
      "Account type: Asset\n",
      "Account number: 1002\n",
      "Account name: Accounts Receivable\n",
      "Account balance: 1000.0\n",
      "Account type: Asset\n",
      "Account number: 2001\n",
      "Account name: Accounts Payable\n",
      "Account balance: 750.0\n",
      "Account type: Liability\n"
     ]
    }
   ],
   "source": [
    "accounts = {\"1001\": {\"name\": \"Cash\", \"balance\": 500.00, \"type\": \"Asset\"},\n",
    "\"1002\": {\"name\": \"Accounts Receivable\", \"balance\": 1000.00, \"type\": \"Asset\"},\n",
    "\"2001\": {\"name\": \"Accounts Payable\", \"balance\": 750.00, \"type\": \"Liability\"}}\n",
    "for account_number, account_info in accounts.items():\n",
    "    print(\"Account number:\", account_number)\n",
    "    print(\"Account name:\", account_info[\"name\"])\n",
    "    print(\"Account balance:\", account_info[\"balance\"])\n",
    "    print(\"Account type:\", account_info[\"type\"])"
   ]
  },
  {
   "cell_type": "markdown",
   "id": "bc87dd13",
   "metadata": {},
   "source": [
    "## 13. Python Control Logic"
   ]
  },
  {
   "cell_type": "markdown",
   "id": "915aaca6",
   "metadata": {},
   "source": [
    "- **Python if...else**\n",
    "    - **if elif else**\n",
    "    - Boolean: `True`, `False`\n",
    "    - Toán tử: `==`, `!=`, `>`, `<`, `>=`, `<=`, `and`, `or`, `not`\n",
    "\n",
    "- **Python hỗ trợ các điều kiện logic thông thường trong toán học:**\n",
    "    - Bằng nhau: `a == b`\n",
    "    - Khác nhau: `a != b`\n",
    "    - Nhỏ hơn: `a < b`\n",
    "    - Nhỏ hơn hoặc bằng: `a <= b`\n",
    "    - Lớn hơn: `a > b`\n",
    "    - Lớn hơn hoặc bằng: `a >= b`"
   ]
  },
  {
   "cell_type": "markdown",
   "id": "78a8c070",
   "metadata": {},
   "source": [
    "> Python if"
   ]
  },
  {
   "cell_type": "code",
   "execution_count": 6,
   "id": "898da468",
   "metadata": {},
   "outputs": [
    {
     "name": "stdout",
     "output_type": "stream",
     "text": [
      "Pass\n"
     ]
    }
   ],
   "source": [
    "score = 80\n",
    "\n",
    "if score >=60 :\n",
    "    print(\"Pass\")"
   ]
  },
  {
   "cell_type": "markdown",
   "id": "5380aea8",
   "metadata": {},
   "source": [
    "> Python if else"
   ]
  },
  {
   "cell_type": "code",
   "execution_count": null,
   "id": "f5e4150f",
   "metadata": {},
   "outputs": [
    {
     "name": "stdout",
     "output_type": "stream",
     "text": [
      "Pass\n"
     ]
    }
   ],
   "source": [
    "score = 80\n",
    "if score >=60 :\n",
    "    print(\"Pass\")\n",
    "else:\n",
    "    print(\"Fail\")"
   ]
  },
  {
   "cell_type": "markdown",
   "id": "0249aa6b",
   "metadata": {},
   "source": [
    "> Python if elif else"
   ]
  },
  {
   "cell_type": "code",
   "execution_count": null,
   "id": "b0dae600",
   "metadata": {},
   "outputs": [
    {
     "name": "stdout",
     "output_type": "stream",
     "text": [
      "A\n"
     ]
    }
   ],
   "source": [
    "score = 95\n",
    "if score >= 90 :\n",
    "    print(\"A\")\n",
    "elif score >=60 :\n",
    "    print(\"Pass\")\n",
    "else:\n",
    "    print(\"Fail\")"
   ]
  },
  {
   "cell_type": "markdown",
   "id": "1ed3f01e",
   "metadata": {},
   "source": [
    "> Ví dụ:"
   ]
  },
  {
   "cell_type": "code",
   "execution_count": 8,
   "id": "f0819574",
   "metadata": {},
   "outputs": [
    {
     "name": "stdout",
     "output_type": "stream",
     "text": [
      "A\n"
     ]
    }
   ],
   "source": [
    "score = 90\n",
    "grade = \"\"\n",
    "if score >=90:\n",
    "    grade = \"A\"\n",
    "elif score >= 80:\n",
    "    grade = \"B\"\n",
    "elif score >= 70:\n",
    "    grade = \"C\"\n",
    "elif score >= 60:\n",
    "    grade = \"D\"\n",
    "else:\n",
    "    grade = \"E\"\n",
    "\n",
    "print(grade)"
   ]
  },
  {
   "cell_type": "markdown",
   "id": "1ab60f6d",
   "metadata": {},
   "source": [
    "## 14. Python For Loops"
   ]
  },
  {
   "cell_type": "markdown",
   "id": "0aa6a925",
   "metadata": {},
   "source": [
    "> For Loop với range"
   ]
  },
  {
   "cell_type": "code",
   "execution_count": 9,
   "id": "c22d7b50",
   "metadata": {},
   "outputs": [
    {
     "name": "stdout",
     "output_type": "stream",
     "text": [
      "1\n",
      "2\n",
      "3\n",
      "4\n",
      "5\n"
     ]
    }
   ],
   "source": [
    "for i in range(1,6):\n",
    "    print(i)"
   ]
  },
  {
   "cell_type": "markdown",
   "id": "df74bb95",
   "metadata": {},
   "source": [
    "> Vòng lặp lồng nhau"
   ]
  },
  {
   "cell_type": "code",
   "execution_count": 10,
   "id": "bcc10171",
   "metadata": {},
   "outputs": [
    {
     "name": "stdout",
     "output_type": "stream",
     "text": [
      "1  *  1  =  1\n",
      "1  *  2  =  2\n",
      "1  *  3  =  3\n",
      "1  *  4  =  4\n",
      "1  *  5  =  5\n",
      "1  *  6  =  6\n",
      "1  *  7  =  7\n",
      "1  *  8  =  8\n",
      "1  *  9  =  9\n",
      "2  *  1  =  2\n",
      "2  *  2  =  4\n",
      "2  *  3  =  6\n",
      "2  *  4  =  8\n",
      "2  *  5  =  10\n",
      "2  *  6  =  12\n",
      "2  *  7  =  14\n",
      "2  *  8  =  16\n",
      "2  *  9  =  18\n",
      "3  *  1  =  3\n",
      "3  *  2  =  6\n",
      "3  *  3  =  9\n",
      "3  *  4  =  12\n",
      "3  *  5  =  15\n",
      "3  *  6  =  18\n",
      "3  *  7  =  21\n",
      "3  *  8  =  24\n",
      "3  *  9  =  27\n",
      "4  *  1  =  4\n",
      "4  *  2  =  8\n",
      "4  *  3  =  12\n",
      "4  *  4  =  16\n",
      "4  *  5  =  20\n",
      "4  *  6  =  24\n",
      "4  *  7  =  28\n",
      "4  *  8  =  32\n",
      "4  *  9  =  36\n",
      "5  *  1  =  5\n",
      "5  *  2  =  10\n",
      "5  *  3  =  15\n",
      "5  *  4  =  20\n",
      "5  *  5  =  25\n",
      "5  *  6  =  30\n",
      "5  *  7  =  35\n",
      "5  *  8  =  40\n",
      "5  *  9  =  45\n",
      "6  *  1  =  6\n",
      "6  *  2  =  12\n",
      "6  *  3  =  18\n",
      "6  *  4  =  24\n",
      "6  *  5  =  30\n",
      "6  *  6  =  36\n",
      "6  *  7  =  42\n",
      "6  *  8  =  48\n",
      "6  *  9  =  54\n",
      "7  *  1  =  7\n",
      "7  *  2  =  14\n",
      "7  *  3  =  21\n",
      "7  *  4  =  28\n",
      "7  *  5  =  35\n",
      "7  *  6  =  42\n",
      "7  *  7  =  49\n",
      "7  *  8  =  56\n",
      "7  *  9  =  63\n",
      "8  *  1  =  8\n",
      "8  *  2  =  16\n",
      "8  *  3  =  24\n",
      "8  *  4  =  32\n",
      "8  *  5  =  40\n",
      "8  *  6  =  48\n",
      "8  *  7  =  56\n",
      "8  *  8  =  64\n",
      "8  *  9  =  72\n",
      "9  *  1  =  9\n",
      "9  *  2  =  18\n",
      "9  *  3  =  27\n",
      "9  *  4  =  36\n",
      "9  *  5  =  45\n",
      "9  *  6  =  54\n",
      "9  *  7  =  63\n",
      "9  *  8  =  72\n",
      "9  *  9  =  81\n"
     ]
    }
   ],
   "source": [
    "# for loops\n",
    "for i in range(1,10):\n",
    "    for j in range(1,10):\n",
    "        print(i, ' * ' , j , ' = ', i*j)"
   ]
  },
  {
   "cell_type": "markdown",
   "id": "8a4647f0",
   "metadata": {},
   "source": [
    "> While Loops\n",
    "\n",
    "- while\n",
    "- break\n",
    "- continue"
   ]
  },
  {
   "cell_type": "code",
   "execution_count": 11,
   "id": "cf76493c",
   "metadata": {},
   "outputs": [
    {
     "name": "stdout",
     "output_type": "stream",
     "text": [
      "10\n",
      "11\n",
      "12\n",
      "13\n",
      "14\n",
      "15\n",
      "16\n",
      "17\n",
      "18\n",
      "19\n"
     ]
    }
   ],
   "source": [
    "# while loops\n",
    "age = 10\n",
    "while age < 20:\n",
    "    print(age)\n",
    "    age = age + 1"
   ]
  },
  {
   "cell_type": "markdown",
   "id": "51e86bb1",
   "metadata": {},
   "source": [
    "## 15. Python Functions\n",
    "\n",
    "- Hàm là một khối mã chỉ chạy khi được gọi.\n",
    "- Bạn có thể truyền dữ liệu (gọi là tham số) vào trong một hàm.\n",
    "- Một hàm có thể trả về dữ liệu như là kết quả.\n",
    "- Tạo hàm\n",
    "- Trong Python, một hàm được định nghĩa bằng từ khóa `def`."
   ]
  },
  {
   "cell_type": "markdown",
   "id": "ae076f2e",
   "metadata": {},
   "source": [
    "#### 15.1. Python Function def\n",
    "\n",
    "> def getfv(): xác định giá trị tương lai"
   ]
  },
  {
   "cell_type": "code",
   "execution_count": 12,
   "id": "a70612f8",
   "metadata": {},
   "outputs": [
    {
     "name": "stdout",
     "output_type": "stream",
     "text": [
      "194.87\n"
     ]
    }
   ],
   "source": [
    "# Python Function def\n",
    "# indentation for blocks. four spaces\n",
    "def getfv(pv, r, n):\n",
    "    fv = pv * ((1 + (r)) ** n)\n",
    "    return fv\n",
    "\n",
    "fv = getfv(100, 0.1, 7)\n",
    "print(round(fv, 2))"
   ]
  },
  {
   "cell_type": "markdown",
   "id": "9ea34005",
   "metadata": {},
   "source": [
    "## 16. Python Classes/Objects\n",
    "\n",
    "- Python là một ngôn ngữ lập trình **hướng đối tượng**.\n",
    "- Hầu hết mọi thứ trong Python đều là **đối tượng**, với các thuộc tính và phương thức riêng.\n",
    "- **Lớp (Class)** giống như một **bản thiết kế** hoặc **trình tạo đối tượng** để tạo ra các đối tượng.\n",
    "- **Tạo một lớp**:\n",
    "    - Để tạo một lớp, sử dụng từ khóa `class`."
   ]
  },
  {
   "cell_type": "code",
   "execution_count": 13,
   "id": "fd839461",
   "metadata": {},
   "outputs": [
    {
     "name": "stdout",
     "output_type": "stream",
     "text": [
      "2004\n"
     ]
    }
   ],
   "source": [
    "# Python class\n",
    "class MyClass:\n",
    "    x = 2004\n",
    "\n",
    "c1 = MyClass()\n",
    "print(c1.x)"
   ]
  },
  {
   "cell_type": "markdown",
   "id": "8885fd15",
   "metadata": {},
   "source": [
    "> Lớp với Constructor"
   ]
  },
  {
   "cell_type": "code",
   "execution_count": 14,
   "id": "b4e3f4e1",
   "metadata": {},
   "outputs": [
    {
     "name": "stdout",
     "output_type": "stream",
     "text": [
      "Thuong\n",
      "21\n"
     ]
    }
   ],
   "source": [
    "class Person:\n",
    "\n",
    "    def __init__(self, name, age):\n",
    "        self.name = name\n",
    "        self.age = age\n",
    "\n",
    "p1 = Person(\"Thuong\", 21)\n",
    "\n",
    "print(p1.name)\n",
    "print(p1.age)"
   ]
  },
  {
   "cell_type": "markdown",
   "id": "2c58129c",
   "metadata": {},
   "source": [
    "> Lớp với phương thức"
   ]
  },
  {
   "cell_type": "code",
   "execution_count": 15,
   "id": "c276067f",
   "metadata": {},
   "outputs": [
    {
     "name": "stdout",
     "output_type": "stream",
     "text": [
      "Hello my name is Thuong\n"
     ]
    }
   ],
   "source": [
    "class Person:\n",
    "\n",
    "    def __init__(self, name, age):\n",
    "        self.name = name\n",
    "        self.age = age\n",
    "\n",
    "    def myfunc(self):\n",
    "        print(\"Hello my name is \" + self.name)\n",
    "\n",
    "p1 = Person(\"Thuong\", 21)\n",
    "p1.myfunc()"
   ]
  },
  {
   "cell_type": "markdown",
   "id": "f3a07c2e",
   "metadata": {},
   "source": [
    "> Print() các thuộc tính"
   ]
  },
  {
   "cell_type": "code",
   "execution_count": 16,
   "id": "b22d0841",
   "metadata": {},
   "outputs": [
    {
     "name": "stdout",
     "output_type": "stream",
     "text": [
      "Hello my name is Thuong\n",
      "Thuong\n",
      "21\n"
     ]
    }
   ],
   "source": [
    "class Person:\n",
    "\n",
    "    def __init__(self, name, age):\n",
    "        self.name = name\n",
    "        self.age = age\n",
    "\n",
    "    def myfunc(self):\n",
    "        print(\"Hello my name is \" + self.name)\n",
    "\n",
    "p1 = Person(\"Thuong\", 21)\n",
    "p1.myfunc()\n",
    "print(p1.name)\n",
    "print(p1.age)"
   ]
  },
  {
   "cell_type": "markdown",
   "id": "431eccd5",
   "metadata": {},
   "source": [
    "> Ví dụ thực tế - Lớp Vehicle"
   ]
  },
  {
   "cell_type": "code",
   "execution_count": 17,
   "id": "40cc1c55",
   "metadata": {},
   "outputs": [],
   "source": [
    "class Vehicle:\n",
    "    name = \"\"\n",
    "    kind = \"car\"\n",
    "    color = \"\"\n",
    "    value = 100.00\n",
    "    def description(self):\n",
    "\n",
    "        desc_str = \"%s is a %s %sworth $%.2f.\" % (self.name, self.color,\n",
    "        self.kind, self.value)\n",
    "\n",
    "        return desc_str"
   ]
  },
  {
   "cell_type": "code",
   "execution_count": 19,
   "id": "0bc8bc76",
   "metadata": {},
   "outputs": [
    {
     "name": "stdout",
     "output_type": "stream",
     "text": [
      "Fer is a red convertibleworth $60000.00.\n",
      "Fer\n",
      "Jump is a blue vanworth $10000.00.\n",
      "Jump\n"
     ]
    }
   ],
   "source": [
    "# Tạo đối tượng\n",
    "car1 = Vehicle()\n",
    "car1.name = \"Fer\"\n",
    "car1.color = \"red\"\n",
    "car1.kind = \"convertible\"\n",
    "car1.value = 60000.00\n",
    "\n",
    "car2 = Vehicle()\n",
    "car2.name = \"Jump\"\n",
    "car2.color = \"blue\"\n",
    "car2.kind = \"van\"\n",
    "car2.value = 10000.00\n",
    "\n",
    "print(car1.description())\n",
    "print(car1.name)\n",
    "print(car2.description())\n",
    "print(car2.name)"
   ]
  },
  {
   "cell_type": "markdown",
   "id": "69cab5c6",
   "metadata": {},
   "source": [
    "## 17. Python Modules\n",
    "\n",
    "- Hãy xem module giống như một thư viện mã.\n",
    "- Một module là một tệp chứa tập hợp các hàm mà bạn muốn đưa vào trong ứng dụng của mình.\n",
    "- Tạo một module\n",
    "    - Để tạo một module, chỉ cần lưu đoạn mã bạn muốn vào một tệp có phần mở rộng .py.\n",
    "- Sử dụng module\n",
    "    - Dùng từ khóa `import module`."
   ]
  },
  {
   "cell_type": "code",
   "execution_count": 21,
   "id": "c0503b91",
   "metadata": {},
   "outputs": [],
   "source": [
    "# Tạo file mymodule.py\n",
    "def greeting(name):\n",
    "    print(\"Hello, \" + name)"
   ]
  },
  {
   "cell_type": "code",
   "execution_count": 22,
   "id": "00ea3c64",
   "metadata": {},
   "outputs": [
    {
     "name": "stdout",
     "output_type": "stream",
     "text": [
      "Hello, Thuong\n"
     ]
    }
   ],
   "source": [
    "import mymodule\n",
    "mymodule.greeting(\"Thuong\")"
   ]
  },
  {
   "cell_type": "markdown",
   "id": "9f7ec57f",
   "metadata": {},
   "source": [
    "> Tạo và import module động"
   ]
  },
  {
   "cell_type": "code",
   "execution_count": 23,
   "id": "3e42d895",
   "metadata": {},
   "outputs": [
    {
     "name": "stdout",
     "output_type": "stream",
     "text": [
      "mymodule.py\n",
      "def greeting(name):\n",
      "    print(\"Hello, \" + name)\n",
      "\n",
      "Hello, Thuong\n"
     ]
    }
   ],
   "source": [
    "# Tạo file module\n",
    "filename = 'mymodule.py'\n",
    "with open(filename, 'w') as file:\n",
    "    text = '''def greeting(name):\n",
    "    print(\"Hello, \" + name)\n",
    "'''\n",
    "    file.write(text)\n",
    "\n",
    "# Đọc và kiểm tra nội dung\n",
    "with open(filename, 'r') as file:\n",
    "    text = file.read()\n",
    "    print(filename)\n",
    "    print(text)\n",
    "\n",
    "# Import và sử dụng\n",
    "import mymodule\n",
    "mymodule.greeting(\"Thuong\")"
   ]
  },
  {
   "cell_type": "markdown",
   "id": "b1bcd9a1",
   "metadata": {},
   "source": [
    "> Hàm main"
   ]
  },
  {
   "cell_type": "code",
   "execution_count": 24,
   "id": "da2ec746",
   "metadata": {},
   "outputs": [
    {
     "name": "stdout",
     "output_type": "stream",
     "text": [
      "Hello World!\n"
     ]
    }
   ],
   "source": [
    "def main():\n",
    "    print(\"Hello World!\")\n",
    "\n",
    "if __name__ == \"__main__\":\n",
    "    main()"
   ]
  },
  {
   "cell_type": "markdown",
   "id": "19865667",
   "metadata": {},
   "source": [
    "## 18. Python File Input/Output"
   ]
  },
  {
   "cell_type": "markdown",
   "id": "6d4000df",
   "metadata": {},
   "source": [
    "- Hàm chính để làm việc với tệp trong Python là hàm open().\n",
    "\n",
    "    - Hàm `open()` nhận hai tham số: tên tệp và chế độ.\n",
    "    - Có bốn chế độ (mode) khác nhau để mở một tệp:\n",
    "        - `\"r\"` - Read: Đọc – giá trị mặc định. Mở tệp để đọc, báo lỗi nếu tệp không tồn tại.\n",
    "        - `\"a\"` - Append: Ghi nối thêm – mở tệp để ghi thêm, tạo tệp mới nếu chưa tồn tại.\n",
    "        - `\"w\"` - Write: Ghi – mở tệp để ghi đè, tạo tệp mới nếu chưa tồn tại.\n",
    "        - `\"x\"` - Create: Tạo mới – tạo tệp, báo lỗi nếu tệp đã tồn tại.\n"
   ]
  },
  {
   "cell_type": "markdown",
   "id": "08c0322d",
   "metadata": {},
   "source": [
    "> Ghi và đọc file cơ bản"
   ]
  },
  {
   "cell_type": "code",
   "execution_count": 25,
   "id": "46edea09",
   "metadata": {},
   "outputs": [
    {
     "name": "stdout",
     "output_type": "stream",
     "text": [
      "Hello World\n"
     ]
    }
   ],
   "source": [
    "# Ghi file\n",
    "f = open(\"myfile.txt\", \"w\") # Mở file để ghi\n",
    "f.write(\"Hello World\") # Ghi nội dung\n",
    "f.close() # Đóng file\n",
    "\n",
    "# Đọc file\n",
    "f = open(\"myfile.txt\", \"r\") # Mở file để đọc\n",
    "text = f.read() # Đọc nội dung\n",
    "print(text) # In nội dung\n",
    "f.close() # Đóng file"
   ]
  },
  {
   "cell_type": "markdown",
   "id": "b8df13fb",
   "metadata": {},
   "source": [
    ">  Sử dụng with statement (khuyến nghị)"
   ]
  },
  {
   "cell_type": "code",
   "execution_count": 26,
   "id": "8724db39",
   "metadata": {},
   "outputs": [
    {
     "name": "stdout",
     "output_type": "stream",
     "text": [
      "Hello World\n"
     ]
    }
   ],
   "source": [
    "# Ghi file với with\n",
    "with open('myfile.txt', 'w') as file:\n",
    "    file.write('Hello World')\n",
    "\n",
    "# Đọc file với with\n",
    "with open('myfile.txt', 'r') as file:\n",
    "    text = file.read()\n",
    "    print(text)"
   ]
  },
  {
   "cell_type": "markdown",
   "id": "6cd02378",
   "metadata": {},
   "source": [
    "> Ghi nhiều dòng"
   ]
  },
  {
   "cell_type": "code",
   "execution_count": 28,
   "id": "a85fd2db",
   "metadata": {},
   "outputs": [
    {
     "name": "stdout",
     "output_type": "stream",
     "text": [
      "Hello World\n",
      "Python File IO\n"
     ]
    }
   ],
   "source": [
    "with open('myfile.txt', 'w') as file:\n",
    "    file.write('Hello World\\nPython File IO')\n",
    "\n",
    "with open('myfile.txt', 'r') as file:\n",
    "    text = file.read()\n",
    "    print(text)"
   ]
  },
  {
   "cell_type": "markdown",
   "id": "dce36a82",
   "metadata": {},
   "source": [
    ">  Append (thêm vào file)"
   ]
  },
  {
   "cell_type": "code",
   "execution_count": 29,
   "id": "3b142c90",
   "metadata": {},
   "outputs": [
    {
     "name": "stdout",
     "output_type": "stream",
     "text": [
      "Hello World\n",
      "Python File IO\n",
      "New line\n"
     ]
    }
   ],
   "source": [
    "with open('myfile.txt', 'a+') as file:\n",
    "    file.write('\\n' + 'New line') # Thêm dòng mới\n",
    "\n",
    "with open('myfile.txt', 'r') as file:\n",
    "    text = file.read()\n",
    "    print(text)"
   ]
  },
  {
   "cell_type": "markdown",
   "id": "274b373d",
   "metadata": {},
   "source": [
    "> Làm việc với OS"
   ]
  },
  {
   "cell_type": "code",
   "execution_count": 31,
   "id": "4b183c71",
   "metadata": {},
   "outputs": [
    {
     "name": "stdout",
     "output_type": "stream",
     "text": [
      "/workspaces/sgu25_data_analytics/exercises/lab2\n",
      "['myfile.txt', '1.jpg', '04_exercise_02.ipynb', 'sinhvien.csv', 'pythonProgramming.ipynb', 'nguoi.csv', 'img.png', 'kqsx.csv', 'nguoi2.csv', '4a.png', 'DA_VL.ipynb', 'mymodule.py', 'pi.png', '__pycache__', '4b.png', 'PNMP.ipynb', '03_exercise_01.ipynb', '1.pdf']\n",
      "/workspaces/sgu25_data_analytics/exercises/lab2/s_data\n",
      "[]\n"
     ]
    }
   ],
   "source": [
    "import os\n",
    "\n",
    "# Lấy thư mục hiện tại\n",
    "cwd = os.getcwd()\n",
    "print(cwd)\n",
    "\n",
    "# Liệt kê file trong thư mục\n",
    "print(os.listdir(cwd))\n",
    "\n",
    "# Tạo đường dẫn\n",
    "path = os.path.join(cwd, 's_data') # Tạo đường dẫn\n",
    "print(path) # In đường dẫn\n",
    "\n",
    "# Kiểm tra và tạo thư mục nếu chưa tồn tại\n",
    "if not os.path.exists(path):\n",
    "\tos.makedirs(path)\n",
    "\n",
    "print(os.listdir(path)) # Liệt kê file trong thư mục sample_data"
   ]
  },
  {
   "cell_type": "markdown",
   "id": "6062b804",
   "metadata": {},
   "source": [
    "> Xóa file và folder"
   ]
  },
  {
   "cell_type": "code",
   "execution_count": 32,
   "id": "006e754e",
   "metadata": {},
   "outputs": [
    {
     "name": "stdout",
     "output_type": "stream",
     "text": [
      "myfile.txt removed\n"
     ]
    }
   ],
   "source": [
    "import os\n",
    "\n",
    "# Xóa file\n",
    "if os.path.exists(\"myfile.txt\"):\n",
    "    os.remove(\"myfile.txt\")\n",
    "    print(\"myfile.txt removed\")\n",
    "else:\n",
    "    print(\"The file does not exist\")\n",
    "\n",
    "# Tạo và xóa folder\n",
    "os.mkdir(\"myfolder1\")      # Tạo folder\n",
    "os.rmdir(\"myfolder1\")      # Xóa folder"
   ]
  },
  {
   "cell_type": "markdown",
   "id": "41373b88",
   "metadata": {},
   "source": [
    "## 19. Exception Handling"
   ]
  },
  {
   "cell_type": "markdown",
   "id": "ca23edfe",
   "metadata": {},
   "source": [
    "- Khối `try` cho phép bạn kiểm tra một đoạn mã để tìm lỗi.\n",
    "- Khối `except` cho phép bạn xử lý lỗi.\n",
    "- Khối `else` cho phép bạn thực thi mã khi không có lỗi xảy ra.\n",
    "- Khối `finally` cho phép bạn thực thi mã, bất kể kết quả của khối try và except."
   ]
  },
  {
   "cell_type": "markdown",
   "id": "8c7d7266",
   "metadata": {},
   "source": [
    "> Try-Except cơ bản"
   ]
  },
  {
   "cell_type": "code",
   "execution_count": 34,
   "id": "9dde4663",
   "metadata": {},
   "outputs": [
    {
     "name": "stdout",
     "output_type": "stream",
     "text": [
      "10\n"
     ]
    }
   ],
   "source": [
    "x = 10\n",
    "try: # Thử chạy đoạn code này\n",
    "    print(x)\n",
    "except: # Nếu lỗi xảy ra thì chạy đoạn code này\n",
    "    print(\"Exception Error\")"
   ]
  },
  {
   "cell_type": "markdown",
   "id": "fc999a5f",
   "metadata": {},
   "source": [
    "> Try-Except-Finally"
   ]
  },
  {
   "cell_type": "code",
   "execution_count": 35,
   "id": "b7bcf6b9",
   "metadata": {},
   "outputs": [
    {
     "name": "stdout",
     "output_type": "stream",
     "text": [
      "Hello\n",
      "Finally process\n"
     ]
    }
   ],
   "source": [
    "#Python try except finally\n",
    "try:\n",
    "    print(\"Hello\")\n",
    "\n",
    "except:\n",
    "    print(\"Exception Error\")\n",
    "\n",
    "finally:\n",
    "    print(\"Finally process\")"
   ]
  },
  {
   "cell_type": "markdown",
   "id": "17dcb18c",
   "metadata": {},
   "source": [
    "> Try-Except-Else"
   ]
  },
  {
   "cell_type": "code",
   "execution_count": 36,
   "id": "589bb478",
   "metadata": {},
   "outputs": [
    {
     "name": "stdout",
     "output_type": "stream",
     "text": [
      "Hello\n",
      "No exception\n"
     ]
    }
   ],
   "source": [
    "#Python try except else\n",
    "try:\n",
    "    print(\"Hello\")\n",
    "\n",
    "except:\n",
    "    print(\"Exception Error\")\n",
    "\n",
    "else:\n",
    "    print(\"No exception\")"
   ]
  },
  {
   "cell_type": "markdown",
   "id": "4314189d",
   "metadata": {},
   "source": [
    "> Đầy đủ Try-Except-Else-Finally"
   ]
  },
  {
   "cell_type": "code",
   "execution_count": 37,
   "id": "204f4f5b",
   "metadata": {},
   "outputs": [
    {
     "name": "stdout",
     "output_type": "stream",
     "text": [
      "Hello\n",
      "No exception\n",
      "Finally process\n"
     ]
    }
   ],
   "source": [
    "try:\n",
    "    print(\"Hello\")\n",
    "\n",
    "except:\n",
    "    print(\"Exception Error\")\n",
    "\n",
    "else:\n",
    "    print(\"No exception\")\n",
    "\n",
    "finally:\n",
    "    print(\"Finally process\")"
   ]
  },
  {
   "cell_type": "markdown",
   "id": "c18b061a",
   "metadata": {},
   "source": [
    "> Ứng dụng thực tế"
   ]
  },
  {
   "cell_type": "code",
   "execution_count": 38,
   "id": "c7a95825",
   "metadata": {},
   "outputs": [
    {
     "name": "stdout",
     "output_type": "stream",
     "text": [
      "The total value of the shares is: 20.0\n",
      "Thank you.\n"
     ]
    }
   ],
   "source": [
    "try:\n",
    "    price = float(input(\"Enter the price of the stock (e.g. 10):\"))\n",
    "    shares = int(input(\"Enter the number of shares (e.g. 2):\"))\n",
    "    total = price * shares\n",
    "except Exception as e:\n",
    "    print(\"Exception error:\", str(e))\n",
    "\n",
    "else:\n",
    "    print(\"The total value of the shares is:\", total)\n",
    "finally:\n",
    "    print(\"Thank you.\")"
   ]
  },
  {
   "cell_type": "markdown",
   "id": "ff8cc06c",
   "metadata": {},
   "source": [
    "- Xử lý lỗi file"
   ]
  },
  {
   "cell_type": "code",
   "execution_count": 40,
   "id": "9201ef50",
   "metadata": {},
   "outputs": [
    {
     "name": "stdout",
     "output_type": "stream",
     "text": [
      "Exception file Error\n"
     ]
    }
   ],
   "source": [
    "# Lỗi khi mở file không tồn tại\n",
    "try:\n",
    "    file = open(\"myfile.txt\")\n",
    "    file.write(\"Python write file\")\n",
    "    print(\"file saved\")\n",
    "except:\n",
    "    print(\"Exception file Error\")"
   ]
  },
  {
   "cell_type": "markdown",
   "id": "fb139b98",
   "metadata": {},
   "source": [
    "- Xử lý đúng cách"
   ]
  },
  {
   "cell_type": "code",
   "execution_count": 42,
   "id": "e06ad226",
   "metadata": {},
   "outputs": [
    {
     "name": "stdout",
     "output_type": "stream",
     "text": [
      "Exception file Error\n",
      "Finally process\n"
     ]
    }
   ],
   "source": [
    "try:\n",
    "    file = open(\"myfile.txt\")\n",
    "    file.write(\"Python write file\")\n",
    "    print(\"file saved\")\n",
    "\n",
    "except:\n",
    "    print(\"Exception file Error\")\n",
    "\n",
    "finally:\n",
    "    file.close()\n",
    "    print(\"Finally process\")"
   ]
  },
  {
   "cell_type": "markdown",
   "id": "7bd1f9ca",
   "metadata": {},
   "source": [
    "# Kết thúc"
   ]
  },
  {
   "cell_type": "code",
   "execution_count": 43,
   "id": "5b8f0d44",
   "metadata": {},
   "outputs": [
    {
     "name": "stdout",
     "output_type": "stream",
     "text": [
      "[NbConvertApp] Converting notebook pythonProgramming.ipynb to html\n",
      "[NbConvertApp] Writing 416205 bytes to pythonProgramming.html\n"
     ]
    }
   ],
   "source": [
    "!jupyter nbconvert --to html \"pythonProgramming.ipynb\""
   ]
  },
  {
   "cell_type": "code",
   "execution_count": null,
   "id": "d50a6a68",
   "metadata": {},
   "outputs": [],
   "source": []
  }
 ],
 "metadata": {
  "kernelspec": {
   "display_name": "Python 3",
   "language": "python",
   "name": "python3"
  },
  "language_info": {
   "codemirror_mode": {
    "name": "ipython",
    "version": 3
   },
   "file_extension": ".py",
   "mimetype": "text/x-python",
   "name": "python",
   "nbconvert_exporter": "python",
   "pygments_lexer": "ipython3",
   "version": "3.12.1"
  }
 },
 "nbformat": 4,
 "nbformat_minor": 5
}
