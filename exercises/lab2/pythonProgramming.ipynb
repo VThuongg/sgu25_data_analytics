{
 "cells": [
  {
   "cell_type": "markdown",
   "id": "ec753c41",
   "metadata": {},
   "source": [
    "# Python Programming"
   ]
  },
  {
   "cell_type": "markdown",
   "id": "3804aa82",
   "metadata": {},
   "source": [
    "## Top Programming Languages"
   ]
  },
  {
   "cell_type": "markdown",
   "id": "caeaa268",
   "metadata": {},
   "source": [
    "Python is an interpreted, object-oriented, high-level programming language with dynamic semantics."
   ]
  },
  {
   "cell_type": "markdown",
   "id": "88b65496",
   "metadata": {},
   "source": [
    "### Python Ecosystem for Data Science"
   ]
  },
  {
   "cell_type": "markdown",
   "id": "732f949a",
   "metadata": {},
   "source": [
    "### Python Ecosystem for Data Science"
   ]
  },
  {
   "cell_type": "markdown",
   "id": "34aded89",
   "metadata": {},
   "source": [
    "### The Quant Finance PyData Stack"
   ]
  },
  {
   "cell_type": "markdown",
   "id": "d8745654",
   "metadata": {},
   "source": [
    "## Numpy"
   ]
  },
  {
   "cell_type": "markdown",
   "id": "2c23dda8",
   "metadata": {},
   "source": []
  }
 ],
 "metadata": {
  "language_info": {
   "name": "python"
  }
 },
 "nbformat": 4,
 "nbformat_minor": 5
}
