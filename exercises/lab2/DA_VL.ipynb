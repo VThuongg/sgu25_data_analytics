{
 "cells": [
  {
   "cell_type": "markdown",
   "id": "e5161541",
   "metadata": {},
   "source": [
    "# Data Analytics and Visualization with Python"
   ]
  },
  {
   "cell_type": "markdown",
   "id": "229595c2",
   "metadata": {},
   "source": [
    "## NumPy"
   ]
  },
  {
   "cell_type": "markdown",
   "id": "c9f859b4",
   "metadata": {},
   "source": [
    "## Pandas"
   ]
  },
  {
   "cell_type": "markdown",
   "id": "34bbd3b8",
   "metadata": {},
   "source": [
    "## Matplotlib\n"
   ]
  },
  {
   "cell_type": "markdown",
   "id": "e5ab6938",
   "metadata": {},
   "source": [
    "## Seaborn"
   ]
  },
  {
   "cell_type": "markdown",
   "id": "fdc76362",
   "metadata": {},
   "source": []
  }
 ],
 "metadata": {
  "language_info": {
   "name": "python"
  }
 },
 "nbformat": 4,
 "nbformat_minor": 5
}
