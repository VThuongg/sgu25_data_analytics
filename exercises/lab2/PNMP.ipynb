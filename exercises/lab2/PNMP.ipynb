{
 "cells": [
  {
   "cell_type": "markdown",
   "id": "443c1111",
   "metadata": {},
   "source": [
    "## Python Numpy Matplotlib Pandas"
   ]
  },
  {
   "cell_type": "markdown",
   "id": "3f6e6671",
   "metadata": {},
   "source": [
    "### 1. Biến"
   ]
  },
  {
   "cell_type": "markdown",
   "id": "10a673cc",
   "metadata": {},
   "source": [
    "<p><b>Biến</b> = vùng bộ nhớ được đặt tên (để dễ thao tác)</p>\n",
    "\n",
    "<p><b>Biến trong Python:</b><br>\n",
    "    - Có tên, phân biệt chữ hoa/thường<br>\n",
    "    - Không cần khai báo trước<br>\n",
    "    - Không cần chỉ ra kiểu dữ liệu<br>\n",
    "    - Có thể thay đổi sang kiểu dữ liệu khác<br>\n",
    "    - Nên gán giá trị ngay khi bắt đầu xuất hiện\n",
    "</p>\n",
    "\n",
    "<p><b>Ví dụ:</b></p>"
   ]
  },
  {
   "cell_type": "code",
   "execution_count": null,
   "id": "27bddb3d",
   "metadata": {},
   "outputs": [],
   "source": [
    "n = 12          # biến n là kiểu nguyên\n",
    "n = n + 0.1     # biến n chuyển sang kiểu thực"
   ]
  },
  {
   "cell_type": "markdown",
   "id": "6fae0d6f",
   "metadata": {},
   "source": [
    "<ul>\n",
    "  <li>Tên biến có thể chứa chữ cái, chữ số hoặc gạch dưới (_), nhưng không được bắt đầu bằng chữ số</li>\n",
    "  <li><span style=\"color:red\">Không được trùng với từ khóa (tất nhiên)</span></li>\n",
    "  <li><span style=\"color:red\">Từ Python 3 được dùng chữ cái Unicode</span></li>\n",
    "  <li>Tất cả mọi biến trong Python đều là đối tượng, nên có kiểu và vị trí trong bộ nhớ (<code>id</code>)</li>\n",
    "</ul>"
   ]
  },
  {
   "cell_type": "markdown",
   "id": "930031fa",
   "metadata": {},
   "source": [
    "### 2. Dữ liệu kiểu chuỗi"
   ]
  },
  {
   "cell_type": "markdown",
   "id": "43adff0a",
   "metadata": {},
   "source": [
    "<ul>\n",
    "  <li>Dữ liệu kiểu chuỗi rất quan trọng trong lập trình Python và trong các vấn đề của khoa học dữ liệu.</li>\n",
    "  <li>Khai báo dữ liệu kiểu chuỗi có thể nằm trong:\n",
    "    <ul>\n",
    "      <li>Nháy đơn <code>'...'</code></li>\n",
    "      <li>Nháy kép <code>\"...\"</code></li>\n",
    "      <li>Ba dấu nháy kép liên tiếp <code>\"\"\"...\"\"\"</code></li>\n",
    "    </ul>\n",
    "  </li>\n",
    "</ul>"
   ]
  },
  {
   "cell_type": "code",
   "execution_count": 2,
   "id": "9717c321",
   "metadata": {},
   "outputs": [],
   "source": [
    "name = 'matt'\n",
    "#chuỗi trong nó có chứa dấu nháy đơn\n",
    "with_quote = \"I ain't gonna\"\n",
    "#chuỗi có nôi dung nằm trên 2 dòng\n",
    "longer = \"\"\"This string has multiple lines in it\"\"\"\n"
   ]
  },
  {
   "cell_type": "markdown",
   "id": "94cfe291",
   "metadata": {},
   "source": [
    "### 3. Nhập và Xuất dữ liệu\n",
    "\n",
    ">Sử dụng hàm print để in dữ liệu ra màn hình"
   ]
  },
  {
   "cell_type": "code",
   "execution_count": 3,
   "id": "47ab6a51",
   "metadata": {},
   "outputs": [
    {
     "name": "stdout",
     "output_type": "stream",
     "text": [
      "42\n",
      "a =  3.67\n",
      "a = \n",
      " 3.67\n",
      "a b\n",
      "ab\n",
      "192.168.178.42\n",
      "a:-)b\n"
     ]
    }
   ],
   "source": [
    "# Xuất dữ liệu \n",
    "print(42)\n",
    "a = 3.67\n",
    "print(\"a = \", a)\n",
    "print(\"a = \\n\", a)\n",
    "print(\"a\",\"b\")\n",
    "print(\"a\",\"b\",sep=\"\")\n",
    "print(192,168,178,42,sep=\".\")\n",
    "print(\"a\",\"b\",sep=\":-)\")"
   ]
  },
  {
   "cell_type": "markdown",
   "id": "227abc51",
   "metadata": {},
   "source": [
    "> Sử dụng hàm input để nhập dữ liệu từ bàn phím"
   ]
  },
  {
   "cell_type": "code",
   "execution_count": 4,
   "id": "4547c7ac",
   "metadata": {},
   "outputs": [
    {
     "name": "stdout",
     "output_type": "stream",
     "text": [
      "Nice to meet you Vo Thi Thuong!\n",
      "You are already 21 years old, Vo Thi Thuong!\n"
     ]
    }
   ],
   "source": [
    "# Nhập dữ liệu \n",
    "name = input(\"What's your name? \")\n",
    "print(\"Nice to meet you \" + name + \"!\")\n",
    "age = input(\"Your age? \")\n",
    "print(\"You are already \" + age + \" years old, \" + name\n",
    "+ \"!\")"
   ]
  },
  {
   "cell_type": "markdown",
   "id": "72e878c0",
   "metadata": {},
   "source": [
    "> Có thể kết hợp chuyển kiểu nếu muốn tường minh"
   ]
  },
  {
   "cell_type": "code",
   "execution_count": 7,
   "id": "8dd81ec0",
   "metadata": {},
   "outputs": [
    {
     "name": "stdout",
     "output_type": "stream",
     "text": [
      "You are already 21 years old!\n"
     ]
    }
   ],
   "source": [
    "age = int(input(\"Your age? \"))\n",
    "print(\"You are already %d years old!\" %age)"
   ]
  },
  {
   "cell_type": "markdown",
   "id": "66dc4e32",
   "metadata": {},
   "source": [
    "### 4. Giải phương trình bậc 2 "
   ]
  },
  {
   "cell_type": "markdown",
   "id": "f246fa95",
   "metadata": {},
   "source": [
    "Cho phương trình sau: \n",
    "$$ax^2 + bx + c = 0 \\quad (a \\neq 0)$$\n",
    "được gọi là phương trình bậc 2 với ẩn là $x$.\n",
    "Công thức nghiệm: Ta gọi $\\Delta = b^2 - 4ac$. Khi đó:\n",
    "- Nếu $\\Delta > 0$: phương trình tồn tại 2 nghiệm\n",
    "  $$\n",
    "  x_1 = \\frac{-b + \\sqrt{\\Delta}}{2a}, \\quad \n",
    "  x_2 = \\frac{-b - \\sqrt{\\Delta}}{2a}\n",
    "  $$\n",
    "\n",
    "- Nếu $\\Delta = 0$: phương trình có nghiệm kép\n",
    "  $$\n",
    "  x = \\frac{-b}{2a}\n",
    "  $$\n",
    "\n",
    "- Nếu $\\Delta < 0$: phương trình vô nghiệm.\n",
    "---\n",
    "Trong trường hợp $b = 2b'$ để đơn giản ta có thể tính $\\Delta' = b'^2 - ac$. Tương tự:\n",
    "\n",
    "- Nếu $\\Delta' > 0$: phương trình có 2 nghiệm phân biệt\n",
    "  $$\n",
    "  x_1 = \\frac{-b' + \\sqrt{\\Delta'}}{a}, \\quad \n",
    "  x_2 = \\frac{-b' - \\sqrt{\\Delta'}}{a}\n",
    "  $$\n",
    "\n",
    "- Nếu $\\Delta' = 0$: phương trình có nghiệm kép\n",
    "  $$\n",
    "  x = \\frac{-b'}{a}\n",
    "  $$\n",
    "\n",
    "- Nếu $\\Delta' < 0$: phương trình vô nghiệm."
   ]
  },
  {
   "cell_type": "code",
   "execution_count": 8,
   "id": "a5a0b991",
   "metadata": {},
   "outputs": [
    {
     "name": "stdout",
     "output_type": "stream",
     "text": [
      "Phuong trinh vo nghiem\n"
     ]
    }
   ],
   "source": [
    "a = float(input(\"A = \"))\n",
    "b = float(input(\"B = \"))\n",
    "c = float(input(\"C = \"))\n",
    "\n",
    "delta = b*b-4*a*c\n",
    "\n",
    "if delta==0:\n",
    "    print(\"Nghiem kep: x = \", str(-b/2/a))\n",
    "if delta<0:\n",
    "    print(\"Phuong trinh vo nghiem\")\n",
    "if delta>0:\n",
    "    print(\"X1 = \" + str((-b+delta**0.5)/2/a))\n",
    "    print(\"X2 = \" + str((-b-delta**0.5)/2/a))"
   ]
  },
  {
   "cell_type": "markdown",
   "id": "c25ec7fb",
   "metadata": {},
   "source": [
    "### 5. Kiểu dữ liệu & phép toán liên quan"
   ]
  },
  {
   "cell_type": "markdown",
   "id": "2b0dbd88",
   "metadata": {},
   "source": [
    "#### 5.1. Kiểu số\n",
    "\n",
    ">❖Python viết số nguyên theo nhiều hệ cơ số"
   ]
  },
  {
   "cell_type": "code",
   "execution_count": 9,
   "id": "bcec9a62",
   "metadata": {},
   "outputs": [],
   "source": [
    "A = 1234    # hệ cơ số 10\n",
    "B = 0xAF1   # hệ cơ số 16\n",
    "C = 0o772   # hệ cơ số 8\n",
    "D = 0b1001  # hệ cơ số 2"
   ]
  },
  {
   "cell_type": "markdown",
   "id": "f1d65739",
   "metadata": {},
   "source": [
    "> ❖Chuyển đổi từ số nguyên thành string ở các hệ cơ số khác nhau"
   ]
  },
  {
   "cell_type": "code",
   "execution_count": 10,
   "id": "aab2ec0f",
   "metadata": {},
   "outputs": [],
   "source": [
    "K = str(1234) # chuyển thành str ở hệ cơ số 10\n",
    "L = hex(1234) # chuyển thành str ở hệ cơ số 16\n",
    "M = oct(1234) # chuyển thành str ở hệ cơ số 8\n",
    "N = bin(1234) # chuyển thành str ở hệ cơ số 2"
   ]
  },
  {
   "cell_type": "markdown",
   "id": "ebd0bcfd",
   "metadata": {},
   "source": [
    "> ❖Từ python 3, số nguyên không có giới hạn số chữ số<br><br>\n",
    "> ❖Số thực (float) trong python có thể viết kiểu thông thường hoặc dạng khoa học"
   ]
  },
  {
   "cell_type": "code",
   "execution_count": 11,
   "id": "c9cc7585",
   "metadata": {},
   "outputs": [],
   "source": [
    "X = 12.34\n",
    "Y = 314.15279e-2 # dạng số nguyên và phần mũ 10"
   ]
  },
  {
   "cell_type": "markdown",
   "id": "6d7596d9",
   "metadata": {},
   "source": [
    "> ❖Python hỗ trợ kiểu số phức, với chữ j đại diện cho phần ảo"
   ]
  },
  {
   "cell_type": "code",
   "execution_count": 13,
   "id": "6b61dc78",
   "metadata": {},
   "outputs": [
    {
     "name": "stdout",
     "output_type": "stream",
     "text": [
      "(5+2j)\n"
     ]
    }
   ],
   "source": [
    "A = 3+4j\n",
    "B = 2-2j\n",
    "print(A+B) # sẽ in ra (5+2j)"
   ]
  },
  {
   "cell_type": "markdown",
   "id": "50961f6c",
   "metadata": {},
   "source": [
    "#### 5.2. Phép toán"
   ]
  },
  {
   "cell_type": "markdown",
   "id": "d8c512b6",
   "metadata": {},
   "source": [
    "❖Python hỗ trợ nhiều phép toán số, logic, so\n",
    "sánh và phép toán bit\n",
    "- Các phép toán cơ bản: `+`, `-`, `*`, `%`, `**`\n",
    "- Python có 2 phép chia:\n",
    "  - **Chia đúng (`/`)**  \n",
    "    ```python\n",
    "    10 / 3   # 3.3333333333333335\n",
    "    ```\n",
    "  - **Chia nguyên (`//`)**  \n",
    "    ```python\n",
    "    10 // 3  # 3   (nhanh hơn phép /)\n",
    "    ```\n",
    "- Phép toán logic: `and`, `or`, `not`\n",
    "- Python **không có phép xor logic**. Nếu muốn tính XOR, dùng so sánh khác:\n",
    "  ```python\n",
    "  bool(a) != bool(b)\n",
    "- Các phép so sánh: `<`, `<=`, `>`, `>=`, `!=`, `==` <br>\n",
    "- Các phép toán bit: `&`, `|`, `^`, `~`, `<<`, `>>` <br>\n",
    "- Phép kiểm tra tập (in, not in): 1 in [1, 2, 3]"
   ]
  },
  {
   "cell_type": "markdown",
   "id": "9d1271b1",
   "metadata": {},
   "source": [
    "### 6. Cấu trúc rẽ nhánh "
   ]
  },
  {
   "cell_type": "markdown",
   "id": "e80d0b05",
   "metadata": {},
   "source": [
    "> Chú ý: python nhạy cảm với việc viết khối mã"
   ]
  },
  {
   "cell_type": "code",
   "execution_count": 15,
   "id": "71789676",
   "metadata": {},
   "outputs": [
    {
     "name": "stdout",
     "output_type": "stream",
     "text": [
      "Nice to meet you Thương!\n",
      "You are already 21 years old, Thương !\n",
      "Đủ tuổi đi bầu cử\n"
     ]
    }
   ],
   "source": [
    "name = input(\"What's your name? \")\n",
    "print(\"Nice to meet you \" + name + \"!\")\n",
    "age = int(input(\"Your age? \"))\n",
    "print(\"You are already\", age, \"years old,\",\n",
    "name, \"!\")\n",
    "if age>=18:\n",
    "    print(\"Đủ tuổi đi bầu cử\")\n",
    "    if age>100:\n",
    "        print(\"Có vẻ sai sai!\")\n",
    "else:\n",
    "    print(\"Nhỏ quá\")"
   ]
  },
  {
   "cell_type": "markdown",
   "id": "f1d5f688",
   "metadata": {},
   "source": [
    "- Python có cách sử dụng `if` khá đặc biệt (nhìn hơi lạ với những ai đã quen ngôn ngữ khác).  \n",
    "- Tuy nhiên, cách viết này lại **hợp lý** và **dễ đọc** khi diễn đạt điều kiện logic.\n",
    "    - Cú pháp: **A if <điều-kiện> else B**\n",
    "    - Giải thích: phép toán trả về A nếu điều-kiện là đúng, ngược lại trả về B<br>\n",
    "\n",
    "- **Ví dụ:**\n",
    "    - X = A if A > B else B              # X là max của A và B"
   ]
  },
  {
   "cell_type": "markdown",
   "id": "0e83fec5",
   "metadata": {},
   "source": [
    "### 7. Vòng lặp"
   ]
  },
  {
   "cell_type": "markdown",
   "id": "8ca78fdc",
   "metadata": {},
   "source": [
    "#### 7.1. Vòng lặp While\n",
    "- Lặp while trong python tương đối giống trong các ngôn ngữ khác\n",
    "- Trong khối lệnh while (lệnh lặp nói chung) có thể dùng **continue** hoặc **break** để về đầu hoặc cuối khối lệnh\n",
    "- Khối **“else”** sẽ được thực hiện sau khi toàn bộ vòng lặp đã chạy xong\n",
    "- Khối này sẽ không chạy nếu vòng lặp bị **“break”**"
   ]
  },
  {
   "cell_type": "markdown",
   "id": "1bc4008c",
   "metadata": {},
   "source": [
    "#### 7.2. Vòng lặp For\n",
    "- Vòng lặp for sử dụng để duyệt danh sách, khối else làm việc tương tự như ở vòng lặp while\n",
    "- Dùng hàm **range(a, b)** để tạo danh sách gồm các số từ a đến b-1, hoặc tổng quát hơn là **range(a, b, c)** trong đó c là bước nhảy"
   ]
  },
  {
   "cell_type": "code",
   "execution_count": 21,
   "id": "b89756c4",
   "metadata": {},
   "outputs": [
    {
     "name": "stdout",
     "output_type": "stream",
     "text": [
      "10 11 12 13 14 15 16 17 18 19 \n",
      "20\n",
      "19\n",
      "18\n",
      "17\n",
      "16\n",
      "15\n",
      "14\n",
      "13\n",
      "12\n",
      "11\n"
     ]
    }
   ],
   "source": [
    "# Vòng lặp for \n",
    "for d in range(10,20): # in các số từ 10 đến 19\n",
    "    print(d, end=\" \")\n",
    "print()\n",
    "for d in range(20,10,-1): # in các số từ 20 đến 11\n",
    "    print(d)"
   ]
  },
  {
   "cell_type": "markdown",
   "id": "3a136feb",
   "metadata": {},
   "source": [
    "### 8. Hàm"
   ]
  },
  {
   "cell_type": "markdown",
   "id": "cc9c53bf",
   "metadata": {},
   "source": [
    "- Cú pháp khai báo hàm rất đơn giản:\n",
    "\n",
    "    ```python\n",
    "    def <tên_hàm>(danh_sách_tham_số):\n",
    "        <lệnh 1>\n",
    "        ...\n",
    "        <lệnh n>\n",
    "\n",
    "- Ví dụ: hàm tính tích 2 số\n",
    "    ```python\n",
    "    def tich(a, b):\n",
    "        return a*b\n",
    "    \n",
    "    Hàm trả về kết quả bằng lệnh return, nếu không trả về thì coi như trả về None"
   ]
  },
  {
   "cell_type": "markdown",
   "id": "3e196f13",
   "metadata": {},
   "source": [
    "> Hàm có thể chỉ ra giá trị mặc định của tham số<br>\n",
    "    \n",
    "**Chú ý: các tham số có giá trị mặc định phải đứng cuối danh sách tham số**"
   ]
  },
  {
   "cell_type": "code",
   "execution_count": 23,
   "id": "5741900e",
   "metadata": {},
   "outputs": [],
   "source": [
    "def tich(a, b = 1):\n",
    "    return a*b"
   ]
  },
  {
   "cell_type": "code",
   "execution_count": 24,
   "id": "34a9fc37",
   "metadata": {},
   "outputs": [
    {
     "name": "stdout",
     "output_type": "stream",
     "text": [
      "200\n",
      "10\n",
      "5\n",
      "30\n"
     ]
    }
   ],
   "source": [
    "print(tich(10, 20)) \n",
    "print(tich(10)) \n",
    "print(tich(a=5))\n",
    "print(tich(b=6, a=5))"
   ]
  },
  {
   "cell_type": "markdown",
   "id": "b8a67e5d",
   "metadata": {},
   "source": [
    "### 9. Chuỗi và danh sách "
   ]
  },
  {
   "cell_type": "markdown",
   "id": "82c52098",
   "metadata": {},
   "source": [
    "#### 9.1. Chuỗi "
   ]
  },
  {
   "cell_type": "markdown",
   "id": "27c97618",
   "metadata": {},
   "source": [
    "- Một chuỗi được xem như một hàng (tuple) các chuỗi con độ dài 1\n",
    "    - Trong python không có kiểu kí tự (character)\n",
    "    - Nội dung của chuỗi không thay đổi được, khi ghép thêm nội dung vào chuỗi thực chất là tạo ra chuỗi mới\n",
    "\n",
    "- Hàm len(s) trả về độ dài (số chữ) của s. Phép toán với chuỗi:\n",
    "    - Phép nối chuỗi (+): s = \"Good\" + \" \" + \"Morning!\"\n",
    "    - Phép nhân bản (*): s = \"AB\" * 3 # số nguyên\n",
    "    - Kiểm tra nội dung: s in '1ABABABCD' # True"
   ]
  },
  {
   "cell_type": "code",
   "execution_count": 29,
   "id": "a4e9c70c",
   "metadata": {},
   "outputs": [
    {
     "name": "stdout",
     "output_type": "stream",
     "text": [
      "Độ dài của chuỗi s là: 5\n"
     ]
    }
   ],
   "source": [
    "s = \"Hello\"\n",
    "print(\"Độ dài của chuỗi s là: %d\" %len(s))   # 5"
   ]
  },
  {
   "cell_type": "markdown",
   "id": "a9a76fbf",
   "metadata": {},
   "source": [
    "- Các phần tử (các chữ) trong chuỗi được đánh số thứ tự và có thể truy cập vào từng phần tử theo chỉ số.\n",
    "- Python duy trì 2 cách đánh chỉ mục khác nhau:\n",
    "    - Đánh từ trái qua phải: chỉ số đánh từ 0 trở đi cho đến cuối chuỗi\n",
    "    - Đánh từ phải qua trái: chỉ số đánh từ -1 giảm dần về đầu chuỗi"
   ]
  },
  {
   "cell_type": "code",
   "execution_count": 25,
   "id": "07b1b285",
   "metadata": {},
   "outputs": [
    {
     "name": "stdout",
     "output_type": "stream",
     "text": [
      "P\n",
      "y\n",
      "n\n",
      "n\n",
      "o\n"
     ]
    }
   ],
   "source": [
    "s = \"Python\"\n",
    "\n",
    "print(s[0])  \n",
    "print(s[1])  \n",
    "print(s[5])  \n",
    "\n",
    "print(s[-1]) \n",
    "print(s[-2]) "
   ]
  },
  {
   "cell_type": "markdown",
   "id": "89286518",
   "metadata": {},
   "source": [
    "- Dựa trên chỉ mục, phép cắt chuỗi cho phép lấy nội dung bên trong của chuỗi bằng cú pháp như sau:\n",
    "\n",
    "    **<chuỗi>[vị trí A : vị trí B]**\n",
    "    **<chuỗi>[vị trí A : vị trí B : bước nhảy]**\n",
    "\n",
    "- Giải thích:\n",
    "    - Tạo chuỗi con bắt đầu từ `<vị-trí-A>` đến trước `<vị-trí-B>`\n",
    "        - (Tức là chuỗi con sẽ không gồm vị trí B)\n",
    "    - Nếu không ghi `<vị-trí-A>` thì mặc định là lấy từ đầu\n",
    "    - Nếu không ghi `<vị-trí-B>` thì mặc định là đến hết chuỗi\n",
    "    - Nếu không ghi `<bước-nhảy>` thì mặc định bước là 1\n",
    "    - Nếu `<bước-nhảy>` giá trị âm thì sẽ nhận chuỗi ngược lại"
   ]
  },
  {
   "cell_type": "code",
   "execution_count": 30,
   "id": "d8da7587",
   "metadata": {},
   "outputs": [
    {
     "name": "stdout",
     "output_type": "stream",
     "text": [
      "Pyth\n",
      "Pyth\n",
      "thon\n",
      "Python\n",
      "Pto\n",
      "nohtyP\n"
     ]
    }
   ],
   "source": [
    "s = \"Python\"\n",
    "\n",
    "print(s[0:4])     # 'Pyth'   (từ vị trí 0 đến trước 4)\n",
    "print(s[:4])      # 'Pyth'   (từ đầu đến trước 4)\n",
    "print(s[2:])      # 'thon'   (từ vị trí 2 đến hết)\n",
    "print(s[:])       # 'Python' (toàn bộ chuỗi)\n",
    "print(s[::2])     # 'Pto'    (bước nhảy = 2)\n",
    "print(s[::-1])    # 'nohtyP' (đảo ngược chuỗi)\n"
   ]
  },
  {
   "cell_type": "markdown",
   "id": "38006d82",
   "metadata": {},
   "source": [
    "- Dùng toán tử %: **<chuỗi> % (<các tham số>)**\n",
    "    - Bên trong <chuỗi> có các kí hiệu đánh dấu nơi đặt lần lượt các tham số\n",
    "    - Nếu đánh dấu %s: thay thế bằng tham số dạng chuỗi\n",
    "    - Nếu đánh dấu %d: thay thế bằng tham số dạng nguyên\n",
    "    - Nếu đánh dấu %f: thay thế bằng tham số dạng thực\n",
    "\n",
    "- Ví dụ:\n",
    "    ````\n",
    "    \"Chao %s, gio la %d gio\" % ('txnam', 10)\n",
    "    \"Can bac 2 cua 2 = %f\" % (2**0.5)\n",
    "    \"Can bac 2 cua 2 = %10.3f\" % (2**0.5)\n",
    "    \"Can bac 2 cua 2 = %10f\" % (2**0.5)\n",
    "    \"Can bac 2 cua 2 = %.7f\" % (2**0.5)"
   ]
  },
  {
   "cell_type": "code",
   "execution_count": 34,
   "id": "102bed7e",
   "metadata": {},
   "outputs": [
    {
     "name": "stdout",
     "output_type": "stream",
     "text": [
      "Chào Thương, giờ là 10 giờ\n"
     ]
    }
   ],
   "source": [
    "print(\"Chào %s, giờ là %d giờ\" % ('Thương', 10))"
   ]
  },
  {
   "cell_type": "markdown",
   "id": "517b3b8e",
   "metadata": {},
   "source": [
    "> Python cho phép định dạng chuỗi ở dạng f-string"
   ]
  },
  {
   "cell_type": "code",
   "execution_count": 35,
   "id": "b9685f53",
   "metadata": {},
   "outputs": [],
   "source": [
    "myname = 'DHNTT'\n",
    "s = f'This is {myname}.' # 'This is DHNTT.'\n",
    "w = f'{s} {myname}' # 'This is DHNTT. DHNTT '\n",
    "z = f'{{s}} {s}' # '{s} This is DHNTT.‘"
   ]
  },
  {
   "cell_type": "markdown",
   "id": "ea38f424",
   "metadata": {},
   "source": [
    "> Mạnh mẽ nhất là định dạng bằng format"
   ]
  },
  {
   "cell_type": "code",
   "execution_count": 38,
   "id": "9bac617b",
   "metadata": {},
   "outputs": [
    {
     "data": {
      "text/plain": [
       "'a: 1, b: 2, c: 3'"
      ]
     },
     "execution_count": 38,
     "metadata": {},
     "output_type": "execute_result"
    }
   ],
   "source": [
    "# điền lần lượt từng giá trị vào giữa cặp ngoặc nhọn\n",
    "'a: {}, b: {}, c: {}'.format(1, 2, 3)"
   ]
  },
  {
   "cell_type": "code",
   "execution_count": 40,
   "id": "3883c299",
   "metadata": {},
   "outputs": [
    {
     "data": {
      "text/plain": [
       "'a: two, b: three, c: one'"
      ]
     },
     "execution_count": 40,
     "metadata": {},
     "output_type": "execute_result"
    }
   ],
   "source": [
    "\n",
    "# điền nhưng không lần lượt\n",
    "'a: {1}, b: {2}, c: {0}'.format('one', 'two', 'three')\n"
   ]
  },
  {
   "cell_type": "code",
   "execution_count": 41,
   "id": "405c0bb2",
   "metadata": {},
   "outputs": [
    {
     "data": {
      "text/plain": [
       "'two same values: 1, 1'"
      ]
     },
     "execution_count": 41,
     "metadata": {},
     "output_type": "execute_result"
    }
   ],
   "source": [
    "'two same values: {0}, {0}'.format(1, 2)"
   ]
  },
  {
   "cell_type": "code",
   "execution_count": 42,
   "id": "62c6d452",
   "metadata": {},
   "outputs": [
    {
     "data": {
      "text/plain": [
       "'1: 111, 2: 222'"
      ]
     },
     "execution_count": 42,
     "metadata": {},
     "output_type": "execute_result"
    }
   ],
   "source": [
    "# điền và chỉ định từng giá trị\n",
    "'1: {one}, 2: {two}'.format(one=111, two=222)"
   ]
  },
  {
   "cell_type": "markdown",
   "id": "d4b770f1",
   "metadata": {},
   "source": [
    "> Định dạng bằng format cho phép căn lề phong phú"
   ]
  },
  {
   "cell_type": "code",
   "execution_count": 43,
   "id": "630773fb",
   "metadata": {},
   "outputs": [
    {
     "data": {
      "text/plain": [
       "'   aaaa   '"
      ]
     },
     "execution_count": 43,
     "metadata": {},
     "output_type": "execute_result"
    }
   ],
   "source": [
    "# căn giữa: ' aaaa '\n",
    "'{:^10}'.format('aaaa')\n"
   ]
  },
  {
   "cell_type": "code",
   "execution_count": 44,
   "id": "8cafea87",
   "metadata": {},
   "outputs": [
    {
     "data": {
      "text/plain": [
       "'aaaa      '"
      ]
     },
     "execution_count": 44,
     "metadata": {},
     "output_type": "execute_result"
    }
   ],
   "source": [
    "# căn lề trái: 'aaaa '\n",
    "'{:<10}'.format('aaaa')"
   ]
  },
  {
   "cell_type": "code",
   "execution_count": 45,
   "id": "c10874f4",
   "metadata": {},
   "outputs": [
    {
     "data": {
      "text/plain": [
       "'      aaaa'"
      ]
     },
     "execution_count": 45,
     "metadata": {},
     "output_type": "execute_result"
    }
   ],
   "source": [
    "# căn lề phải ' aaaa'\n",
    "'{:>10}'.format('aaaa')"
   ]
  },
  {
   "cell_type": "code",
   "execution_count": 46,
   "id": "f6d648a8",
   "metadata": {},
   "outputs": [
    {
     "data": {
      "text/plain": [
       "'------aaaa'"
      ]
     },
     "execution_count": 46,
     "metadata": {},
     "output_type": "execute_result"
    }
   ],
   "source": [
    "# căn lề phải, thay khoảng trắng bằng -: '------aaaa'\n",
    "'{:->10}'.format('aaaa')"
   ]
  },
  {
   "cell_type": "code",
   "execution_count": 47,
   "id": "24b41c19",
   "metadata": {},
   "outputs": [
    {
     "data": {
      "text/plain": [
       "'aaaa******'"
      ]
     },
     "execution_count": 47,
     "metadata": {},
     "output_type": "execute_result"
    }
   ],
   "source": [
    "# căn lề trái, thay khoảng trắng *: 'aaa******'\n",
    "'{:*<10}'.format('aaaa')"
   ]
  },
  {
   "cell_type": "code",
   "execution_count": 48,
   "id": "8f7d37fc",
   "metadata": {},
   "outputs": [
    {
     "data": {
      "text/plain": [
       "'+++aaaa+++'"
      ]
     },
     "execution_count": 48,
     "metadata": {},
     "output_type": "execute_result"
    }
   ],
   "source": [
    "# căn giữa, thay khoảng trắng bằng +: '+++aaaa+++'\n",
    "'{:+^10}'.format('aaaa')"
   ]
  },
  {
   "cell_type": "markdown",
   "id": "ef51d5cf",
   "metadata": {},
   "source": [
    "- Các phương thức chỉnh dạng\n",
    "    - **capitalize()**: viết hoa chữ cái đầu, còn lại viết thường\n",
    "    - **upper()**: chuyển hết thành chữ hoa\n",
    "    - **lower()**: chuyển hết thành chữ thường\n",
    "    - **swapcase()**: chữ thường thành hoa và ngược lại\n",
    "    - **title()**: chữ đầu của mỗi từ viết hoa, còn lại viết thường\n",
    "\n",
    "- Các phương thức căn lề\n",
    "    - `center(width [,fillchar])`: căn lề giữa với độ dài width\n",
    "    - `rjust(width [,fillchar])`: căn lề phải\n",
    "    - `ljust(width [,fillchar])`: căn lề trái"
   ]
  },
  {
   "cell_type": "code",
   "execution_count": 49,
   "id": "2e21341b",
   "metadata": {},
   "outputs": [
    {
     "name": "stdout",
     "output_type": "stream",
     "text": [
      "Hello world\n",
      "HELLO WORLD\n"
     ]
    }
   ],
   "source": [
    "text = \"hello world\"\n",
    "print(text.capitalize())  \n",
    "print(text.upper()) "
   ]
  },
  {
   "cell_type": "markdown",
   "id": "8a99bf8e",
   "metadata": {},
   "source": [
    "- Các phương thức cắt phần dư\n",
    "    - `strip([chars])`: loại bỏ những ký tự đầu hoặc cuối chuỗi thuộc vào danh sách [chars], hoặc ký tự trống\n",
    "    - `rstrip([chars])`: làm việc như strip nhưng cho bên phải\n",
    "    - `lstrip([chars])`: làm việc như strip nhưng cho bên trái\n",
    "\n",
    "- Tách chuỗi\n",
    "    - **split(sep, maxsplit)**: tách chuỗi thành một danh sách, sử dụng dấu ngăn cách sep, thực hiện tối đa maxsplit lần\n",
    "        - Tách các số nhập vào từ một dòng: input(\"Test: \").split(',')\n",
    "    - **rsplit(sep, maxsplit)**: thực hiện như split nhưng theonhướng ngược từ phía cuối chuỗi"
   ]
  },
  {
   "cell_type": "code",
   "execution_count": 52,
   "id": "3dcc3944",
   "metadata": {},
   "outputs": [
    {
     "name": "stdout",
     "output_type": "stream",
     "text": [
      "***Hello World***\n",
      "Hello World\n",
      "   ***Hello World\n"
     ]
    }
   ],
   "source": [
    "text = \"   ***Hello World***   \"\n",
    "\n",
    "# strip(): loại bỏ khoảng trắng hoặc ký tự được chỉ định ở đầu và cuối\n",
    "print(text.strip())           \n",
    "\n",
    "print(text.strip(\" *\"))         \n",
    "\n",
    "# rstrip(): loại bỏ bên phải\n",
    "print(text.rstrip(\" *\"))        "
   ]
  },
  {
   "cell_type": "code",
   "execution_count": 53,
   "id": "6e7989e8",
   "metadata": {},
   "outputs": [
    {
     "name": "stdout",
     "output_type": "stream",
     "text": [
      "['apple', 'banana', 'cherry,orange']\n",
      "['apple,banana', 'cherry', 'orange']\n"
     ]
    }
   ],
   "source": [
    "data = \"apple,banana,cherry,orange\"\n",
    "\n",
    "# split(): tách từ trái sang phải, tối đa 2 lần\n",
    "print(data.split(',', 2))       \n",
    "\n",
    "# rsplit(): tách từ phải sang trái, tối đa 2 lần\n",
    "print(data.rsplit(',', 2))     "
   ]
  },
  {
   "cell_type": "markdown",
   "id": "6bb8409c",
   "metadata": {},
   "source": [
    "- Các phương thức khác\n",
    "    - `join(list)`: ghép các phần tử trong list bởi phần gạch nối là nội dung của chuỗi, ví dụ: '-'.join(('1', '2', '3'))\n",
    "    - `replace (old, new [,count])`: thế nội dung old bằng nội dung new, tối đa count lần\n",
    "    - `count(sub, [start, [end]])`: đếm số lần xuất hiện của sub\n",
    "    - `startswith(prefix)`: kiểm tra đầu có là prefix không\n",
    "    -  `endswith(prefix)`: kiểm tra cuối có là prefix không\n",
    "    - `find(sub[, start[, end]])`: tìm vị trí của sub (-1: không có)\n",
    "    - `rfind(sub[, start[, end]])`: như find nhưng tìm từ cuối\n",
    "    - `islower()`, `isupper()`, `istitle()`, `isdigit()`, `isspace()`"
   ]
  },
  {
   "cell_type": "code",
   "execution_count": 55,
   "id": "d6ebd616",
   "metadata": {},
   "outputs": [
    {
     "name": "stdout",
     "output_type": "stream",
     "text": [
      "1-2-3\n",
      "I love Java. Java is fun.\n"
     ]
    }
   ],
   "source": [
    "lst = ['1', '2', '3']\n",
    "print('-'.join(lst))\n",
    "\n",
    "text = \"I love Python. Python is fun.\"\n",
    "print(text.replace(\"Python\", \"Java\"))"
   ]
  },
  {
   "cell_type": "markdown",
   "id": "e756638b",
   "metadata": {},
   "source": [
    "#### 9.2. List "
   ]
  },
  {
   "cell_type": "markdown",
   "id": "e5011570",
   "metadata": {},
   "source": [
    "- List = dãy các đối tượng (một loại array đa năng)\n",
    "- Khai báo trực tiếp bằng cách liệt kê các phần tử con đặt trong cặp ngoặc vuông ([ ]), ngăn cách bởi phẩy"
   ]
  },
  {
   "cell_type": "code",
   "execution_count": 56,
   "id": "ecc08b9f",
   "metadata": {},
   "outputs": [
    {
     "data": {
      "text/plain": [
       "[]"
      ]
     },
     "execution_count": 56,
     "metadata": {},
     "output_type": "execute_result"
    }
   ],
   "source": [
    "[1, 2, 3, 4, 5]           # list 5 số nguyên\n",
    "['a', 'b', 'c', 'd']       # list 4 chuỗi\n",
    "[[1, 2], [3, 4]]           # list 2 list con\n",
    "[1, 'one', [2, 'two']]     # list hỗ hợp\n",
    "[]                          # list rỗng"
   ]
  },
  {
   "cell_type": "markdown",
   "id": "6bdca6fe",
   "metadata": {},
   "source": [
    "- Kiểu chuỗi (str) trong python có thể xem như một list đặc biệt, bên trong gồm toàn các str độ dài 1"
   ]
  },
  {
   "cell_type": "markdown",
   "id": "298183c1",
   "metadata": {},
   "source": [
    "> Tạo list bằng constructor"
   ]
  },
  {
   "cell_type": "code",
   "execution_count": 57,
   "id": "04355cd7",
   "metadata": {},
   "outputs": [],
   "source": [
    "l1 = list([1, 2, 3, 4]) # list 4 số nguyên\n",
    "l2 = list('abc') # list 3 chuỗi con\n",
    "l3 = list() # list rỗng"
   ]
  },
  {
   "cell_type": "markdown",
   "id": "7ffe6ad8",
   "metadata": {},
   "source": [
    "> Tạo list bằng list comprehension"
   ]
  },
  {
   "cell_type": "code",
   "execution_count": 58,
   "id": "b46a8e5b",
   "metadata": {},
   "outputs": [],
   "source": [
    "# list 1000 số nguyên từ 0 đến 999\n",
    "X = [n for n in range(1000)]\n",
    "# list gồm 10 list con là các cặp [x, x2]\n",
    "# với x chạy từ 0 đến 9\n",
    "Y = [[x, x*x] for x in range(10)]"
   ]
  },
  {
   "cell_type": "markdown",
   "id": "e4699c0a",
   "metadata": {},
   "source": [
    "- Giữa list và str có sự tương đồng nhất định\n",
    "    - List cũng hỗ trợ 3 phép toán: ghép nối (+), nhân bản (*) và kiểm tra nội dung (in)\n",
    "    - List sử dụng hệ thống chỉ mục và các phép cắt phần con tương tự như str\n",
    "\n",
    "> Điểm khác biệt là nội dung của list có thể thay đổi"
   ]
  },
  {
   "cell_type": "code",
   "execution_count": 59,
   "id": "125279ec",
   "metadata": {},
   "outputs": [
    {
     "name": "stdout",
     "output_type": "stream",
     "text": [
      "[1, 2, 3, ['a', 'b', 'c']]\n"
     ]
    }
   ],
   "source": [
    "l1 = list([1, 2, 3, 4])\n",
    "l1[-1] = list('abc')\n",
    "print(l1)\n",
    "# [1, 2, 3, ['a', 'b', 'c']]"
   ]
  },
  {
   "cell_type": "markdown",
   "id": "ae09b47f",
   "metadata": {},
   "source": [
    "- Một số phương thức thường hay sử dụng\n",
    "    - `count(sub, [start, [end]])`: đếm số lần xuất hiện của sub\n",
    "    - `index(sub[, start[, end]])`: tìm vị trí xuất hiện của sub, trả về ValueError nếu không tìm thấy\n",
    "    - `clear()`: xóa trắng list\n",
    "    - `append(x)`: thêm x vào cuối list\n",
    "    - `extend(x)`: thêm các phần tử của x vào cuối list\n",
    "    - `insert (p, x)`: chèn x vào vị trí p trong list\n",
    "    - `pop(p)`: bỏ phần tử thứ p ra khỏi list (trả về giá trị của phần tử đó), nếu không chỉ định p thì lấy phần tử cuối .\n",
    "    -  `copy()`: tạo bản sao của list (tương tự list[:])\n",
    "    - `remove(x)`: bỏ phần tử đầu tiên trong list có giá trị x, báo lỗi ValueError nếu không tìm thấy\n",
    "    - `reverse()`: đảo ngược các phần tử trong list\n",
    "    - `sort(key=None, reverse=False)`: mặc định là sắp xếp các phần tử từ bé đến lớn trong list bằng cách so sánh trực tiếp giá trị"
   ]
  },
  {
   "cell_type": "code",
   "execution_count": 60,
   "id": "af14f77e",
   "metadata": {},
   "outputs": [
    {
     "name": "stdout",
     "output_type": "stream",
     "text": [
      "['An', 'Nguyen', 'Van']\n"
     ]
    }
   ],
   "source": [
    "# Các phương thức của list\n",
    "x = \"Nguyen Van An\".split()\n",
    "x.sort(key=str.lower)\n",
    "print(x)"
   ]
  },
  {
   "cell_type": "markdown",
   "id": "38a40206",
   "metadata": {},
   "source": [
    "#### 9.3. Tuple"
   ]
  },
  {
   "cell_type": "markdown",
   "id": "7e7b9121",
   "metadata": {},
   "source": [
    "- Tuple = dãy các đối tượng (list), nhưng không thể bị thay đổi giá trị trong quá trình tính toán\n",
    "- Như vậy str giống tuple nhiều hơn list\n",
    "- Khai báo trực tiếp bằng cách liệt kê các phần tử con đặt trong cặp ngoặc tròn (), ngăn cách bởi phẩy"
   ]
  },
  {
   "cell_type": "code",
   "execution_count": 61,
   "id": "b230057a",
   "metadata": {},
   "outputs": [
    {
     "data": {
      "text/plain": [
       "()"
      ]
     },
     "execution_count": 61,
     "metadata": {},
     "output_type": "execute_result"
    }
   ],
   "source": [
    "(1, 2, 3, 4, 5) # tuple 5 số nguyên\n",
    "('a', 'b', 'c', 'd') # tuple 4 chuỗi\n",
    "(1, 'one', [2, 'two']) # tuple hỗ hợp\n",
    "(1,) # tuple 1 phần tử\n",
    "() # tuple rỗngS"
   ]
  },
  {
   "cell_type": "markdown",
   "id": "4da48690",
   "metadata": {},
   "source": [
    "- Tuple có thể tạo bằng constructor hoặc tuple comprehension\n",
    "- Tuple hỗ trợ 3 phép toán: `+`, `*`, `in`\n",
    "- Tuple cho phép sử dụng chỉ mục và cắt\n",
    "- Các phương thức thường dùng của tuple\n",
    "    - **count(v)**: đếm số lần xuất hiện của v trong tuple\n",
    "    - **index(sub[,start[,end]])**: tương tự như str và list\n",
    "-  Tuple khác list ở điểm nào?\n",
    "    - _Chiếm ít bộ nhớ hơn_\n",
    "    - _Nhanh hơn_"
   ]
  },
  {
   "cell_type": "markdown",
   "id": "65db8e70",
   "metadata": {},
   "source": [
    "#### 9.4. Range (Miền)"
   ]
  },
  {
   "cell_type": "markdown",
   "id": "0ed0ebbf",
   "metadata": {},
   "source": [
    "- Chúng ta đã làm quen với range khi dùng vòng for\n",
    "    - range(stop): tạo miền từ 0 đến stop-1\n",
    "    - range(start, stop[, step]): tạo miền từ start đến stop-1, với bước nhảy là step\n",
    "    - _Nếu không chỉ định thì step = 1_\n",
    "    - _Nếu step là số âm sẽ tạo miền đếm giảm dần (start > stop)_\n",
    "\n",
    "- Vậy range khác gì một tuple đặc biệt\n",
    "    - Range chỉ chứa số nguyên\n",
    "    - Range nhanh hơn rất nhiều\n",
    "    - Range chiếm ít bộ nhớ hơn\n",
    "    - Range vẫn hỗ trợ chỉ mục và cắt (nhưng khá đặc biệt)"
   ]
  },
  {
   "cell_type": "markdown",
   "id": "59908eeb",
   "metadata": {},
   "source": [
    "### 10. Tập hợp"
   ]
  },
  {
   "cell_type": "markdown",
   "id": "5b2c5786",
   "metadata": {},
   "source": [
    "#### 10.1. Set(Tập hợp) và Frozenset(Tập hợp tĩnh)"
   ]
  },
  {
   "cell_type": "markdown",
   "id": "d57c0ab8",
   "metadata": {},
   "source": [
    "- Set = tập hợp các đối tượng (không trùng nhau)\n",
    "- Khai báo trực tiếp bằng cách liệt kê các phần tử con đặt trong cặp ngoặc nhọn { }, ngăn cách bởi phẩy."
   ]
  },
  {
   "cell_type": "code",
   "execution_count": 1,
   "id": "ae7d9f8d",
   "metadata": {},
   "outputs": [
    {
     "name": "stdout",
     "output_type": "stream",
     "text": [
      "{'apple', 'orange', 'pear'}\n"
     ]
    }
   ],
   "source": [
    "basket = {'apple','orange','apple','pear'}\n",
    "print(basket)\n",
    "#{'orange','pear','apple'} : xóa trùng nhau"
   ]
  },
  {
   "cell_type": "code",
   "execution_count": 2,
   "id": "5cb0f736",
   "metadata": {},
   "outputs": [
    {
     "name": "stdout",
     "output_type": "stream",
     "text": [
      "a= {1, 2, 3, 4, 5}\n"
     ]
    }
   ],
   "source": [
    "a = {5,2,3,1,4}\n",
    "print(\"a=\", a) #a = {1, 2, 3, 4, 5}"
   ]
  },
  {
   "cell_type": "markdown",
   "id": "f7fee20b",
   "metadata": {},
   "source": [
    "> Tạo set bằng constructor"
   ]
  },
  {
   "cell_type": "code",
   "execution_count": 4,
   "id": "3b48bac4",
   "metadata": {},
   "outputs": [],
   "source": [
    "s1 = set([1, 2, 3, 4]) # {1, 2, 3, 4}\n",
    "s2 = set((1, 1, 1)) # {1}\n",
    "s3 = s1 - s2 # {2, 3, 4}\n",
    "s4 = set(range(1,100)) # {1, 2, 3,..., 98, 99}"
   ]
  },
  {
   "cell_type": "markdown",
   "id": "0747c049",
   "metadata": {},
   "source": [
    "> Tạo set bằng set comprehension"
   ]
  },
  {
   "cell_type": "code",
   "execution_count": 5,
   "id": "8b8631d8",
   "metadata": {},
   "outputs": [],
   "source": [
    "# a = {'r', 'd'}\n",
    "a = {x for x in 'abracadabra' if x not in 'abc'}"
   ]
  },
  {
   "cell_type": "markdown",
   "id": "dd6bd175",
   "metadata": {},
   "source": [
    "> Set không thể chứa những đối tượng mutable (có thể bị thay đổi), mặc dù chính set lại có thể thay đổi"
   ]
  },
  {
   "cell_type": "code",
   "execution_count": 10,
   "id": "f88ea681",
   "metadata": {},
   "outputs": [
    {
     "ename": "TypeError",
     "evalue": "unhashable type: 'list'",
     "output_type": "error",
     "traceback": [
      "\u001b[31m---------------------------------------------------------------------------\u001b[39m",
      "\u001b[31mTypeError\u001b[39m                                 Traceback (most recent call last)",
      "\u001b[36mCell\u001b[39m\u001b[36m \u001b[39m\u001b[32mIn[10]\u001b[39m\u001b[32m, line 1\u001b[39m\n\u001b[32m----> \u001b[39m\u001b[32m1\u001b[39m a = \u001b[38;5;28;43mset\u001b[39;49m\u001b[43m(\u001b[49m\u001b[43m(\u001b[49m\u001b[43m[\u001b[49m\u001b[32;43m1\u001b[39;49m\u001b[43m,\u001b[49m\u001b[32;43m2\u001b[39;49m\u001b[43m]\u001b[49m\u001b[43m,\u001b[49m\u001b[43m[\u001b[49m\u001b[32;43m2\u001b[39;49m\u001b[43m,\u001b[49m\u001b[32;43m3\u001b[39;49m\u001b[43m]\u001b[49m\u001b[43m)\u001b[49m\u001b[43m)\u001b[49m \u001b[38;5;66;03m# lỗi list\u001b[39;00m\n\u001b[32m      3\u001b[39m a = \u001b[38;5;28mset\u001b[39m(((\u001b[32m1\u001b[39m,\u001b[32m2\u001b[39m),(\u001b[32m2\u001b[39m,\u001b[32m3\u001b[39m))) \u001b[38;5;66;03m# {(1, 2), (2, 3)}\u001b[39;00m\n\u001b[32m      4\u001b[39m a.add(\u001b[33m\"\u001b[39m\u001b[33mabc\u001b[39m\u001b[33m\"\u001b[39m) \u001b[38;5;66;03m# {(1, 2), \"abc\", (2, 3)}\u001b[39;00m\n",
      "\u001b[31mTypeError\u001b[39m: unhashable type: 'list'"
     ]
    }
   ],
   "source": [
    "a = set(([1,2],[2,3])) # lỗi list\n",
    "\n",
    "a = set(((1,2),(2,3))) # {(1, 2), (2, 3)}\n",
    "a.add(\"abc\") # {(1, 2), \"abc\", (2, 3)}"
   ]
  },
  {
   "cell_type": "markdown",
   "id": "7b5d9028",
   "metadata": {},
   "source": [
    "> Frozenset giống set, nhưng không thể bị thay đổi"
   ]
  },
  {
   "cell_type": "code",
   "execution_count": 9,
   "id": "303a7d3d",
   "metadata": {},
   "outputs": [
    {
     "ename": "AttributeError",
     "evalue": "'frozenset' object has no attribute 'add'",
     "output_type": "error",
     "traceback": [
      "\u001b[31m---------------------------------------------------------------------------\u001b[39m",
      "\u001b[31mAttributeError\u001b[39m                            Traceback (most recent call last)",
      "\u001b[36mCell\u001b[39m\u001b[36m \u001b[39m\u001b[32mIn[9]\u001b[39m\u001b[32m, line 2\u001b[39m\n\u001b[32m      1\u001b[39m b = \u001b[38;5;28mfrozenset\u001b[39m(((\u001b[32m1\u001b[39m,\u001b[32m2\u001b[39m),(\u001b[32m2\u001b[39m,\u001b[32m3\u001b[39m))) \u001b[38;5;66;03m# {(1,2), (2,3)}\u001b[39;00m\n\u001b[32m----> \u001b[39m\u001b[32m2\u001b[39m \u001b[43mb\u001b[49m\u001b[43m.\u001b[49m\u001b[43madd\u001b[49m(\u001b[33m\"\u001b[39m\u001b[33mabc\u001b[39m\u001b[33m\"\u001b[39m) \u001b[38;5;66;03m# lỗi\u001b[39;00m\n",
      "\u001b[31mAttributeError\u001b[39m: 'frozenset' object has no attribute 'add'"
     ]
    }
   ],
   "source": [
    "b = frozenset(((1,2),(2,3))) # {(1,2), (2,3)}\n",
    "b.add(\"abc\") # lỗi"
   ]
  },
  {
   "cell_type": "markdown",
   "id": "6ec6dc2b",
   "metadata": {},
   "source": [
    "> Set Hỗn hợp"
   ]
  },
  {
   "cell_type": "code",
   "execution_count": 14,
   "id": "824329e1",
   "metadata": {},
   "outputs": [
    {
     "name": "stdout",
     "output_type": "stream",
     "text": [
      "ketqua_Set= {8.0, 'Sinh viên', (1, 2, 3)}\n"
     ]
    }
   ],
   "source": [
    "my_set = {8.0, 'Sinh viên', (1, 2, 3)}\n",
    "print(\"ketqua_Set=\",my_set)\n",
    "      "
   ]
  },
  {
   "cell_type": "code",
   "execution_count": 15,
   "id": "fa8b1a87",
   "metadata": {},
   "outputs": [
    {
     "name": "stdout",
     "output_type": "stream",
     "text": [
      "{1, 2, 3, 4, 5, 6, 8}\n"
     ]
    }
   ],
   "source": [
    "# Khởi tạo my_set\n",
    "my_set = {1,3}\n",
    "my_set.add(2) #thêm\n",
    "my_set.update([2,3,4]) # Cập nhật\n",
    "my_set.update([4,5], {1,6,8}) # Cập nhật set\n",
    "print(my_set)"
   ]
  },
  {
   "cell_type": "markdown",
   "id": "6cb6b205",
   "metadata": {},
   "source": [
    "> Các phép toán trên set"
   ]
  },
  {
   "cell_type": "code",
   "execution_count": 16,
   "id": "e9741766",
   "metadata": {},
   "outputs": [
    {
     "name": "stdout",
     "output_type": "stream",
     "text": [
      "{'r', 'd', 'b'}\n",
      "{'a', 'b', 'c', 'z', 'r', 'd', 'm', 'l'}\n",
      "{'c', 'a'}\n",
      "{'z', 'b', 'r', 'd', 'm', 'l'}\n"
     ]
    }
   ],
   "source": [
    "a = set('abracadabra') # {'d', 'r', 'c', 'b', 'a'}\n",
    "b = set('alacazam') # {'z', 'c', 'm', 'l', 'a'}\n",
    "# Phép Hiệu: thuộc a nhưng không thuộc b\n",
    "\n",
    "print(a - b) # {'r', 'd', 'b'}\n",
    "\n",
    "# Phép Hợp: thuộc a hoặc b\n",
    "# {'a', 'c', 'r', 'd', 'b', 'm', 'z', 'l'}\n",
    "\n",
    "print(a | b)\n",
    "\n",
    "# Phép Giao: thuộc cả a và b\n",
    "\n",
    "print(a & b) # {'a', 'c'}\n",
    "\n",
    "# Phép Xor: thuộc hoặc a, hoặc b nhưng không phải cả 2\n",
    "# {'r', 'd', 'b', 'm', 'z', 'l'}\n",
    "print(a ^ b)"
   ]
  },
  {
   "cell_type": "markdown",
   "id": "5e1e46a9",
   "metadata": {},
   "source": [
    "- Một số phương thức thường hay sử dụng \n",
    "    - `add(e)` thêm e vào tập hợp\n",
    "    - `clear()`: xóa mọi phần tử trong tập hợp\n",
    "    - `copy()`: tạo một bản sao của tập hợp \n",
    "    - `difference(x)`: tương đương với phép trừ đi x\n",
    "    - `difference_update(x)`: loại bỏ những phần tử trong x khỏi tập\n",
    "    - `discard(e)`: bỏ e khỏi tập\n",
    "    - `remove(e)`: bỏ e khỏi tập, báo lỗi nếu không tìm thấy e\n",
    "    - `union(x)`: tương đương với phép hợp với x\n",
    "    - `intersection(x)`: tương đương với phép giao với x\n",
    "    - `isdisjoint(x)`: trả về True nếu tập không có phần chung nào với x\n",
    "    - `issubset(x)`: trả về True nếu tập là con của x, tương đương với phép so sánh <=x\n",
    "    - `issuperset(x)`: trả về True nếu x là tập con của tập, tương đương với phép so sánh >=x\n",
    "    - `pop()`: lấy một phần tử ra khỏi tập (không biết trước) \n",
    "    - `symmetric_difference(x)`: tương đương với phép ^x"
   ]
  },
  {
   "cell_type": "markdown",
   "id": "c9460ac6",
   "metadata": {},
   "source": [
    "> Các hàm thường dùng trên set bao gồm `all()`, `any()`, `enumerate()`, `len()`, `max()`, `min()`, `sorted()`, `sum()`. Chức năng của những hàm này khá giống list, tuple."
   ]
  },
  {
   "cell_type": "code",
   "execution_count": 145,
   "id": "a7c3b7bd",
   "metadata": {},
   "outputs": [
    {
     "name": "stdout",
     "output_type": "stream",
     "text": [
      "Số lớn nhất là : 33\n"
     ]
    }
   ],
   "source": [
    "num = {1,3,5,6,8,20,7,8,29,33}\n",
    "print(\"Số lớn nhất là :\", max(num))\n",
    "#Số lớn nhất là : 33"
   ]
  },
  {
   "cell_type": "markdown",
   "id": "109fa72e",
   "metadata": {},
   "source": [
    "> Vòng lặp for của set\n",
    "- Không thể truy cập các phần tử trong một Set bằng cách sử dụng chỉ mục, vì Set không lưu trữ các phần tử theo thứ tự nhập ban đầu.\n",
    "- Sử dụng vòng lặp for để truy cập các phần tử của một Set."
   ]
  },
  {
   "cell_type": "code",
   "execution_count": 17,
   "id": "c8a08681",
   "metadata": {},
   "outputs": [
    {
     "name": "stdout",
     "output_type": "stream",
     "text": [
      "lemon\n",
      "apple\n",
      "orange\n",
      "pear\n",
      "o\n",
      "h\n",
      "u\n",
      "v\n",
      "c\n",
      "g\n",
      "i\n",
      "n\n"
     ]
    }
   ],
   "source": [
    "#Ví dụ:\n",
    "setFruits = {'lemon','orange','apple','pear'}\n",
    "for x in setFruits:\n",
    " print(x)\n",
    "#Ví dụ:\n",
    "for letter in set(\"chivuong\"):\n",
    " print(letter)"
   ]
  },
  {
   "cell_type": "markdown",
   "id": "49dda2ff",
   "metadata": {},
   "source": [
    "### 11. Dictionary (từ điển)"
   ]
  },
  {
   "cell_type": "markdown",
   "id": "d8a64e55",
   "metadata": {},
   "source": [
    "- Từ điển là một danh sách các từ (key) và định nghĩa của nó (value)\n",
    "    - _Yêu cầu các key không được trùng nhau, như vậy có thể xem từ điển như một loại set_\n",
    "- Từ điển có thể khai báo theo cú pháp của set"
   ]
  },
  {
   "cell_type": "code",
   "execution_count": 18,
   "id": "1bf217e5",
   "metadata": {},
   "outputs": [
    {
     "name": "stdout",
     "output_type": "stream",
     "text": [
      "one\n",
      "{1: 'one', 2: 'two', 3: 'three', 4: 'four'}\n"
     ]
    },
    {
     "data": {
      "text/plain": [
       "{1: 'one', 2: 'two', 3: 'three', 4: 'four'}"
      ]
     },
     "execution_count": 18,
     "metadata": {},
     "output_type": "execute_result"
    }
   ],
   "source": [
    "dict = {1:'one',2:'two',3:'three'}\n",
    "print(dict[1]) #'one'\n",
    "dict[4]='four'\n",
    "print(dict)\n",
    "{1: 'one',2:'two',3:'three',4:'four'}"
   ]
  },
  {
   "cell_type": "markdown",
   "id": "a0e301b0",
   "metadata": {},
   "source": [
    "> Chú ý: chỉ những loại dữ liệu immutable (không thể thay đổi) mới có thể dùng làm key của từ điển"
   ]
  },
  {
   "cell_type": "code",
   "execution_count": 19,
   "id": "0384366a",
   "metadata": {},
   "outputs": [
    {
     "ename": "TypeError",
     "evalue": "unhashable type: 'list'",
     "output_type": "error",
     "traceback": [
      "\u001b[31m---------------------------------------------------------------------------\u001b[39m",
      "\u001b[31mTypeError\u001b[39m                                 Traceback (most recent call last)",
      "\u001b[36mCell\u001b[39m\u001b[36m \u001b[39m\u001b[32mIn[19]\u001b[39m\u001b[32m, line 2\u001b[39m\n\u001b[32m      1\u001b[39m \u001b[38;5;28mdict\u001b[39m = {(\u001b[32m1\u001b[39m,\u001b[32m2\u001b[39m,\u001b[32m3\u001b[39m):\u001b[33m\"\u001b[39m\u001b[33mabc\u001b[39m\u001b[33m\"\u001b[39m, \u001b[32m3.1415\u001b[39m:\u001b[33m\"\u001b[39m\u001b[33mabc\u001b[39m\u001b[33m\"\u001b[39m}\n\u001b[32m----> \u001b[39m\u001b[32m2\u001b[39m \u001b[38;5;28mdict\u001b[39m = {[\u001b[32m1\u001b[39m,\u001b[32m2\u001b[39m,\u001b[32m3\u001b[39m]:\u001b[33m\"\u001b[39m\u001b[33mabc\u001b[39m\u001b[33m\"\u001b[39m} \u001b[38;5;66;03m# lỗi\u001b[39;00m\n",
      "\u001b[31mTypeError\u001b[39m: unhashable type: 'list'"
     ]
    }
   ],
   "source": [
    "dict = {(1,2,3):\"abc\", 3.1415:\"abc\"}\n",
    "dict = {[1,2,3]:\"abc\"} # lỗi"
   ]
  },
  {
   "cell_type": "markdown",
   "id": "399a7e78",
   "metadata": {},
   "source": [
    "- Một số phép toán / phương thức thường dùng\n",
    "    - **len(d)**: trả về độ dài của từ điển (số cặp key-value)\n",
    "    - **del d[k]**: xóa key k (và value tương ứng)\n",
    "    - **k in d**: trả về True nếu có key k trong từ điển\n",
    "    - **k not in d**: trả về True nếu không có key k trong từ điển\n",
    "    - **pop(k)**: trả về value tương ứng với k và xóa cặp này đi\n",
    "    - **popitem()**: trả về (và xóa) một cặp (key, value) tùy ý\n",
    "    - **get(k)**: lấy về value tương ứng với key k\n",
    "        - _Khác phép [ ] ở chỗ get trả về None nếu k không phải là key_\n",
    "    - **update(w)**: ghép các nội dung từ từ điển w vào từ điển hiện tại (nếu key trùng thì lấy value từ w)\n",
    "    - **items()**: trả về list các cặp (key, value)\n",
    "    - **keys()**: trả về các key của từ điển\n",
    "    - **values()**: trả về các value của từ điển\n",
    "    - **pop(k)**: trả về value tương ứng với k và xóa cặp này đi\n",
    "    - **popitem()**: trả về (và xóa) một cặp (key, value) tùy ý"
   ]
  },
  {
   "cell_type": "markdown",
   "id": "939bc4f4",
   "metadata": {},
   "source": [
    "> Dùng zip để ghép 2 list thành từ điển"
   ]
  },
  {
   "cell_type": "code",
   "execution_count": 22,
   "id": "c08ac67a",
   "metadata": {},
   "outputs": [
    {
     "name": "stdout",
     "output_type": "stream",
     "text": [
      "('a', 1)\n",
      "('b', 2)\n",
      "('c', 3)\n"
     ]
    }
   ],
   "source": [
    "l1 = [\"a\",\"b\",\"c\"]\n",
    "l2 = [1,2,3]\n",
    "c = zip(l1, l2)\n",
    "for i in c:\n",
    "    print(i)"
   ]
  },
  {
   "cell_type": "markdown",
   "id": "efe0776b",
   "metadata": {},
   "source": [
    "> Tạo mới từ điển"
   ]
  },
  {
   "cell_type": "code",
   "execution_count": 26,
   "id": "f9ca9b99",
   "metadata": {},
   "outputs": [
    {
     "name": "stdout",
     "output_type": "stream",
     "text": [
      "{1: 'Nguyen', 2: 'Van', 3: 'An'}\n",
      "{'Name': 'dict', 1: [1, 2, 3, 4]}\n"
     ]
    }
   ],
   "source": [
    "# tạo một dict với key là các số nguyên\n",
    "Dict = {1: 'Nguyen', 2: 'Van', 3: 'An'}\n",
    "print(Dict)\n",
    "\n",
    "# tạo một dict với key hỗn hợp\n",
    "Dict = {'Name': 'dict', 1: [1, 2, 3, 4]}\n",
    "print(Dict)"
   ]
  },
  {
   "cell_type": "markdown",
   "id": "2697ee64",
   "metadata": {},
   "source": [
    "> Thêm các giá trị vào từ điển"
   ]
  },
  {
   "cell_type": "code",
   "execution_count": 27,
   "id": "2418005e",
   "metadata": {},
   "outputs": [
    {
     "name": "stdout",
     "output_type": "stream",
     "text": [
      "{0: 'Xin chao', 1: 'lop hoc Khoa học du lieu'}\n"
     ]
    }
   ],
   "source": [
    "# tạo một từ điển\n",
    "Dict = {}\n",
    "# thêm các giá trị\n",
    "Dict[0] = 'Xin chao'\n",
    "Dict[1] = 'lop hoc Khoa học du lieu'\n",
    "print(Dict)"
   ]
  },
  {
   "cell_type": "markdown",
   "id": "38ea12fd",
   "metadata": {},
   "source": [
    "> Truy cập giá trị của từ điển"
   ]
  },
  {
   "cell_type": "code",
   "execution_count": 29,
   "id": "ddd53a21",
   "metadata": {},
   "outputs": [
    {
     "name": "stdout",
     "output_type": "stream",
     "text": [
      "Lớp\n",
      "Dữ liệu\n"
     ]
    }
   ],
   "source": [
    "# tạo một dict mới\n",
    "Dict = {1: 'Lớp', 2: 'Khoa học', 3: 'Dữ liệu'}\n",
    "\n",
    "# truy cập theo cách thông thường\n",
    "print(Dict[1])\n",
    "\n",
    "# truy cập bằng phương thức get()\n",
    "print(Dict.get(3))"
   ]
  },
  {
   "cell_type": "markdown",
   "id": "d467caad",
   "metadata": {},
   "source": [
    "> Chuyển từ điển thành chuỗi: str()"
   ]
  },
  {
   "cell_type": "code",
   "execution_count": 36,
   "id": "00028151",
   "metadata": {},
   "outputs": [
    {
     "name": "stdout",
     "output_type": "stream",
     "text": [
      "Chuỗi tương đương là : {'Ten': 'An', 'Tuoi': 20}\n"
     ]
    }
   ],
   "source": [
    "Dict = {'Ten':'An','Tuoi':20}\n",
    "print(\"Chuỗi tương đương là : %s\" % str(Dict))"
   ]
  },
  {
   "cell_type": "markdown",
   "id": "6419fc5b",
   "metadata": {},
   "source": [
    "> Cập nhật 1 giá trị của từ điển: update()\n",
    "\n",
    "- _Hàm update() sẽ thêm vào một giá trị mới, hoặc sẽ cập nhật một giá trị\n",
    "nếu có các khóa trùng nhau._"
   ]
  },
  {
   "cell_type": "code",
   "execution_count": 37,
   "id": "3a5f81f6",
   "metadata": {},
   "outputs": [
    {
     "name": "stdout",
     "output_type": "stream",
     "text": [
      "{'Cúc': 18, 'Lan': 21, 'Hồng': 20, 'Mai': 27, 'Đào': 25}\n"
     ]
    }
   ],
   "source": [
    "Dict = {'Cúc':18, 'Lan':19, 'Hồng':20, 'Mai':27}\n",
    "Dict.update({'Lan':21}) #cập nhật tuổi cho Lan\n",
    "Dict.update({'Đào':25}) #thêm một phần tử mới là Đào\n",
    "print(Dict)"
   ]
  },
  {
   "cell_type": "markdown",
   "id": "1199dfc9",
   "metadata": {},
   "source": [
    "### 12. Module và Package"
   ]
  },
  {
   "cell_type": "markdown",
   "id": "5bca8d4c",
   "metadata": {},
   "source": [
    "#### 12.1. Module\n",
    "- Một file mã nguồn trong python được xem là một module\n",
    "    - Có phần mở rộng .py\n",
    "    - Mọi hàm, biến, kiểu trong file là các thành phần của module\n",
    "- Sử dụng module:\n",
    "    - Khai báo import module đó: **import <tên-module>**\n",
    "    - Có thể khai báo import cùng lúc nhiều module cách nhau bởi dấu phẩy\n",
    "    - Nếu muốn sử dụng các hàm, biến trong module thì cần viết tường minh tên module đó\n",
    "    - Hoặc có thể import riêng một hàm hoặc nhiều hàm, cú pháp:<br>\n",
    "        **from <tên-module> import fuc1, fuc2,..., fucN**"
   ]
  },
  {
   "cell_type": "markdown",
   "id": "a53ef300",
   "metadata": {},
   "source": [
    "#### 12.2. Package\n",
    "\n",
    "> Package = Thư mục các module (lưu trữ vật lý)"
   ]
  },
  {
   "cell_type": "code",
   "execution_count": 40,
   "id": "e59754d8",
   "metadata": {},
   "outputs": [],
   "source": [
    "import numpy\n",
    "import numpy as np\n",
    "from numpy import array"
   ]
  },
  {
   "cell_type": "code",
   "execution_count": 41,
   "id": "be0ef534",
   "metadata": {},
   "outputs": [],
   "source": [
    "A = array([1, 2, 3]) # lỗi\n",
    "A = numpy.array([1, 2, 3]) # ok\n",
    "\n",
    "B = np.array([1, 2, 3]) # ok\n",
    "\n",
    "C = array([1, 2, 3]) # ok"
   ]
  },
  {
   "cell_type": "markdown",
   "id": "6ad5d06e",
   "metadata": {},
   "source": [
    "> Module và Package giúp quản lý tốt hơn mã nguồn<br>\n",
    "> Gom, nhóm các hàm, biến, lớp xử lý cùng một chủ đề, giúp phân cấp và sử dụng dễ dàng hơn"
   ]
  },
  {
   "cell_type": "markdown",
   "id": "d442850d",
   "metadata": {},
   "source": [
    "### 13. Khát quát về NumPy\n"
   ]
  },
  {
   "cell_type": "markdown",
   "id": "14d8247d",
   "metadata": {},
   "source": [
    "> Tạo mảng và truy cập"
   ]
  },
  {
   "cell_type": "code",
   "execution_count": 42,
   "id": "3caedfa8",
   "metadata": {},
   "outputs": [],
   "source": [
    "import numpy as np"
   ]
  },
  {
   "cell_type": "code",
   "execution_count": 43,
   "id": "d48ea3e1",
   "metadata": {},
   "outputs": [
    {
     "name": "stdout",
     "output_type": "stream",
     "text": [
      "<class 'numpy.ndarray'>\n",
      "(3,)\n",
      "1 2 3\n",
      "[5 2 3]\n",
      "(2, 3)\n",
      "1 2 4\n",
      "[[1 0 0]\n",
      " [0 3 0]\n",
      " [0 0 4]]\n"
     ]
    }
   ],
   "source": [
    "a = np.array([1, 2, 3]) # tạo mảng 1 chiều\n",
    "print(type(a)) # in \"<class 'numpy.ndarray'>\"\n",
    "print(a.shape) # in \"(3,)\"\n",
    "print(a[0], a[1], a[2]) # in \"1 2 3\"\n",
    "a[0] = 5\n",
    "print(a) # in \"[5, 2, 3]\"\n",
    "b = np.array([[1, 2, 3],[4, 5, 6]]) # tạo mảng 2 chiều\n",
    "print(b.shape) # in \"(2, 3)\"\n",
    "print(b[0, 0], b[0, 1], b[1, 0]) # in \"1 2 4\"\n",
    "print(np.diag([1, 3, 4])) # in ra mảng đường chéo"
   ]
  },
  {
   "cell_type": "markdown",
   "id": "8087c748",
   "metadata": {},
   "source": [
    "> Một số cách khởi tạo khác "
   ]
  },
  {
   "cell_type": "code",
   "execution_count": 156,
   "id": "05d9756d",
   "metadata": {},
   "outputs": [],
   "source": [
    "import numpy as np"
   ]
  },
  {
   "cell_type": "code",
   "execution_count": null,
   "id": "35312865",
   "metadata": {},
   "outputs": [
    {
     "name": "stdout",
     "output_type": "stream",
     "text": [
      "2 6\n",
      "(2, 3)\n",
      "int32\n"
     ]
    }
   ],
   "source": [
    "x = np.arange(3.0)  # mảng [0. 1. 2.]\n",
    "a = np.zeros((2, 2))  # mảng 2x2 toàn số 0\n",
    "b = np.ones((1, 2))  # mảng 1x2 toàn số 1\n",
    "c = np.full((3, 2, 2), 9)  # mảng 3x2x2 toàn số 9\n",
    "d = np.eye(2)  # ma trận đơn vị 2x2\n",
    "e = np.random.random((3, 2))  # mảng 3x2 ngẫu nhiên [0,1)\n",
    "\n",
    "# mảng 2x3 điền các số từ 1 đến 6, kiểu số nguyên 32 bit\n",
    "x = np.array([[1, 2, 3], [4, 5, 6]], np.int32)\n",
    "print(x.ndim, x.size)\n",
    "print(x.shape)  # in \"(2, 3)\"\n",
    "print(x.dtype)  # in \"dtype('int32')\"\n"
   ]
  },
  {
   "cell_type": "markdown",
   "id": "2feb2770",
   "metadata": {},
   "source": [
    "> Truy cập theo chỉ số (slicing)\n",
    "\n",
    "- Numpy cung cấp một số cách để truy xuất phần tử trong mảng\n",
    "- Slicing: Tương tự như list trong python, numpy arrays cũng có thể được cắt."
   ]
  },
  {
   "cell_type": "code",
   "execution_count": 44,
   "id": "5ec150a0",
   "metadata": {},
   "outputs": [
    {
     "name": "stdout",
     "output_type": "stream",
     "text": [
      "2\n",
      "77\n"
     ]
    }
   ],
   "source": [
    "# Truy cập theo chỉ số \n",
    "# mảng 3x4\n",
    "a = np.array([[1, 2, 3, 4], [5, 6, 7, 8], [9, 10, 11, 12]])\n",
    "# mảng 2x2 trích xuất từ a, dòng 0+1, cột 1+2\n",
    "b = a[:2, 1:3]\n",
    "# chú ý: mảng của numpy tham chiếu chứ không copy dữ liệu\n",
    "print(a[0, 1]) # in \"2\"\n",
    "b[0, 0] = 77 # b[0, 0] cũng là a[0, 1]\n",
    "print(a[0, 1]) # in \"77\""
   ]
  },
  {
   "cell_type": "markdown",
   "id": "73b0c3fd",
   "metadata": {},
   "source": [
    "> Cẩn thận với slicing"
   ]
  },
  {
   "cell_type": "code",
   "execution_count": 45,
   "id": "d37d31e0",
   "metadata": {},
   "outputs": [
    {
     "name": "stdout",
     "output_type": "stream",
     "text": [
      "[5 6 7 8] (4,)\n",
      "[[5 6 7 8]] (1, 4)\n",
      "[77  6 10] (3,)\n",
      "[[77]\n",
      " [ 6]\n",
      " [10]] (3, 1)\n"
     ]
    }
   ],
   "source": [
    "row_r1 = a[1, :] # mảng 1 chiều độ dài 4\n",
    "row_r2 = a[1:2, :] # mảng 2 chiều 1x4\n",
    "print(row_r1, row_r1.shape) # in ra \"[5 6 7 8] (4,)\"\n",
    "print(row_r2, row_r2.shape) # in ra \"[[5 6 7 8]] (1, 4)\"\n",
    "col_r1 = a[:, 1] # mảng 1 chiều độ dài 3\n",
    "col_r2 = a[:, 1:2] # mảng 2 chiều 3x1\n",
    "print(col_r1, col_r1.shape) # in ra \"[ 2 6 10] (3,)\"\n",
    "print(col_r2, col_r2.shape) # in ra \"[[ 2]\n",
    "                            # [ 6]\n",
    "                            # [10]] (3, 1)\""
   ]
  },
  {
   "cell_type": "markdown",
   "id": "f9c54125",
   "metadata": {},
   "source": [
    "### 14. Các phép toán trên mảng"
   ]
  },
  {
   "cell_type": "code",
   "execution_count": 46,
   "id": "b2156b1c",
   "metadata": {},
   "outputs": [
    {
     "name": "stdout",
     "output_type": "stream",
     "text": [
      "[[ 6.  8.]\n",
      " [10. 12.]]\n",
      "[[-4. -4.]\n",
      " [-4. -4.]]\n",
      "[[ 5. 12.]\n",
      " [21. 32.]]\n",
      "[[0.2        0.33333333]\n",
      " [0.42857143 0.5       ]]\n",
      "[[1.         1.41421356]\n",
      " [1.73205081 2.        ]]\n",
      "[[ 2.  4.]\n",
      " [ 8. 16.]]\n"
     ]
    }
   ],
   "source": [
    "import numpy as np\n",
    "\n",
    "x = np.array([[1, 2], [3, 4]], dtype=np.float64)\n",
    "y = np.array([[5, 6], [7, 8]], dtype=np.float64)\n",
    "print(x + y) # print(np.add(x, y)), xử lý khác list\n",
    "print(x - y) # print(np.subtract(x, y))\n",
    "print(x * y) # print(np.multiply(x, y))\n",
    "print(x / y) # print(np.divide(x, y))\n",
    "print(np.sqrt(x)) # khai căn tất cả các phần tử\n",
    "print(2**x) # tính 2 mũ các phần tử trong x\n",
    "# chú ý: phép nhân/chia thực hiện theo cặp phần tử của x và y"
   ]
  },
  {
   "cell_type": "markdown",
   "id": "ca57ff43",
   "metadata": {},
   "source": [
    "> Nhân ma trận (dot) và nghịch đảo"
   ]
  },
  {
   "cell_type": "code",
   "execution_count": 47,
   "id": "bad29be6",
   "metadata": {},
   "outputs": [
    {
     "name": "stdout",
     "output_type": "stream",
     "text": [
      "219\n",
      "[29 67]\n",
      "[[19 22]\n",
      " [43 50]]\n",
      "[[-2.   1. ]\n",
      " [ 1.5 -0.5]]\n"
     ]
    }
   ],
   "source": [
    "import numpy as np\n",
    "\n",
    "x = np.array([[1, 2],[3, 4]])\n",
    "y = np.array([[5, 6],[7, 8]])\n",
    "v = np.array([9, 10])\n",
    "w = np.array([11, 12])\n",
    "print(v.dot(w)) # tương tự print(np.dot(v, w))\n",
    "print(x.dot(v)) # tương tự print(np.dot(x, v))\n",
    "print(x.dot(y)) # tương tự print(np.dot(x, y))\n",
    "print(np.linalg.inv(x)) # tính và in nghịch đảo của x"
   ]
  },
  {
   "cell_type": "markdown",
   "id": "8d6edb21",
   "metadata": {},
   "source": [
    "> Ma trận chuyển vị"
   ]
  },
  {
   "cell_type": "code",
   "execution_count": 48,
   "id": "1ed57ab5",
   "metadata": {},
   "outputs": [
    {
     "name": "stdout",
     "output_type": "stream",
     "text": [
      "[[1 2]\n",
      " [3 4]]\n",
      "[[1 3]\n",
      " [2 4]]\n",
      "[1 2 3]\n",
      "[1 2 3]\n",
      "[[1]\n",
      " [2]\n",
      " [3]]\n"
     ]
    }
   ],
   "source": [
    "\n",
    "import numpy as np\n",
    "x = np.array([[1, 2], [3, 4]])\n",
    "print(x) # in ra \"[[1 2]\n",
    "# [3 4]]\"\n",
    "print(x.T) # in ra \"[[1 3]\n",
    "# [2 4]]\"\n",
    "# chú ý: mảng 1 chiều không có chuyển vị\n",
    "y = np.array([1, 2, 3])\n",
    "print(y) # in ra \"[1 2 3]\"\n",
    "print(y.T) # in ra \"[1 2 3]\"\n",
    "z = np.array([[1, 2, 3]])\n",
    "print(z.T) # in ra \"[[1]"
   ]
  },
  {
   "cell_type": "markdown",
   "id": "55c90a72",
   "metadata": {},
   "source": [
    "### 15. Một số thao tác thông dụng"
   ]
  },
  {
   "cell_type": "markdown",
   "id": "7ed6c029",
   "metadata": {},
   "source": [
    "> Đọc dữ liệu từ file"
   ]
  },
  {
   "cell_type": "code",
   "execution_count": 49,
   "id": "82a99c53",
   "metadata": {},
   "outputs": [
    {
     "name": "stdout",
     "output_type": "stream",
     "text": [
      "[(b'M', 21, 72.) (b'F', 35, 58.)]\n"
     ]
    }
   ],
   "source": [
    "from io import StringIO\n",
    "import numpy as np\n",
    "\n",
    "c = StringIO(\"0 1\\n2 3\")\n",
    "x = np.loadtxt(c) # array([[ 0., 1.], # [ 2., 3.]])\n",
    "d = StringIO(\"M 21 72\\nF 35 58\")\n",
    "y = np.loadtxt(d, dtype={'names': ('gender', 'age', 'weight'),'formats': ('S1', 'i4', 'f4')})\n",
    "print(y) # [('M', 21, 72.0), ('F', 35, 58.0)]"
   ]
  },
  {
   "cell_type": "markdown",
   "id": "8cfbf103",
   "metadata": {},
   "source": [
    "> Cơ chế broadcasting"
   ]
  },
  {
   "cell_type": "code",
   "execution_count": 50,
   "id": "fa093c50",
   "metadata": {},
   "outputs": [
    {
     "name": "stdout",
     "output_type": "stream",
     "text": [
      "[[ 2  2  4]\n",
      " [ 5  5  7]\n",
      " [ 8  8 10]\n",
      " [11 11 13]]\n"
     ]
    }
   ],
   "source": [
    "import numpy as np\n",
    "\n",
    "x = np.array([[1, 2, 3], [4, 5, 6], [7, 8, 9], [10, 11, 12]])\n",
    "v = np.array([1, 0, 1])\n",
    "y = x + v\n",
    "print(y) "
   ]
  },
  {
   "cell_type": "markdown",
   "id": "0e4bf3bf",
   "metadata": {},
   "source": [
    "> Tính tổng theo các trục"
   ]
  },
  {
   "cell_type": "code",
   "execution_count": 51,
   "id": "2813bfc6",
   "metadata": {},
   "outputs": [
    {
     "name": "stdout",
     "output_type": "stream",
     "text": [
      "10\n",
      "[4 6]\n",
      "[3 7]\n"
     ]
    }
   ],
   "source": [
    "import numpy as np\n",
    "\n",
    "x = np.array([[1, 2], [3, 4]])\n",
    "\n",
    "print(np.sum(x)) # tính tổng toàn bộ x, in \"10“\n",
    "print(np.sum(x, axis=0)) # tính tổng mỗi cột, in \"[4 6]“\n",
    "print(np.sum(x, axis=1)) # tính tổng mỗi hàng, in \"[3 7]\""
   ]
  },
  {
   "cell_type": "markdown",
   "id": "8ef4245d",
   "metadata": {},
   "source": [
    "> Trích xuất dữ liệu theo dãy"
   ]
  },
  {
   "cell_type": "code",
   "execution_count": null,
   "id": "c5c0bef6",
   "metadata": {},
   "outputs": [
    {
     "name": "stdout",
     "output_type": "stream",
     "text": [
      "[1 4 5]\n",
      "[1 4 5]\n",
      "[2 2]\n",
      "[2 2]\n"
     ]
    }
   ],
   "source": [
    "import numpy as np\n",
    "a = np.array([[1,2], [3, 4], [5, 6]])\n",
    "# Prints \"[1 4 5]\"\n",
    "print(a[[0, 1, 2], [0, 1, 0]])\n",
    "# Prints \"[1 4 5]\"\n",
    "print(np.array([a[0, 0], a[1, 1], a[2, 0]]))\n",
    "# Prints \"[2 2]\"\n",
    "print(a[[0, 0], [1, 1]])\n",
    "# Prints \"[2 2]\"\n",
    "print(np.array([a[0, 1], a[0, 1]]))"
   ]
  },
  {
   "cell_type": "markdown",
   "id": "5a6dbe27",
   "metadata": {},
   "source": [
    "> Lọc phần tử theo chỉ số"
   ]
  },
  {
   "cell_type": "code",
   "execution_count": 52,
   "id": "7c2f4857",
   "metadata": {},
   "outputs": [
    {
     "name": "stdout",
     "output_type": "stream",
     "text": [
      "[ 1  6  7 11]\n",
      "[[11  2  3]\n",
      " [ 4  5 16]\n",
      " [17  8  9]\n",
      " [10 21 12]]\n"
     ]
    }
   ],
   "source": [
    "import numpy as np\n",
    "\n",
    "a = np.array([[1, 2, 3], [4, 5, 6], [7, 8, 9], [10, 11, 12]])\n",
    "b = np.array([0, 2, 0, 1]) # b là mảng các chỉ số\n",
    "print(a[np.arange(4), b]) # in ra \"[1 6 7 11]\"\n",
    "# cộng tất cả các phần tử được lọc thêm 10\n",
    "a[np.arange(4), b] += 10\n",
    "print(a)"
   ]
  },
  {
   "cell_type": "markdown",
   "id": "8480cf6a",
   "metadata": {},
   "source": [
    "> Lọc dữ liệu theo điều kiện"
   ]
  },
  {
   "cell_type": "code",
   "execution_count": 53,
   "id": "0f6451a2",
   "metadata": {},
   "outputs": [
    {
     "name": "stdout",
     "output_type": "stream",
     "text": [
      "[[False False]\n",
      " [ True  True]\n",
      " [ True  True]]\n",
      "[3 4 5 6]\n",
      "[3 4 5 6]\n"
     ]
    }
   ],
   "source": [
    "import numpy as np\n",
    "\n",
    "a = np.array([[1, 2], [3, 4], [5, 6]])\n",
    "bool_idx = (a > 2)\n",
    "print(bool_idx) # in ra \"[[False False]\n",
    "# [ True True]\n",
    "# [ True True]]\"\n",
    "# lọc dữ liệu trong a, trả về một dãy\n",
    "print(a[bool_idx]) # Prints \"[3 4 5 6]\"\n",
    "# có thể viết trực tiếp điều kiện (ngắn gọn hơn)\n",
    "print(a[a > 2]) # Prints \"[3 4 5 6]\""
   ]
  },
  {
   "cell_type": "markdown",
   "id": "89680f75",
   "metadata": {},
   "source": [
    "> Điều chỉnh cỡ ma trận "
   ]
  },
  {
   "cell_type": "code",
   "execution_count": 54,
   "id": "45afed67",
   "metadata": {},
   "outputs": [
    {
     "data": {
      "text/plain": [
       "(3, 2)"
      ]
     },
     "execution_count": 54,
     "metadata": {},
     "output_type": "execute_result"
    }
   ],
   "source": [
    "x = np.array([[1, 3], [4, 4], [4, 2]])\n",
    "x.shape"
   ]
  },
  {
   "cell_type": "code",
   "execution_count": 55,
   "id": "23b47ea3",
   "metadata": {},
   "outputs": [
    {
     "data": {
      "text/plain": [
       "array([[1, 3, 4],\n",
       "       [4, 4, 2]])"
      ]
     },
     "execution_count": 55,
     "metadata": {},
     "output_type": "execute_result"
    }
   ],
   "source": [
    "x = np.array([[1, 3], [4, 4], [4, 2]])\n",
    "x = x.reshape(2, 3) #chỉnh thành 2x3\n",
    "x"
   ]
  },
  {
   "cell_type": "code",
   "execution_count": 56,
   "id": "1449e775",
   "metadata": {},
   "outputs": [
    {
     "data": {
      "text/plain": [
       "array([[1, 3, 4],\n",
       "       [4, 4, 2]])"
      ]
     },
     "execution_count": 56,
     "metadata": {},
     "output_type": "execute_result"
    }
   ],
   "source": [
    "x = np.array([[1, 3], [4, 4], [4, 2]])\n",
    "x = x.reshape(2, -1) # tự tính chiều còn lại\n",
    "x"
   ]
  },
  {
   "cell_type": "markdown",
   "id": "2a124905",
   "metadata": {},
   "source": [
    "> Elementwise operation<br>\n",
    "- Element-wise là các phép toán cực kỳ phổ biến với tensor trong lập trình mạng neural"
   ]
  },
  {
   "cell_type": "code",
   "execution_count": 58,
   "id": "f3d8301c",
   "metadata": {},
   "outputs": [
    {
     "data": {
      "text/plain": [
       "array([0.        , 0.69314718, 1.09861229])"
      ]
     },
     "execution_count": 58,
     "metadata": {},
     "output_type": "execute_result"
    }
   ],
   "source": [
    "x = np.array([1, 2, 3])\n",
    "np.log(x) #lấy log cơ số e từng phần tử"
   ]
  },
  {
   "cell_type": "code",
   "execution_count": null,
   "id": "64b7fa56",
   "metadata": {},
   "outputs": [
    {
     "data": {
      "text/plain": [
       "array([1, 2, 3])"
      ]
     },
     "execution_count": 59,
     "metadata": {},
     "output_type": "execute_result"
    }
   ],
   "source": [
    "np.abs(x) #lấy trị tuyệt đối từng phần tử từng phần tử"
   ]
  },
  {
   "cell_type": "code",
   "execution_count": 60,
   "id": "7b02d906",
   "metadata": {},
   "outputs": [
    {
     "data": {
      "text/plain": [
       "array([2, 2, 3])"
      ]
     },
     "execution_count": 60,
     "metadata": {},
     "output_type": "execute_result"
    }
   ],
   "source": [
    "np.maximum(x, 2)"
   ]
  },
  {
   "cell_type": "code",
   "execution_count": 61,
   "id": "1b9b8cde",
   "metadata": {},
   "outputs": [
    {
     "data": {
      "text/plain": [
       "array([1, 2, 2])"
      ]
     },
     "execution_count": 61,
     "metadata": {},
     "output_type": "execute_result"
    }
   ],
   "source": [
    "np.minimum(x, 2)"
   ]
  },
  {
   "cell_type": "code",
   "execution_count": 62,
   "id": "1525bee1",
   "metadata": {},
   "outputs": [
    {
     "data": {
      "text/plain": [
       "array([1, 4, 9])"
      ]
     },
     "execution_count": 62,
     "metadata": {},
     "output_type": "execute_result"
    }
   ],
   "source": [
    "x**2"
   ]
  },
  {
   "cell_type": "markdown",
   "id": "7933fad4",
   "metadata": {},
   "source": [
    "> Tính norm cấp 2 của vector\n",
    "\n",
    "- Norm cấp 2 của vector chính là **chiều dài của vector đó**.\n",
    "\n",
    "    $$\n",
    "    \\|x\\|_2 = \\|x\\| = \\sqrt{x_1^2 + x_2^2 + \\cdots + x_n^2}\n",
    "    $$\n"
   ]
  },
  {
   "cell_type": "code",
   "execution_count": 63,
   "id": "1df2165a",
   "metadata": {},
   "outputs": [
    {
     "data": {
      "text/plain": [
       "array([[ 5., 10.]])"
      ]
     },
     "execution_count": 63,
     "metadata": {},
     "output_type": "execute_result"
    }
   ],
   "source": [
    "\n",
    "x = np.array([[0, 3], [4, 3], [6, 8]])\n",
    "\n",
    "# tính norm mỗi dòng, kết quả: array([[3], [5], [10]])\n",
    "np.linalg.norm(x, axis = 1, keepdims = True)\n",
    "x = np.array([[0, 6], [4, 0], [3, 8]])\n",
    "\n",
    "# tính norm mỗi cột, kết quả: array([[5, 10]])\n",
    "np.linalg.norm(x, axis = 0, keepdims = True)"
   ]
  },
  {
   "cell_type": "markdown",
   "id": "555d3a10",
   "metadata": {},
   "source": [
    ">  Sinh mảng ngẫu nhiên"
   ]
  },
  {
   "cell_type": "code",
   "execution_count": 65,
   "id": "979ce011",
   "metadata": {},
   "outputs": [
    {
     "name": "stdout",
     "output_type": "stream",
     "text": [
      "[[0.24075996 0.91563295]\n",
      " [0.51112021 0.02743355]\n",
      " [0.74142147 0.72709346]]\n",
      "-0.8291446401408136\n",
      "[-0.03705855  0.99142854  2.31073506]\n",
      "[[-0.34657138 -0.20963971  0.60262861  0.56903813]\n",
      " [-0.89168632  0.71470656  2.2153511  -0.45473294]\n",
      " [ 0.92126135  1.2297659  -0.08542789 -0.22078634]]\n",
      "[[14  7  6  7]\n",
      " [ 5 10 12 11]]\n",
      "[14  4  5 15 17 11  8 16 18  7  3  0  2 12  6 19  9 10  1 13]\n"
     ]
    }
   ],
   "source": [
    "print(np.random.random((3, 2)))  # mảng 3x2 ngẫu nhiên trong [0,1)\n",
    "\n",
    "print(np.random.randn())         # một số sinh theo phân phối chuẩn\n",
    "print(np.random.randn(3))        # mảng 3 số theo phân phối chuẩn\n",
    "print(np.random.randn(3, 4))     # mảng 3x4 theo phân phối chuẩn\n",
    "\n",
    "# mảng 2x4 gồm các số nguyên trong [3,15)\n",
    "print(np.random.randint(3, 15, (2, 4)))\n",
    "\n",
    "# sinh một dãy là hoán vị ngẫu nhiên của dãy (0, 1, 2,..., 19)\n",
    "print(np.random.permutation(20))\n"
   ]
  },
  {
   "cell_type": "markdown",
   "id": "b99f2af4",
   "metadata": {},
   "source": [
    "> Các hàm thống kê "
   ]
  },
  {
   "cell_type": "code",
   "execution_count": 64,
   "id": "811c2fec",
   "metadata": {},
   "outputs": [
    {
     "name": "stdout",
     "output_type": "stream",
     "text": [
      "-0.2955460510444571\n",
      "-0.843572885099778\n",
      "[1.23171114 0.93756562 0.95317832 0.81124354]\n",
      "[0.73856072 1.61698551 0.7213525 ]\n"
     ]
    }
   ],
   "source": [
    "a = np.random.randn(3, 4)\n",
    "# tính trung bình của cả ma trận a\n",
    "print(np.mean(a))\n",
    "# tính trung vị của cột đầu tiên\n",
    "print(np.median(a[:,0]))\n",
    "# tính độ lệch chuẩn của từng dòng\n",
    "print(a.std(axis=0))\n",
    "# tính phương sai của từng cột\n",
    "print(a.var(axis=1))"
   ]
  },
  {
   "cell_type": "markdown",
   "id": "8b780a55",
   "metadata": {},
   "source": [
    "### 16. Thư viện matplotlib"
   ]
  },
  {
   "cell_type": "markdown",
   "id": "29cbaa81",
   "metadata": {},
   "source": [
    "#### Vẽ biểu đồ đơn giản"
   ]
  },
  {
   "cell_type": "markdown",
   "id": "0379b8e6",
   "metadata": {},
   "source": [
    "Ví dụ: Vẽ biểu đồ \n",
    "$$\n",
    "y = x^2\n",
    "$$"
   ]
  },
  {
   "cell_type": "code",
   "execution_count": 66,
   "id": "ecffd21f",
   "metadata": {},
   "outputs": [],
   "source": [
    "#Ví dụ: vẽ biểu đồ y = x^2\n",
    "\n",
    "import numpy as np # thư viện numpy\n",
    "import matplotlib.pyplot as plt # thư viện pyplot"
   ]
  },
  {
   "cell_type": "markdown",
   "id": "6d51bbb3",
   "metadata": {},
   "source": [
    "> Ví dụ: Vẽ biểu đồ hình sin"
   ]
  },
  {
   "cell_type": "code",
   "execution_count": 68,
   "id": "e1bd2a00",
   "metadata": {},
   "outputs": [
    {
     "data": {
      "image/png": "[encoded data removed]",
      "text/plain": [
       "<Figure size 640x480 with 1 Axes>"
      ]
     },
     "metadata": {},
     "output_type": "display_data"
    }
   ],
   "source": [
    "# chia đoạn từ -20 đến 20 thành 1000 đoạn\n",
    "x = np.linspace(-20, 20, 1000)\n",
    "# tính y\n",
    "y = x * x\n",
    "# vẽ biểu đồ tương quan giữa x và y\n",
    "plt.plot(x, y)\n",
    "# hiển thị biểu đồ\n",
    "plt.show()"
   ]
  },
  {
   "cell_type": "code",
   "execution_count": 69,
   "id": "33f86aa0",
   "metadata": {},
   "outputs": [
    {
     "data": {
      "image/png": "[encoded data removed]",
      "text/plain": [
       "<Figure size 640x480 with 1 Axes>"
      ]
     },
     "metadata": {},
     "output_type": "display_data"
    }
   ],
   "source": [
    "# Vẽ biểu đồ hình sin \n",
    "# chia đoạn từ 0 đến 3π thành các đoạn con 0.1\n",
    "x = np.arange(0, 3 * np.pi, 0.1)\n",
    "# tính sin tương ứng với từng phần tử của x\n",
    "y = np.sin(x)\n",
    "# vẽ biểu đồ tương quan giữa x và y\n",
    "plt.plot(x, y)\n",
    "# hiển thị biểu đồ\n",
    "plt.show()"
   ]
  },
  {
   "cell_type": "markdown",
   "id": "8a2337dd",
   "metadata": {},
   "source": [
    "> Ví dụ: Biểu đồ cả SIN và COS"
   ]
  },
  {
   "cell_type": "code",
   "execution_count": 70,
   "id": "989a0c30",
   "metadata": {},
   "outputs": [
    {
     "data": {
      "image/png": "[encoded data removed]",
      "text/plain": [
       "<Figure size 640x480 with 1 Axes>"
      ]
     },
     "metadata": {},
     "output_type": "display_data"
    }
   ],
   "source": [
    "x = np.arange(0, 3 * np.pi, 0.1)\n",
    "y_sin = np.sin(x)\n",
    "y_cos = np.cos(x)\n",
    "plt.plot(x, y_sin)\n",
    "plt.plot(x, y_cos)\n",
    "plt.xlabel('Trục X')\n",
    "plt.ylabel('Trục Y')\n",
    "plt.title('Hàm SIN và COS trong khoảng 0 đến 3pi')\n",
    "plt.legend(['SIN(x)', 'COS(x)'])\n",
    "plt.show()"
   ]
  },
  {
   "cell_type": "markdown",
   "id": "61949c6c",
   "metadata": {},
   "source": [
    "#### Một số loại biểu đồ thông dụng trong matplotlib"
   ]
  },
  {
   "cell_type": "markdown",
   "id": "be43cc34",
   "metadata": {},
   "source": [
    "> Biểu đồ dạng đường (line plot)"
   ]
  },
  {
   "cell_type": "markdown",
   "id": "dd7ca583",
   "metadata": {},
   "source": [
    "-  Biểu đồ thể hiện tương quan giữa X và Y\n",
    "-  **Cú pháp**:\n",
    "    plot([x], y, [fmt], data=None, **kwargs) \n",
    "    plot([x], y, [fmt], [x2], y2, [fmt2],..., **kwargs)\n",
    "- **“fmt”** là quy cách vẽ đường\n",
    "- **“data”** là nhãn của dữ liệu\n",
    "-  ****kwargs**: tham số vẽ đường \n",
    "- Vẽ nhiều lần trên một biểu đồ \n",
    "- Kết quả trả về là một list các đối tượng Line2D"
   ]
  },
  {
   "cell_type": "markdown",
   "id": "7d3536ea",
   "metadata": {},
   "source": [
    "- “fmt” gồm 3 phần fmt = '[color][marker][line]‘\n",
    "-  [color] – viết tắt tên màu:\n",
    "    - `'b'` – blue\n",
    "    - `'g'` – green\n",
    "    - `'r'` – red\n",
    "    - `'c'` – cyan\n",
    "    - `'m'` – magenta\n",
    "    - `'y'` – yellow\n",
    "    - `'b'` – black\n",
    "    - `'w'` – white\n",
    "    - `#rrggbb` – chỉ ra mã màu theo hệ RGB\n",
    "- [marker]\n",
    "\n",
    "- cách đánh dấu dữ liệu:\n",
    "    - `'o'` – hình tròn\n",
    "    - `'v'` – tam giác xuống ('^', '<', '>')\n",
    "    - `'*'` – ngôi sao\n",
    "    - `'.'` – chấm\n",
    "    - `'p'` – ngũ giác\n",
    "    ...\n",
    "- [line] – cách vẽ đường:\n",
    "    - `'-'` – nét liền\n",
    "    - `'--'` – nét đứt\n",
    "    - `'-.'` – gạch chấm\n",
    "    - `':'` – đường chấm"
   ]
  },
  {
   "cell_type": "code",
   "execution_count": 71,
   "id": "71ab336e",
   "metadata": {},
   "outputs": [
    {
     "data": {
      "image/png": "[encoded data removed]",
      "text/plain": [
       "<Figure size 640x480 with 1 Axes>"
      ]
     },
     "metadata": {},
     "output_type": "display_data"
    }
   ],
   "source": [
    "# chia đoạn 0-5 thành các bước 0.2\n",
    "\n",
    "t = np.arange(0., 5., 0.2)\n",
    "# Vẽ 3 đường: #- màu đỏ nét đứt: y = x\n",
    "# - màu xanh dương, đánh dấu ô vuông:\n",
    "y = x*x #- màu xanh lá, đánh dấu tam giác:\n",
    "y = x*x*x\n",
    "plt.plot(t, t, 'r--', t, t**2, 'bs',\n",
    "t, t**3, 'g^')\n",
    "plt.show()"
   ]
  },
  {
   "cell_type": "markdown",
   "id": "0d831a49",
   "metadata": {},
   "source": [
    "> Biểu đồ dạng cột (bar plot)"
   ]
  },
  {
   "cell_type": "markdown",
   "id": "247afc4b",
   "metadata": {},
   "source": [
    "- Biểu đồ dạng cột chiều đứng"
   ]
  },
  {
   "cell_type": "code",
   "execution_count": 72,
   "id": "8d9b92ea",
   "metadata": {},
   "outputs": [
    {
     "data": {
      "image/png": "[encoded data removed]",
      "text/plain": [
       "<Figure size 640x480 with 1 Axes>"
      ]
     },
     "metadata": {},
     "output_type": "display_data"
    }
   ],
   "source": [
    "D = { 'Dược học': 3000,\n",
    "'KT-NH': 900,\n",
    "'QTKD': 2000,\n",
    "'CNTT': 1200,\n",
    "'CK-Oto': 1500,\n",
    "'NN': 500 }\n",
    "plt.bar(range(len(D)), D.values(),\n",
    "align='center')\n",
    "plt.xticks(range(len(D)),\n",
    "D.keys())\n",
    "plt.title('Các ngành tuyển sinh của Đại học Nguyễn Tất Thành')\n",
    "plt.show()"
   ]
  },
  {
   "cell_type": "markdown",
   "id": "2af28717",
   "metadata": {},
   "source": [
    "- Biểu đồ dạng cột chiều ngang"
   ]
  },
  {
   "cell_type": "code",
   "execution_count": 73,
   "id": "4e499cf8",
   "metadata": {},
   "outputs": [
    {
     "data": {
      "image/png": "[encoded data removed]",
      "text/plain": [
       "<Figure size 640x480 with 1 Axes>"
      ]
     },
     "metadata": {},
     "output_type": "display_data"
    }
   ],
   "source": [
    "D = { \n",
    "    'Dược học': 3000,\n",
    "    'KT-NH': 900,\n",
    "    'QTKD': 2000,\n",
    "    'CNTT': 1200,\n",
    "    'CK-Oto': 1500,\n",
    "    'NN': 500 \n",
    "}\n",
    "\n",
    "plt.barh(range(len(D)), D.values(), align='center')\n",
    "plt.yticks(range(len(D)), D.keys())\n",
    "plt.title('Các ngành tuyển sinh của Đại học Nguyễn Tất Thành')\n",
    "plt.xlabel('Số lượng tuyển sinh')\n",
    "plt.ylabel('Ngành học')\n",
    "plt.show()\n"
   ]
  },
  {
   "cell_type": "markdown",
   "id": "e74b8cc0",
   "metadata": {},
   "source": [
    "- Ghép 2 biểu đồ"
   ]
  },
  {
   "cell_type": "code",
   "execution_count": 74,
   "id": "94ee0473",
   "metadata": {},
   "outputs": [
    {
     "data": {
      "image/png": "[encoded data removed]",
      "text/plain": [
       "<Figure size 640x480 with 1 Axes>"
      ]
     },
     "metadata": {},
     "output_type": "display_data"
    }
   ],
   "source": [
    "plt.bar([1,3,5,7,9],[5,2,7,8,2], label=\"One\")\n",
    "plt.bar([2,4,6,8,10],[8,6,2,5,6], label=\"Two\", color='g')\n",
    "plt.legend()\n",
    "plt.xlabel('bar number')\n",
    "plt.ylabel('bar height')\n",
    "plt.title('Ghép 2 biểu đồ')\n",
    "plt.show()"
   ]
  },
  {
   "cell_type": "markdown",
   "id": "9f39433f",
   "metadata": {},
   "source": [
    "> Biểu đồ bánh (pie chart)"
   ]
  },
  {
   "cell_type": "markdown",
   "id": "e08e6dc9",
   "metadata": {},
   "source": [
    "- Làm rõ tương quan chi tiết / tổng thể"
   ]
  },
  {
   "cell_type": "code",
   "execution_count": 75,
   "id": "db5a00cd",
   "metadata": {},
   "outputs": [
    {
     "data": {
      "image/png": "[encoded data removed]",
      "text/plain": [
       "<Figure size 640x480 with 1 Axes>"
      ]
     },
     "metadata": {},
     "output_type": "display_data"
    }
   ],
   "source": [
    "D = { 'Dược học': 3000,\n",
    "'KT-NH': 900,\n",
    "'QTKD': 2000,\n",
    "'CNTT': 1200,\n",
    "'CK-Oto': 1500,\n",
    "'NN': 500 }\n",
    "plt.pie(D.values(),\n",
    "labels=D.keys(), autopct='%1.1f%%')\n",
    "plt.axis('equal') # trục x = trục y\n",
    "plt.show()"
   ]
  },
  {
   "cell_type": "markdown",
   "id": "811ceb75",
   "metadata": {},
   "source": [
    "> Một số chức năng hữu ích"
   ]
  },
  {
   "cell_type": "markdown",
   "id": "477820d8",
   "metadata": {},
   "source": [
    "- Chia thành các biểu đồ con"
   ]
  },
  {
   "cell_type": "code",
   "execution_count": 76,
   "id": "3416df24",
   "metadata": {},
   "outputs": [
    {
     "data": {
      "image/png": "[encoded data removed]",
      "text/plain": [
       "<Figure size 640x480 with 2 Axes>"
      ]
     },
     "metadata": {},
     "output_type": "display_data"
    }
   ],
   "source": [
    "x = np.arange(0, 3 * np.pi, 0.1)\n",
    "y_sin = np.sin(x)\n",
    "y_cos = np.cos(x)\n",
    "plt.subplot(2, 1, 1) # biểu đồ 1\n",
    "plt.plot(x, y_sin)\n",
    "plt.title('SIN(x)')\n",
    "plt.subplot(2, 1, 2) # biểu đồ 2\n",
    "plt.plot(x, y_cos)\n",
    "plt.title('COS(x)')\n",
    "plt.show()"
   ]
  },
  {
   "cell_type": "code",
   "execution_count": 77,
   "id": "781b4293",
   "metadata": {},
   "outputs": [
    {
     "data": {
      "image/png": "[encoded data removed]",
      "text/plain": [
       "<Figure size 640x480 with 2 Axes>"
      ]
     },
     "metadata": {},
     "output_type": "display_data"
    }
   ],
   "source": [
    "# Một số biểu đồ khác \n",
    "x1 = np.linspace(0.0, 5.0)\n",
    "x2 = np.linspace(0.0, 2.0)\n",
    "y1 = np.cos(2 * np.pi * x1) * np.exp(-x1)\n",
    "y2 = np.cos(2 * np.pi * x2)\n",
    "plt.subplot(2, 1, 1)\n",
    "plt.plot(x1, y1, 'o-')\n",
    "plt.subplot(2, 1, 2)\n",
    "plt.plot(x2, y2, '.-')\n",
    "plt.show()"
   ]
  },
  {
   "cell_type": "markdown",
   "id": "7b21a370",
   "metadata": {},
   "source": [
    "- Nạp ảnh (png_jpg)"
   ]
  },
  {
   "cell_type": "code",
   "execution_count": 78,
   "id": "dcea9ede",
   "metadata": {},
   "outputs": [],
   "source": [
    "import matplotlib.pyplot as plt\n",
    "import matplotlib.image as mpimg"
   ]
  },
  {
   "cell_type": "code",
   "execution_count": 79,
   "id": "b61f9939",
   "metadata": {},
   "outputs": [
    {
     "data": {
      "image/png": "[encoded data removed]",
      "text/plain": [
       "<Figure size 500x500 with 4 Axes>"
      ]
     },
     "metadata": {},
     "output_type": "display_data"
    }
   ],
   "source": [
    "image = mpimg.imread('pi.png')\n",
    "fig, axs = plt.subplots(2, 2,figsize=(5, 5))\n",
    "axs[0, 0].imshow(image)\n",
    "axs[1, 0].imshow(image)\n",
    "axs[0, 1].imshow(image)\n",
    "axs[1, 1].imshow(image)\n",
    "plt.show()"
   ]
  },
  {
   "cell_type": "markdown",
   "id": "bf75b829",
   "metadata": {},
   "source": [
    "- lưu biểu đồ ra file"
   ]
  },
  {
   "cell_type": "code",
   "execution_count": 80,
   "id": "45b97a34",
   "metadata": {},
   "outputs": [
    {
     "data": {
      "image/png": "[encoded data removed]",
      "text/plain": [
       "<Figure size 500x500 with 4 Axes>"
      ]
     },
     "metadata": {},
     "output_type": "display_data"
    }
   ],
   "source": [
    "image = mpimg.imread('pi.png')\n",
    "fig, axs = plt.subplots(2, 2, figsize=(5, 5))\n",
    "axs[0, 0].imshow(image)\n",
    "axs[1, 0].imshow(image)\n",
    "axs[0, 1].imshow(image)\n",
    "axs[1, 1].imshow(image)\n",
    "\n",
    "plt.savefig('1.jpg')\n",
    "plt.savefig('1.pdf')"
   ]
  },
  {
   "cell_type": "markdown",
   "id": "0df7bed5",
   "metadata": {},
   "source": [
    "### 17. Thư viện Panda"
   ]
  },
  {
   "cell_type": "markdown",
   "id": "03e6875f",
   "metadata": {},
   "source": [
    "#### 17.1. Làm việc với series"
   ]
  },
  {
   "cell_type": "markdown",
   "id": "0943ffcf",
   "metadata": {},
   "source": [
    "> Tạo dữ liệu series"
   ]
  },
  {
   "cell_type": "code",
   "execution_count": 81,
   "id": "32832053",
   "metadata": {},
   "outputs": [],
   "source": [
    "import pandas as pd\n",
    "import numpy as np"
   ]
  },
  {
   "cell_type": "code",
   "execution_count": 82,
   "id": "ddcfd34b",
   "metadata": {},
   "outputs": [
    {
     "name": "stdout",
     "output_type": "stream",
     "text": [
      "0    29\n",
      "1    77\n",
      "2    74\n",
      "3    58\n",
      "dtype: int64\n",
      "RangeIndex(start=0, stop=4, step=1)\n",
      "[29 77 74 58]\n"
     ]
    }
   ],
   "source": [
    "#Tạo dữ liệu series (1)\n",
    "S = pd.Series(np.random.randint(100, size = 4))\n",
    "print(S)\n",
    "print(S.index)\n",
    "print(S.values)"
   ]
  },
  {
   "cell_type": "code",
   "execution_count": 83,
   "id": "31ffe590",
   "metadata": {},
   "outputs": [
    {
     "name": "stdout",
     "output_type": "stream",
     "text": [
      "Ke toan    310\n",
      "KT         360\n",
      "CNTT       580\n",
      "Co khi     340\n",
      "dtype: int64\n",
      "Index(['Ke toan', 'KT', 'CNTT', 'Co khi'], dtype='object')\n",
      "[310 360 580 340]\n"
     ]
    }
   ],
   "source": [
    "#Tạo dữ liệu series (2)\n",
    "chi_so = [\"Ke toan\", \"KT\", \"CNTT\", \"Co khi\"]\n",
    "gia_tri = [310, 360, 580, 340]\n",
    "S = pd.Series(gia_tri, index=chi_so)\n",
    "print(S)\n",
    "print(S.index)\n",
    "print(S.values)"
   ]
  },
  {
   "cell_type": "code",
   "execution_count": 84,
   "id": "922f8641",
   "metadata": {},
   "outputs": [
    {
     "name": "stdout",
     "output_type": "stream",
     "text": [
      "KT        310\n",
      "KT        360\n",
      "CNTT      580\n",
      "Co khi    340\n",
      "dtype: int64\n",
      "Index(['KT', 'KT', 'CNTT', 'Co khi'], dtype='object')\n",
      "[310 360 580 340]\n"
     ]
    }
   ],
   "source": [
    "#Tạo dữ liệu series (3)\n",
    "chi_so = [\"KT\", \"KT\", \"CNTT\", \"Co khi\"] # trùng nhau\n",
    "gia_tri = [310, 360, 580, 340]\n",
    "S = pd.Series(gia_tri, index=chi_so)\n",
    "print(S)\n",
    "print(S.index)\n",
    "print(S.values)"
   ]
  },
  {
   "cell_type": "markdown",
   "id": "fcf70735",
   "metadata": {},
   "source": [
    "> Truy vấn dữ liệu thông qua chỉ số"
   ]
  },
  {
   "cell_type": "code",
   "execution_count": 85,
   "id": "51d93bc4",
   "metadata": {},
   "outputs": [
    {
     "name": "stdout",
     "output_type": "stream",
     "text": [
      "340\n",
      "KT    310\n",
      "KT    360\n",
      "dtype: int64\n",
      "580\n"
     ]
    }
   ],
   "source": [
    "chi_so = [\"KT\", \"KT\", \"CNTT\", \"Co khi\"] # trùng nhau\n",
    "gia_tri = [310, 360, 580, 340]\n",
    "S = pd.Series(gia_tri, index=chi_so)\n",
    "print(S['Co khi'])\n",
    "print(S['KT'])\n",
    "print(S.CNTT)"
   ]
  },
  {
   "cell_type": "markdown",
   "id": "1866a468",
   "metadata": {},
   "source": [
    "> Phép toán trên series"
   ]
  },
  {
   "cell_type": "code",
   "execution_count": 86,
   "id": "41f9029a",
   "metadata": {},
   "outputs": [
    {
     "name": "stdout",
     "output_type": "stream",
     "text": [
      "CNTT       680.0\n",
      "Co khi       NaN\n",
      "KT           NaN\n",
      "Ke toan      NaN\n",
      "PM           NaN\n",
      "dtype: float64\n"
     ]
    }
   ],
   "source": [
    "chi_so = [\"Ke toan\", \"KT\", \"CNTT\", \"Co khi\"]\n",
    "gia_tri = [310, 360, 580, 340]\n",
    "# chỉ số giống nhau thì tính gộp, nếu không thì NaN\n",
    "S = pd.Series(gia_tri, index=chi_so)\n",
    "P = pd.Series([100, 100], ['CNTT',\n",
    "'PM'])\n",
    "Y = S + P\n",
    "print(Y)"
   ]
  },
  {
   "cell_type": "markdown",
   "id": "babc9e62",
   "metadata": {},
   "source": [
    "> Một số phương thức hữu ích\n",
    "\n",
    "- `S.axes`: trả về danh sách các chỉ mục của S\n",
    "- `S.dtype`: trả về kiểu dữ liệu các phần tử của S\n",
    "- `S.empty`: trả về True nếu S rỗng\n",
    "- `S.ndim`: trả về số chiều của S (1)\n",
    "- `S.size`: trả về số phần tử của S\n",
    "- `S.values`: trả về list các phần tử của S\n",
    "- `S.head(n)`: trả về n phần tử đầu tiên của S\n",
    "- `S.tail(n)`: trả về n phần tử cuối cùng của S"
   ]
  },
  {
   "cell_type": "code",
   "execution_count": 87,
   "id": "ee7f361e",
   "metadata": {},
   "outputs": [
    {
     "name": "stdout",
     "output_type": "stream",
     "text": [
      "Ke toan    1310\n",
      "KT         1360\n",
      "CNTT        580\n",
      "Co khi     1340\n",
      "dtype: int64\n"
     ]
    }
   ],
   "source": [
    "import pandas as pd\n",
    "\n",
    "# Hàm tăng giá trị\n",
    "def Tang(x):\n",
    "    return x if x > 500 else x + 1000\n",
    "\n",
    "chi_so = [\"Ke toan\", \"KT\", \"CNTT\", \"Co khi\"]\n",
    "gia_tri = [310, 360, 580, 340]\n",
    "\n",
    "S = pd.Series(gia_tri, chi_so)\n",
    "\n",
    "# áp dụng Tang trên S (không thay đổi S gốc)\n",
    "print(S.apply(Tang))\n"
   ]
  },
  {
   "cell_type": "markdown",
   "id": "78be9290",
   "metadata": {},
   "source": [
    "#### 17.2. Làm việc với dataframe"
   ]
  },
  {
   "cell_type": "markdown",
   "id": "52a2874d",
   "metadata": {},
   "source": [
    "> Khởi tạo dataframe\n",
    "\n",
    "- Cú pháp chung:\n",
    "    **pandas.DataFrame(data, index, columns, dtype, copy)**"
   ]
  },
  {
   "cell_type": "code",
   "execution_count": 88,
   "id": "77a4d97b",
   "metadata": {},
   "outputs": [
    {
     "name": "stdout",
     "output_type": "stream",
     "text": [
      "   Year  Population    Total  Violent\n",
      "0  1960   179323175  3384200   288460\n",
      "1  1961   182992000  3488000   289390\n",
      "2  1962   185771000  3752200   301510\n",
      "3  1963   188483000  4109500   316970\n",
      "4  1964   191141000  4564600   364220\n"
     ]
    }
   ],
   "source": [
    "# Tạo dataframe từ list\n",
    "crimes_rates = {\n",
    "\"Year\":[1960,1961,1962,1963,1964],\n",
    "\"Population\":[179323175,182992000,185771000,188483000,\n",
    "191141000],\n",
    "\"Total\":[3384200,3488000,3752200,4109500,4564600],\n",
    "\"Violent\":[288460,289390,301510,316970,364220]\n",
    "}\n",
    "crimes_dataframe = pd.DataFrame(crimes_rates)\n",
    "print(crimes_dataframe)"
   ]
  },
  {
   "cell_type": "markdown",
   "id": "0bf1c3ab",
   "metadata": {},
   "source": [
    "> Tạo dataframe từ list các dictionary"
   ]
  },
  {
   "cell_type": "code",
   "execution_count": 89,
   "id": "c0469d80",
   "metadata": {},
   "outputs": [
    {
     "name": "stdout",
     "output_type": "stream",
     "text": [
      "                MIT  Stanford   DHTL\n",
      "NumOfStudents  5000      4500  15000\n",
      "ranking           1         2    200\n",
      "int64\n"
     ]
    }
   ],
   "source": [
    "\n",
    "data = [\n",
    "{'MIT': 5000, 'Stanford': 4500, \"DHTL\":15000},\n",
    "{'MIT': 1, 'Stanford': 2, \"DHTL\":200}\n",
    "]\n",
    "df = pd.DataFrame(data, index=['NumOfStudents', \"ranking\"])\n",
    "print(df)\n",
    "print(df.DHTL.dtype)"
   ]
  },
  {
   "cell_type": "markdown",
   "id": "658af1f1",
   "metadata": {},
   "source": [
    "> Tạo dataframe từ dictionary serias"
   ]
  },
  {
   "cell_type": "code",
   "execution_count": 90,
   "id": "5263f8c3",
   "metadata": {},
   "outputs": [
    {
     "name": "stdout",
     "output_type": "stream",
     "text": [
      "    one   two\n",
      "1   1.0  1000\n",
      "2  23.0  2400\n",
      "3  45.0  1132\n",
      "4   NaN  3434\n"
     ]
    }
   ],
   "source": [
    "\n",
    "data = {\n",
    "\"one\": pd.Series([1,23,45], index = [1,2,3]),\n",
    "\"two\": pd.Series([1000,2400,1132,3434], index =\n",
    "[1,2,3,4])\n",
    "}\n",
    "df = pd.DataFrame(data)\n",
    "print(df)"
   ]
  },
  {
   "cell_type": "markdown",
   "id": "6899abb5",
   "metadata": {},
   "source": [
    "> Đọc dữ liệu từ file .csv"
   ]
  },
  {
   "cell_type": "code",
   "execution_count": 93,
   "id": "4e9420f5",
   "metadata": {},
   "outputs": [
    {
     "name": "stdout",
     "output_type": "stream",
     "text": [
      "    HoTen  Tuoi Nganh\n",
      "0  Thuong    20  CNTT\n",
      "1     Anh    22  QTKD\n",
      "2    Nhat    21    KT\n",
      "3     Duy    23    NN\n"
     ]
    }
   ],
   "source": [
    "\n",
    "d = pd.read_csv('sinhvien.csv')\n",
    "print(d)"
   ]
  },
  {
   "cell_type": "markdown",
   "id": "bac0a5cd",
   "metadata": {},
   "source": [
    "### 18. Kết hợp giữa pandas và matplotlib"
   ]
  },
  {
   "cell_type": "code",
   "execution_count": 94,
   "id": "57780c08",
   "metadata": {},
   "outputs": [
    {
     "data": {
      "image/png": "[encoded data removed]",
      "text/plain": [
       "<Figure size 640x480 with 1 Axes>"
      ]
     },
     "metadata": {},
     "output_type": "display_data"
    }
   ],
   "source": [
    "# Đọc file, lấy HoTen làm index\n",
    "d = pd.read_csv(\"sinhvien.csv\", index_col=0)\n",
    "\n",
    "# Đếm số sinh viên theo ngành\n",
    "count_nganh = d[\"Nganh\"].value_counts()\n",
    "\n",
    "# Vẽ biểu đồ cột\n",
    "count_nganh.plot(kind=\"bar\")\n",
    "plt.title(\"Số lượng sinh viên theo ngành\")\n",
    "plt.xlabel(\"Ngành học\")\n",
    "plt.ylabel(\"Số lượng\")\n",
    "plt.show()\n"
   ]
  },
  {
   "cell_type": "code",
   "execution_count": 95,
   "id": "ba2f11c7",
   "metadata": {},
   "outputs": [
    {
     "name": "stdout",
     "output_type": "stream",
     "text": [
      "        Tuoi Nganh\n",
      "HoTen             \n",
      "Thuong    20  CNTT\n",
      "Anh       22  QTKD\n",
      "Nhat      21    KT\n",
      "Duy       23    NN\n"
     ]
    }
   ],
   "source": [
    "# Truy cập vào từng ô trong dataframe\n",
    "d = pd.read_csv(\"sinhvien.csv\", index_col=0)\n",
    "print(d)"
   ]
  },
  {
   "cell_type": "code",
   "execution_count": 97,
   "id": "c10b84d5",
   "metadata": {},
   "outputs": [
    {
     "name": "stdout",
     "output_type": "stream",
     "text": [
      "        Tuoi Nganh\n",
      "HoTen             \n",
      "Thuong    20  CNTT\n",
      "Anh       22  QTKD\n",
      "Nhat      21    KT\n",
      "        Tuoi\n",
      "HoTen       \n",
      "Thuong    20\n",
      "Anh       22\n",
      "Nhat      21\n",
      "Duy       23\n"
     ]
    }
   ],
   "source": [
    "# Xóa dòng hoặc cột\n",
    "print(d.drop(\"Duy\")) # xóa dòng có index là Duy\n",
    "print(d.drop(\"Nganh\", axis=1)) # xóa cột Ngành"
   ]
  },
  {
   "cell_type": "markdown",
   "id": "19c59b1f",
   "metadata": {},
   "source": [
    "### 19. Làm việc với panel"
   ]
  },
  {
   "cell_type": "markdown",
   "id": "962c3f1e",
   "metadata": {},
   "source": [
    "> Tạo panel"
   ]
  },
  {
   "cell_type": "code",
   "execution_count": 102,
   "id": "719804a1",
   "metadata": {},
   "outputs": [],
   "source": [
    "import pandas as pd\n",
    "import numpy as np"
   ]
  },
  {
   "cell_type": "code",
   "execution_count": 104,
   "id": "e27fba3c",
   "metadata": {},
   "outputs": [
    {
     "name": "stdout",
     "output_type": "stream",
     "text": [
      "Mảng NumPy 3D:\n",
      "[[[0.65381685 0.688615   0.17157564 0.88593246]\n",
      "  [0.34402736 0.44405836 0.45711149 0.66782698]\n",
      "  [0.54995687 0.56118679 0.62987838 0.85953125]]\n",
      "\n",
      " [[0.00408941 0.19643527 0.85828426 0.29278464]\n",
      "  [0.14911202 0.87909091 0.88115948 0.20170803]\n",
      "  [0.82313156 0.6594127  0.37886752 0.4337783 ]]]\n"
     ]
    }
   ],
   "source": [
    "\n",
    "data = np.random.rand(2, 3, 4)\n",
    "print(\"Mảng NumPy 3D:\")\n",
    "print(data)\n"
   ]
  },
  {
   "cell_type": "markdown",
   "id": "7fe3c40d",
   "metadata": {},
   "source": [
    "### 20. Chọn và nhóm phần tử"
   ]
  },
  {
   "cell_type": "markdown",
   "id": "c0848b35",
   "metadata": {},
   "source": [
    "> Nhóm phần tử"
   ]
  },
  {
   "cell_type": "code",
   "execution_count": 105,
   "id": "7a275c8f",
   "metadata": {},
   "outputs": [
    {
     "data": {
      "text/html": [
       "<div>\n",
       "<style scoped>\n",
       "    .dataframe tbody tr th:only-of-type {\n",
       "        vertical-align: middle;\n",
       "    }\n",
       "\n",
       "    .dataframe tbody tr th {\n",
       "        vertical-align: top;\n",
       "    }\n",
       "\n",
       "    .dataframe thead th {\n",
       "        text-align: right;\n",
       "    }\n",
       "</style>\n",
       "<table border=\"1\" class=\"dataframe\">\n",
       "  <thead>\n",
       "    <tr style=\"text-align: right;\">\n",
       "      <th></th>\n",
       "      <th>Y</th>\n",
       "    </tr>\n",
       "    <tr>\n",
       "      <th>X</th>\n",
       "      <th></th>\n",
       "    </tr>\n",
       "  </thead>\n",
       "  <tbody>\n",
       "    <tr>\n",
       "      <th>A</th>\n",
       "      <td>7</td>\n",
       "    </tr>\n",
       "    <tr>\n",
       "      <th>B</th>\n",
       "      <td>3</td>\n",
       "    </tr>\n",
       "  </tbody>\n",
       "</table>\n",
       "</div>"
      ],
      "text/plain": [
       "   Y\n",
       "X   \n",
       "A  7\n",
       "B  3"
      ]
     },
     "execution_count": 105,
     "metadata": {},
     "output_type": "execute_result"
    }
   ],
   "source": [
    "df2 = pd.DataFrame({'X' : ['B', 'B', 'A', 'A'], 'Y' : [1, 2, 3, 4]})\n",
    "df2.groupby(['X']).sum()"
   ]
  },
  {
   "cell_type": "code",
   "execution_count": 106,
   "id": "0f274163",
   "metadata": {},
   "outputs": [
    {
     "data": {
      "text/html": [
       "<div>\n",
       "<style scoped>\n",
       "    .dataframe tbody tr th:only-of-type {\n",
       "        vertical-align: middle;\n",
       "    }\n",
       "\n",
       "    .dataframe tbody tr th {\n",
       "        vertical-align: top;\n",
       "    }\n",
       "\n",
       "    .dataframe thead th {\n",
       "        text-align: right;\n",
       "    }\n",
       "</style>\n",
       "<table border=\"1\" class=\"dataframe\">\n",
       "  <thead>\n",
       "    <tr style=\"text-align: right;\">\n",
       "      <th></th>\n",
       "      <th>Y</th>\n",
       "    </tr>\n",
       "    <tr>\n",
       "      <th>X</th>\n",
       "      <th></th>\n",
       "    </tr>\n",
       "  </thead>\n",
       "  <tbody>\n",
       "    <tr>\n",
       "      <th>B</th>\n",
       "      <td>3</td>\n",
       "    </tr>\n",
       "    <tr>\n",
       "      <th>A</th>\n",
       "      <td>7</td>\n",
       "    </tr>\n",
       "  </tbody>\n",
       "</table>\n",
       "</div>"
      ],
      "text/plain": [
       "   Y\n",
       "X   \n",
       "B  3\n",
       "A  7"
      ]
     },
     "execution_count": 106,
     "metadata": {},
     "output_type": "execute_result"
    }
   ],
   "source": [
    "#Nhóm phần tử\n",
    "df2.groupby(['X'], sort=False).sum()"
   ]
  },
  {
   "cell_type": "code",
   "execution_count": 107,
   "id": "78d5f56c",
   "metadata": {},
   "outputs": [
    {
     "name": "stderr",
     "output_type": "stream",
     "text": [
      "/tmp/ipykernel_2641/2994302590.py:4: FutureWarning: When grouping with a length-1 list-like, you will need to pass a length-1 tuple to get_group in a future version of pandas. Pass `(name,)` instead of `name` to silence this warning.\n",
      "  df3.groupby(['X']).get_group('A')\n"
     ]
    },
    {
     "data": {
      "text/html": [
       "<div>\n",
       "<style scoped>\n",
       "    .dataframe tbody tr th:only-of-type {\n",
       "        vertical-align: middle;\n",
       "    }\n",
       "\n",
       "    .dataframe tbody tr th {\n",
       "        vertical-align: top;\n",
       "    }\n",
       "\n",
       "    .dataframe thead th {\n",
       "        text-align: right;\n",
       "    }\n",
       "</style>\n",
       "<table border=\"1\" class=\"dataframe\">\n",
       "  <thead>\n",
       "    <tr style=\"text-align: right;\">\n",
       "      <th></th>\n",
       "      <th>X</th>\n",
       "      <th>Y</th>\n",
       "    </tr>\n",
       "  </thead>\n",
       "  <tbody>\n",
       "    <tr>\n",
       "      <th>0</th>\n",
       "      <td>A</td>\n",
       "      <td>1</td>\n",
       "    </tr>\n",
       "    <tr>\n",
       "      <th>2</th>\n",
       "      <td>A</td>\n",
       "      <td>3</td>\n",
       "    </tr>\n",
       "  </tbody>\n",
       "</table>\n",
       "</div>"
      ],
      "text/plain": [
       "   X  Y\n",
       "0  A  1\n",
       "2  A  3"
      ]
     },
     "execution_count": 107,
     "metadata": {},
     "output_type": "execute_result"
    }
   ],
   "source": [
    "#Nhóm phầm tử\n",
    "df3 = pd.DataFrame({'X' : ['A', 'B', 'A', 'B'], 'Y' :\n",
    "[1, 4, 3, 2]})\n",
    "df3.groupby(['X']).get_group('A')"
   ]
  },
  {
   "cell_type": "code",
   "execution_count": 108,
   "id": "002cbe49",
   "metadata": {},
   "outputs": [
    {
     "name": "stderr",
     "output_type": "stream",
     "text": [
      "/tmp/ipykernel_2641/3299341889.py:2: FutureWarning: When grouping with a length-1 list-like, you will need to pass a length-1 tuple to get_group in a future version of pandas. Pass `(name,)` instead of `name` to silence this warning.\n",
      "  df3.groupby(['X']).get_group('B')\n"
     ]
    },
    {
     "data": {
      "text/html": [
       "<div>\n",
       "<style scoped>\n",
       "    .dataframe tbody tr th:only-of-type {\n",
       "        vertical-align: middle;\n",
       "    }\n",
       "\n",
       "    .dataframe tbody tr th {\n",
       "        vertical-align: top;\n",
       "    }\n",
       "\n",
       "    .dataframe thead th {\n",
       "        text-align: right;\n",
       "    }\n",
       "</style>\n",
       "<table border=\"1\" class=\"dataframe\">\n",
       "  <thead>\n",
       "    <tr style=\"text-align: right;\">\n",
       "      <th></th>\n",
       "      <th>X</th>\n",
       "      <th>Y</th>\n",
       "    </tr>\n",
       "  </thead>\n",
       "  <tbody>\n",
       "    <tr>\n",
       "      <th>1</th>\n",
       "      <td>B</td>\n",
       "      <td>4</td>\n",
       "    </tr>\n",
       "    <tr>\n",
       "      <th>3</th>\n",
       "      <td>B</td>\n",
       "      <td>2</td>\n",
       "    </tr>\n",
       "  </tbody>\n",
       "</table>\n",
       "</div>"
      ],
      "text/plain": [
       "   X  Y\n",
       "1  B  4\n",
       "3  B  2"
      ]
     },
     "execution_count": 108,
     "metadata": {},
     "output_type": "execute_result"
    }
   ],
   "source": [
    "# Nhóm phần tử\n",
    "df3.groupby(['X']).get_group('B')"
   ]
  },
  {
   "cell_type": "markdown",
   "id": "2026baa3",
   "metadata": {},
   "source": [
    "### 21. Sử dụng pandas trong bài toán thực tế"
   ]
  },
  {
   "cell_type": "markdown",
   "id": "c5366792",
   "metadata": {},
   "source": [
    "> Dữ liệu về kết quả xổ số"
   ]
  },
  {
   "cell_type": "markdown",
   "id": "f0520cfd",
   "metadata": {},
   "source": [
    "- Dữ liệu kết quả xổ số (độc đắc) từ ngày 1-1-2000 đến ngày 21-5-2018 (hôm qua)\n",
    "-  Lưu ở định dạng csv, 2 cột:\n",
    "    - Cột 1: ngày ra số\n",
    "    - Cột 2: số độc đắc\n",
    "        - Dạng số (nếu không đủ 5 chữ số thì có nghĩa là đã bị xóa các chữ số 0 ở đầu)\n",
    "        - Có thể không có dữ liệu (mỗi năm có 4 ngày không quay xổ số)\n",
    "- Bài toán (vui + khoa học): phân tích các chiến lược chơi số\n",
    "đề mà người dân hay theo"
   ]
  },
  {
   "cell_type": "markdown",
   "id": "3bef6b54",
   "metadata": {},
   "source": [
    "> Đọc và tiền xử lý dữ liệu"
   ]
  },
  {
   "cell_type": "code",
   "execution_count": 113,
   "id": "94c911c1",
   "metadata": {},
   "outputs": [],
   "source": [
    "import matplotlib.pyplot as plt\n",
    "import pandas as pd\n",
    "import numpy as np\n",
    "\n",
    "# đọc dữ liệu từ file csv, chuyển dữ liệu cột 1 sang date\n",
    "df = pd.read_csv(\"kqsx.csv\", index_col = 0, parse_dates=True)\n",
    "\n",
    "# xóa bỏ các dòng không có dữ liệu\n",
    "df.dropna(inplace=True)\n",
    "# thêm cột mới là 2 số cuối của giải độc đắc\n",
    "df['Cuoi'] = df.So % 100"
   ]
  },
  {
   "cell_type": "markdown",
   "id": "0fc25028",
   "metadata": {},
   "source": [
    "> Khảo sát dữ liệu"
   ]
  },
  {
   "cell_type": "code",
   "execution_count": 116,
   "id": "4660b419",
   "metadata": {},
   "outputs": [
    {
     "data": {
      "image/png": "[encoded data removed]",
      "text/plain": [
       "<Figure size 640x480 with 1 Axes>"
      ]
     },
     "metadata": {},
     "output_type": "display_data"
    },
    {
     "data": {
      "image/png": "[encoded data removed]",
      "text/plain": [
       "<Figure size 640x480 with 1 Axes>"
      ]
     },
     "metadata": {},
     "output_type": "display_data"
    }
   ],
   "source": [
    "# trích xuất cột mới thành dữ liệu series để dễ xử lý\n",
    "s = pd.Series(df[\"Cuoi\"], dtype=\"int64\")\n",
    "\n",
    "# xem phân bổ dữ liệu: biểu đồ histogram, 100 nhóm\n",
    "s.plot(kind=\"hist\", bins=100)\n",
    "plt.show()\n",
    "\n",
    "# một dạng phân bổ dữ liệu khác: biểu đồ bar, đếm tần suất\n",
    "s.value_counts().sort_index().plot(kind=\"bar\")\n",
    "plt.show()\n"
   ]
  },
  {
   "cell_type": "markdown",
   "id": "ad64b8fe",
   "metadata": {},
   "source": [
    "> Viết hàm tính số tiền thu về"
   ]
  },
  {
   "cell_type": "code",
   "execution_count": 117,
   "id": "af7a4a5d",
   "metadata": {},
   "outputs": [],
   "source": [
    "# thử bộ số myNums, kết quả về là result, số tiền chơi là money\n",
    "def one_day(myNums, result, money):\n",
    "    pay = len(myNums) * money\n",
    "    get = money * 70 if result in myNums else 0\n",
    "    return get - pay\n",
    "\n",
    "# chơi nhiều ngày bộ số myNums, kết quả về là results\n",
    "def many_day(myNums, results, money):\n",
    "    total = 0\n",
    "    for x in results:\n",
    "        total += one_day(myNums, x, money)\n",
    "    return total\n"
   ]
  },
  {
   "cell_type": "markdown",
   "id": "0fbb7e8f",
   "metadata": {},
   "source": [
    "> Chiến lược nuôi một số"
   ]
  },
  {
   "cell_type": "code",
   "execution_count": 118,
   "id": "4a21758e",
   "metadata": {},
   "outputs": [
    {
     "name": "stdout",
     "output_type": "stream",
     "text": [
      "Chơi con 76 toàn năm 2000: -8000\n",
      "Chơi con 76 toàn bộ các năm: -8000\n",
      "Nuôi nhiều số toàn năm 2000: 22000\n",
      "Nuôi nhiều số toàn bộ các năm: 22000\n"
     ]
    }
   ],
   "source": [
    "money = 1000\n",
    "\n",
    "# thử chiến lược chơi: nuôi một con\n",
    "print(\"Chơi con 76 toàn năm 2000:\", many_day([76], s[0:367], money))\n",
    "print(\"Chơi con 76 toàn bộ các năm:\", many_day([76], s, money))\n",
    "# thử chiến lược chơi: nuôi nhiều con\n",
    "print(\"Nuôi nhiều số toàn năm 2000:\", many_day([76, 92, 3, 10, 51, 45], s[0:367], money))\n",
    "print(\"Nuôi nhiều số toàn bộ các năm:\", many_day([76, 92, 3, 10, 51,45], s, money))"
   ]
  },
  {
   "cell_type": "markdown",
   "id": "7e466bc1",
   "metadata": {},
   "source": [
    "> Chiến lược: thống kê"
   ]
  },
  {
   "cell_type": "code",
   "execution_count": 119,
   "id": "2b7d7a84",
   "metadata": {},
   "outputs": [
    {
     "name": "stdout",
     "output_type": "stream",
     "text": [
      "Chơi theo số ra nhiều nhất năm 2000: 90 132000\n",
      "Chơi theo số ra nhiều nhất các năm: 90 132000\n"
     ]
    }
   ],
   "source": [
    "# thống kê con ra nhiều nhất rồi chơi\n",
    "\n",
    "x = s[0:362].value_counts().idxmax()\n",
    "y = s.value_counts().idxmax()\n",
    "print(\"Chơi theo số ra nhiều nhất năm 2000:\", x,\n",
    "many_day([x], s, money))\n",
    "print(\"Chơi theo số ra nhiều nhất các năm:\", y,\n",
    "many_day([y], s, money))"
   ]
  },
  {
   "cell_type": "markdown",
   "id": "384a0786",
   "metadata": {},
   "source": [
    "> Chiến lược: ngẫu nhiên"
   ]
  },
  {
   "cell_type": "code",
   "execution_count": 120,
   "id": "32592b91",
   "metadata": {},
   "outputs": [
    {
     "name": "stdout",
     "output_type": "stream",
     "text": [
      "Chơi ngẫu nhiên: -8000\n"
     ]
    }
   ],
   "source": [
    "# chơi ngẫu nhiên, mỗi ngày một con\n",
    "\n",
    "total = 0\n",
    "for d in s:\n",
    " total -= money\n",
    "m = np.random.randint(100)\n",
    "if (m == d): total += 70 * money\n",
    "print(\"Chơi ngẫu nhiên:\", total)"
   ]
  },
  {
   "cell_type": "markdown",
   "id": "c651b1c6",
   "metadata": {},
   "source": [
    "### 22. Thư viện scikit-learn"
   ]
  },
  {
   "cell_type": "markdown",
   "id": "f7d97be0",
   "metadata": {},
   "source": [
    "#### 22.1. Một số loại bài toán học máy"
   ]
  },
  {
   "cell_type": "markdown",
   "id": "93ee33e9",
   "metadata": {},
   "source": [
    "- Hệ thống phân loại email\n",
    "- Nhận dạng chữ viết từ ảnh\n",
    "- Ước lượng giá cả của sản phẩm\n",
    "- Dự báo thời tiết\n",
    "- Đánh giá trạng thái của người qua ảnh/video\n",
    "- Trả lời tự động (chat bot)\n",
    "- Gợi ý sản phẩm phù hợp với nhu cầu khách hàng\n",
    "- Tự động chơi trò chơi\n",
    "- Mô phỏng giọng nói của một người nào đó"
   ]
  },
  {
   "cell_type": "markdown",
   "id": "ed44b42b",
   "metadata": {},
   "source": [
    "#### 22.2. Dự báo sử dụng hồi quy tuyến tính"
   ]
  },
  {
   "cell_type": "code",
   "execution_count": 121,
   "id": "4f718b4f",
   "metadata": {},
   "outputs": [],
   "source": [
    "import matplotlib.pyplot as plt\n",
    "import pandas as pd\n",
    "import numpy as np\n",
    "from sklearn import linear_model, metrics"
   ]
  },
  {
   "cell_type": "code",
   "execution_count": 122,
   "id": "68ba67af",
   "metadata": {},
   "outputs": [
    {
     "name": "stdout",
     "output_type": "stream",
     "text": [
      "     Cao  Nang\n",
      "Ten           \n",
      "A    147    49\n",
      "B    150    50\n",
      "C    153    51\n",
      "D    155    51\n",
      "E    168    60\n",
      "F    170    62\n",
      "G    173    68\n",
      "H    175    65\n",
      "I    178    66\n",
      "J    180    71\n",
      "K    183    68\n",
      "L    165    59\n",
      "M    163    58\n",
      "N    160    56\n",
      "O    158    54\n",
      "P    169    62\n",
      "Q    172    63\n",
      "S    170    62\n",
      "T    176    62\n",
      "U    180    69\n"
     ]
    },
    {
     "data": {
      "image/png": "[encoded data removed]",
      "text/plain": [
       "<Figure size 640x480 with 1 Axes>"
      ]
     },
     "metadata": {},
     "output_type": "display_data"
    },
    {
     "name": "stdout",
     "output_type": "stream",
     "text": [
      "Tổng bình phương sai số trên tập mẫu: 2.546685519029107\n",
      "Hệ số hồi quy: [0.61529398]\n",
      "Sai số: -42.607917992223435\n",
      "Công thức: [Nặng] = [0.61529398] x [Cao] +-42.607917992223435\n"
     ]
    },
    {
     "data": {
      "image/png": "[encoded data removed]",
      "text/plain": [
       "<Figure size 640x480 with 1 Axes>"
      ]
     },
     "metadata": {},
     "output_type": "display_data"
    }
   ],
   "source": [
    "# đọc dữ liệu từ file csv\n",
    "df = pd.read_csv(\"nguoi.csv\", index_col = 0)\n",
    "print(df)\n",
    "# vẽ biểu đồ minh họa dataset\n",
    "plt.plot(df.Cao, df.Nang, 'ro')\n",
    "plt.xlabel('Chiều cao (cm)')\n",
    "plt.ylabel('Cân nặng (kg)')\n",
    "plt.show()\n",
    "# sử dụng hồi quy tuyến tính\n",
    "X = df.loc[:, ['Cao']].values\n",
    "y = df.Nang.values\n",
    "\n",
    "# X là dữ liệu đầu vào\n",
    "# y là dữ liệu đầu ra\n",
    "# loại mô hình\n",
    "# tập huấn trên dữ liệu\n",
    "\n",
    "model = linear_model.LinearRegression()\n",
    "model.fit(X, y)\n",
    "# in một số thông tin về mô hình\n",
    "mse = metrics.mean_squared_error(model.predict(X), y)\n",
    "print(\"Tổng bình phương sai số trên tập mẫu:\", mse)\n",
    "print(\"Hệ số hồi quy:\", model.coef_)\n",
    "print(\"Sai số:\", model.intercept_)\n",
    "print(f\"Công thức: [Nặng] = {model.coef_} x [Cao] +{model.intercept_}\")\n",
    "# vẽ lại sơ đồ\n",
    "plt.scatter(X, y, c='b')\n",
    "plt.plot(X, model.predict(X))\n",
    "plt.show()\n",
    "\n",
    "# dự báo một số tình huống\n",
    "while True:\n",
    "\n",
    " x = float(input(\"Nhập chiều cao (nhập 0 để dừng): \"))\n",
    " if x <= 0: break\n",
    " print(\"Người cao\", x, \"cm, dự báo cân nặng\",\n",
    "\n",
    "model.predict([[x]]))"
   ]
  },
  {
   "cell_type": "code",
   "execution_count": 123,
   "id": "e9c300d3",
   "metadata": {},
   "outputs": [],
   "source": [
    "# Mở rộng mô hình (thêm cột giới tính)\n",
    "import matplotlib.pyplot as plt\n",
    "import pandas as pd\n",
    "import numpy as np\n",
    "from sklearn import linear_model, metrics"
   ]
  },
  {
   "cell_type": "code",
   "execution_count": 124,
   "id": "fb8f73d2",
   "metadata": {},
   "outputs": [
    {
     "name": "stdout",
     "output_type": "stream",
     "text": [
      "    Gioitinh  Cao  Nang\n",
      "Ten                    \n",
      "A         Nu  147    49\n",
      "B         Nu  150    50\n",
      "C         Nu  153    51\n",
      "D        Nam  155    51\n",
      "E        Nam  168    60\n",
      "F         Nu  170    62\n",
      "G         Nu  173    68\n",
      "H         Nu  175    65\n",
      "I        Nam  178    66\n",
      "J        Nam  180    71\n",
      "K        Nam  183    68\n",
      "L        Nam  165    59\n",
      "M        Nam  163    58\n",
      "N         Nu  160    56\n",
      "O         Nu  158    54\n",
      "P        Nam  169    62\n",
      "Q        Nam  172    63\n",
      "S         Nu  170    62\n",
      "T        Nam  176    62\n",
      "U        Nam  180    69\n",
      "    Gioitinh  Cao  Nang  GT\n",
      "Ten                        \n",
      "A         Nu  147    49   0\n",
      "B         Nu  150    50   0\n",
      "C         Nu  153    51   0\n",
      "D        Nam  155    51   1\n",
      "E        Nam  168    60   1\n",
      "F         Nu  170    62   0\n",
      "G         Nu  173    68   0\n",
      "H         Nu  175    65   0\n",
      "I        Nam  178    66   1\n",
      "J        Nam  180    71   1\n",
      "K        Nam  183    68   1\n",
      "L        Nam  165    59   1\n",
      "M        Nam  163    58   1\n",
      "N         Nu  160    56   0\n",
      "O         Nu  158    54   0\n",
      "P        Nam  169    62   1\n",
      "Q        Nam  172    63   1\n",
      "S         Nu  170    62   0\n",
      "T        Nam  176    62   1\n",
      "U        Nam  180    69   1\n",
      "Tổng bình phương sai số trên tập mẫu: 2.2683723118445966\n",
      "Hệ số hồi quy: [ 0.6433621  -1.20920875]\n",
      "Sai số: -46.63724604127721\n",
      "Công thức: [Nặng] = [ 0.6433621  -1.20920875] x [Cao, Giới tính] + -46.63724604127721\n",
      "Nam giới cao 175.0 cm, dự báo cân nặng [64.74191232]\n",
      "Nữ giới cao 175.0 cm, dự báo cân nặng [65.95112107]\n"
     ]
    }
   ],
   "source": [
    "\n",
    "# đọc dữ liệu từ file csv\n",
    "df = pd.read_csv(\"nguoi2.csv\", index_col = 0)\n",
    "print(df)\n",
    "# thêm cột mới, giới tính Nam = 1, giới tính Nữ = 0\n",
    "df['GT'] = df.Gioitinh.apply(lambda x: 1 if x=='Nam' else 0)\n",
    "print(df)\n",
    "# sử dụng hồi quy tuyến tính\n",
    "X = df.loc[:, ['Cao', 'GT']].values\n",
    "y = df.Nang.values\n",
    "\n",
    "# X là dữ liệu đầu vào\n",
    "# y là dữ liệu đầu ra\n",
    "model = linear_model.LinearRegression() # loại mô hình\n",
    "model.fit(X, y) # tập huấn trên dữ liệu\n",
    "\n",
    "# in một số thông tin về mô hình\n",
    "mse = metrics.mean_squared_error(model.predict(X), y)\n",
    "print(\"Tổng bình phương sai số trên tập mẫu:\", mse)\n",
    "print(\"Hệ số hồi quy:\", model.coef_)\n",
    "print(\"Sai số:\", model.intercept_)\n",
    "print(f\"Công thức: [Nặng] = {model.coef_} x [Cao, Giới tính] + {model.intercept_}\")\n",
    "\n",
    "# dự báo một số tình huống\n",
    "while True:\n",
    "\n",
    " x = float(input(\"Nhập chiều cao (nhập 0 để dừng): \"))\n",
    " if x <= 0: break\n",
    " print(\"Nam giới cao\", x, \"cm, dự báo cân nặng\",\n",
    "\n",
    " model.predict([[x, 1]]))\n",
    "\n",
    " print(\"Nữ giới cao\", x, \"cm, dự báo cân nặng\",\n",
    "\n",
    " model.predict([[x, 0]]))"
   ]
  },
  {
   "cell_type": "markdown",
   "id": "952eb5fc",
   "metadata": {},
   "source": [
    "## Kết thúc"
   ]
  },
  {
   "cell_type": "code",
   "execution_count": 1,
   "id": "002f3f16",
   "metadata": {},
   "outputs": [
    {
     "name": "stdout",
     "output_type": "stream",
     "text": [
      "[NbConvertApp] Converting notebook PNMP.ipynb to html\n",
      "[NbConvertApp] WARNING | Alternative text is missing on 17 image(s).\n",
      "[NbConvertApp] Writing 1154392 bytes to PNMP.html\n"
     ]
    }
   ],
   "source": [
    "!jupyter nbconvert --to html \"PNMP.ipynb\""
   ]
  }
 ],
 "metadata": {
  "kernelspec": {
   "display_name": "Python 3",
   "language": "python",
   "name": "python3"
  },
  "language_info": {
   "codemirror_mode": {
    "name": "ipython",
    "version": 3
   },
   "file_extension": ".py",
   "mimetype": "text/x-python",
   "name": "python",
   "nbconvert_exporter": "python",
   "pygments_lexer": "ipython3",
   "version": "3.12.1"
  }
 },
 "nbformat": 4,
 "nbformat_minor": 5
}
